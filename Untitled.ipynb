{
 "cells": [
  {
   "cell_type": "code",
   "execution_count": 1,
   "metadata": {},
   "outputs": [],
   "source": [
    "import pandas as pd\n",
    "import numpy as np\n",
    "import seaborn as sns\n",
    "import plotly.graph_objs as go"
   ]
  },
  {
   "cell_type": "code",
   "execution_count": 2,
   "metadata": {},
   "outputs": [],
   "source": [
    "data_dir = 'data'"
   ]
  },
  {
   "cell_type": "code",
   "execution_count": 3,
   "metadata": {},
   "outputs": [],
   "source": [
    "import os"
   ]
  },
  {
   "cell_type": "code",
   "execution_count": 5,
   "metadata": {},
   "outputs": [],
   "source": [
    "df_au = pd.read_csv(os.path.join(data_dir, 'account universe.csv'))"
   ]
  },
  {
   "cell_type": "code",
   "execution_count": 81,
   "metadata": {},
   "outputs": [],
   "source": [
    "df_cancer = pd.read_csv(os.path.join(data_dir, 'cancer.csv'))\n",
    "df_waiting = pd.read_csv(os.path.join(data_dir, 'waiting.csv'))"
   ]
  },
  {
   "cell_type": "code",
   "execution_count": 82,
   "metadata": {},
   "outputs": [
    {
     "data": {
      "text/html": [
       "<div>\n",
       "<style scoped>\n",
       "    .dataframe tbody tr th:only-of-type {\n",
       "        vertical-align: middle;\n",
       "    }\n",
       "\n",
       "    .dataframe tbody tr th {\n",
       "        vertical-align: top;\n",
       "    }\n",
       "\n",
       "    .dataframe thead th {\n",
       "        text-align: right;\n",
       "    }\n",
       "</style>\n",
       "<table border=\"1\" class=\"dataframe\">\n",
       "  <thead>\n",
       "    <tr style=\"text-align: right;\">\n",
       "      <th></th>\n",
       "      <th>Provider Org Code</th>\n",
       "      <th>Period</th>\n",
       "      <th>Diagnostic Tests</th>\n",
       "      <th>Under 6</th>\n",
       "      <th>Over 6</th>\n",
       "      <th>Over 13</th>\n",
       "      <th>Total on Waiting List</th>\n",
       "      <th>Waiting List</th>\n",
       "      <th>Activity</th>\n",
       "    </tr>\n",
       "  </thead>\n",
       "  <tbody>\n",
       "    <tr>\n",
       "      <th>0</th>\n",
       "      <td>A84031</td>\n",
       "      <td>2018-04-01</td>\n",
       "      <td>AUDIOLOGY_ASSESSMENTS</td>\n",
       "      <td>0</td>\n",
       "      <td>0</td>\n",
       "      <td>0</td>\n",
       "      <td>0</td>\n",
       "      <td>0</td>\n",
       "      <td>0</td>\n",
       "    </tr>\n",
       "    <tr>\n",
       "      <th>1</th>\n",
       "      <td>A84031</td>\n",
       "      <td>2018-04-01</td>\n",
       "      <td>BARIUM_ENEMA</td>\n",
       "      <td>0</td>\n",
       "      <td>0</td>\n",
       "      <td>0</td>\n",
       "      <td>0</td>\n",
       "      <td>0</td>\n",
       "      <td>0</td>\n",
       "    </tr>\n",
       "    <tr>\n",
       "      <th>2</th>\n",
       "      <td>A84031</td>\n",
       "      <td>2018-04-01</td>\n",
       "      <td>COLONOSCOPY</td>\n",
       "      <td>0</td>\n",
       "      <td>0</td>\n",
       "      <td>0</td>\n",
       "      <td>0</td>\n",
       "      <td>0</td>\n",
       "      <td>0</td>\n",
       "    </tr>\n",
       "    <tr>\n",
       "      <th>3</th>\n",
       "      <td>A84031</td>\n",
       "      <td>2018-04-01</td>\n",
       "      <td>CT</td>\n",
       "      <td>0</td>\n",
       "      <td>0</td>\n",
       "      <td>0</td>\n",
       "      <td>0</td>\n",
       "      <td>0</td>\n",
       "      <td>0</td>\n",
       "    </tr>\n",
       "    <tr>\n",
       "      <th>4</th>\n",
       "      <td>A84031</td>\n",
       "      <td>2018-04-01</td>\n",
       "      <td>CYSTOSCOPY</td>\n",
       "      <td>0</td>\n",
       "      <td>0</td>\n",
       "      <td>0</td>\n",
       "      <td>0</td>\n",
       "      <td>0</td>\n",
       "      <td>0</td>\n",
       "    </tr>\n",
       "  </tbody>\n",
       "</table>\n",
       "</div>"
      ],
      "text/plain": [
       "  Provider Org Code      Period       Diagnostic Tests  Under 6  Over 6  \\\n",
       "0            A84031  2018-04-01  AUDIOLOGY_ASSESSMENTS        0       0   \n",
       "1            A84031  2018-04-01           BARIUM_ENEMA        0       0   \n",
       "2            A84031  2018-04-01            COLONOSCOPY        0       0   \n",
       "3            A84031  2018-04-01                     CT        0       0   \n",
       "4            A84031  2018-04-01             CYSTOSCOPY        0       0   \n",
       "\n",
       "   Over 13  Total on Waiting List  Waiting List  Activity  \n",
       "0        0                      0             0         0  \n",
       "1        0                      0             0         0  \n",
       "2        0                      0             0         0  \n",
       "3        0                      0             0         0  \n",
       "4        0                      0             0         0  "
      ]
     },
     "execution_count": 82,
     "metadata": {},
     "output_type": "execute_result"
    }
   ],
   "source": [
    "df_waiting.head()"
   ]
  },
  {
   "cell_type": "code",
   "execution_count": 83,
   "metadata": {},
   "outputs": [],
   "source": [
    "df_waiting = pd.merge(df_waiting, df_au, left_on='Provider Org Code', right_on='Organisational Code')"
   ]
  },
  {
   "cell_type": "code",
   "execution_count": 84,
   "metadata": {},
   "outputs": [],
   "source": [
    "df_cancer.head()\n",
    "df_cancer = pd.merge(df_cancer, df_au, left_on='ODS Code', right_on='Organisational Code')"
   ]
  },
  {
   "cell_type": "code",
   "execution_count": 85,
   "metadata": {},
   "outputs": [],
   "source": [
    "names = [\n",
    "    'BUCKINGHAMSHIRE HEALTHCARE NHS TRUST',\n",
    "    'HAMPSHIRE HOSPITALS NHS FOUNDATION TRUST',\n",
    "    'ROYAL BERKSHIRE NHS FOUNDATION TRUST',\n",
    "    'OXFORD UNIVERSITY HOSPITALS NHS FOUNDATION TRUST',\n",
    "]\n",
    "\n",
    "df_hampshire = df_waiting[df_waiting['Name'].isin(names)]"
   ]
  },
  {
   "cell_type": "code",
   "execution_count": 86,
   "metadata": {},
   "outputs": [],
   "source": [
    "df_cancer_hamp = df_cancer[df_cancer['Name'].isin(names)]"
   ]
  },
  {
   "cell_type": "code",
   "execution_count": 87,
   "metadata": {},
   "outputs": [],
   "source": [
    "from philips_colors import philips"
   ]
  },
  {
   "cell_type": "code",
   "execution_count": 88,
   "metadata": {},
   "outputs": [],
   "source": [
    "sns.set_palette(philips())"
   ]
  },
  {
   "cell_type": "code",
   "execution_count": 89,
   "metadata": {},
   "outputs": [],
   "source": [
    "df_hampshire_group = df_hampshire.groupby(['Period','Name']).sum()\n",
    "df_hampshire_test = df_hampshire.groupby(['Period', 'Name', 'Diagnostic Tests']).sum()"
   ]
  },
  {
   "cell_type": "code",
   "execution_count": 90,
   "metadata": {},
   "outputs": [],
   "source": [
    "df_hampshire_group['Over 6 Percentage'] = df_hampshire_group['Over 6'] / df_hampshire_group['Total on Waiting List']\n",
    "df_hampshire_test['Over 6 Percentage'] = df_hampshire_test['Over 6'] / df_hampshire_test['Total on Waiting List']"
   ]
  },
  {
   "cell_type": "code",
   "execution_count": 91,
   "metadata": {},
   "outputs": [],
   "source": [
    "df_hampshire_group.reset_index(inplace=True)\n",
    "df_hampshire_test.reset_index(inplace=True)"
   ]
  },
  {
   "cell_type": "code",
   "execution_count": 92,
   "metadata": {},
   "outputs": [
    {
     "data": {
      "text/plain": [
       "<matplotlib.axes._subplots.AxesSubplot at 0x21ce50c02e8>"
      ]
     },
     "execution_count": 92,
     "metadata": {},
     "output_type": "execute_result"
    },
    {
     "data": {
      "image/png": "[encoded data removed]",
      "text/plain": [
       "<Figure size 432x288 with 1 Axes>"
      ]
     },
     "metadata": {
      "needs_background": "light"
     },
     "output_type": "display_data"
    }
   ],
   "source": [
    "sns.boxplot(data=df_hampshire_group, x='Name', y='Over 6 Percentage')"
   ]
  },
  {
   "cell_type": "code",
   "execution_count": 93,
   "metadata": {},
   "outputs": [],
   "source": [
    "import plotly.express as px"
   ]
  },
  {
   "cell_type": "code",
   "execution_count": 94,
   "metadata": {},
   "outputs": [
    {
     "data": {
      "application/vnd.plotly.v1+json": {
       "config": {
        "plotlyServerURL": "https://plot.ly"
       },
       "data": [
        {
         "alignmentgroup": "True",
         "boxpoints": "all",
         "hoverlabel": {
          "namelength": 0
         },
         "hovertemplate": "Name=%{x}<br>Over 6=%{y}",
         "legendgroup": "",
         "marker": {
          "color": "#636efa"
         },
         "name": "",
         "notched": false,
         "offsetgroup": "",
         "orientation": "v",
         "showlegend": false,
         "type": "box",
         "x": [
          "BUCKINGHAMSHIRE HEALTHCARE NHS TRUST",
          "HAMPSHIRE HOSPITALS NHS FOUNDATION TRUST",
          "OXFORD UNIVERSITY HOSPITALS NHS FOUNDATION TRUST",
          "ROYAL BERKSHIRE NHS FOUNDATION TRUST",
          "BUCKINGHAMSHIRE HEALTHCARE NHS TRUST",
          "HAMPSHIRE HOSPITALS NHS FOUNDATION TRUST",
          "OXFORD UNIVERSITY HOSPITALS NHS FOUNDATION TRUST",
          "ROYAL BERKSHIRE NHS FOUNDATION TRUST",
          "BUCKINGHAMSHIRE HEALTHCARE NHS TRUST",
          "HAMPSHIRE HOSPITALS NHS FOUNDATION TRUST",
          "OXFORD UNIVERSITY HOSPITALS NHS FOUNDATION TRUST",
          "ROYAL BERKSHIRE NHS FOUNDATION TRUST",
          "BUCKINGHAMSHIRE HEALTHCARE NHS TRUST",
          "HAMPSHIRE HOSPITALS NHS FOUNDATION TRUST",
          "OXFORD UNIVERSITY HOSPITALS NHS FOUNDATION TRUST",
          "ROYAL BERKSHIRE NHS FOUNDATION TRUST",
          "BUCKINGHAMSHIRE HEALTHCARE NHS TRUST",
          "HAMPSHIRE HOSPITALS NHS FOUNDATION TRUST",
          "OXFORD UNIVERSITY HOSPITALS NHS FOUNDATION TRUST",
          "ROYAL BERKSHIRE NHS FOUNDATION TRUST",
          "BUCKINGHAMSHIRE HEALTHCARE NHS TRUST",
          "HAMPSHIRE HOSPITALS NHS FOUNDATION TRUST",
          "OXFORD UNIVERSITY HOSPITALS NHS FOUNDATION TRUST",
          "ROYAL BERKSHIRE NHS FOUNDATION TRUST",
          "BUCKINGHAMSHIRE HEALTHCARE NHS TRUST",
          "HAMPSHIRE HOSPITALS NHS FOUNDATION TRUST",
          "OXFORD UNIVERSITY HOSPITALS NHS FOUNDATION TRUST",
          "ROYAL BERKSHIRE NHS FOUNDATION TRUST",
          "BUCKINGHAMSHIRE HEALTHCARE NHS TRUST",
          "HAMPSHIRE HOSPITALS NHS FOUNDATION TRUST",
          "OXFORD UNIVERSITY HOSPITALS NHS FOUNDATION TRUST",
          "ROYAL BERKSHIRE NHS FOUNDATION TRUST",
          "BUCKINGHAMSHIRE HEALTHCARE NHS TRUST",
          "HAMPSHIRE HOSPITALS NHS FOUNDATION TRUST",
          "OXFORD UNIVERSITY HOSPITALS NHS FOUNDATION TRUST",
          "ROYAL BERKSHIRE NHS FOUNDATION TRUST",
          "BUCKINGHAMSHIRE HEALTHCARE NHS TRUST",
          "HAMPSHIRE HOSPITALS NHS FOUNDATION TRUST",
          "OXFORD UNIVERSITY HOSPITALS NHS FOUNDATION TRUST",
          "ROYAL BERKSHIRE NHS FOUNDATION TRUST",
          "BUCKINGHAMSHIRE HEALTHCARE NHS TRUST",
          "HAMPSHIRE HOSPITALS NHS FOUNDATION TRUST",
          "OXFORD UNIVERSITY HOSPITALS NHS FOUNDATION TRUST",
          "ROYAL BERKSHIRE NHS FOUNDATION TRUST",
          "BUCKINGHAMSHIRE HEALTHCARE NHS TRUST",
          "HAMPSHIRE HOSPITALS NHS FOUNDATION TRUST",
          "OXFORD UNIVERSITY HOSPITALS NHS FOUNDATION TRUST",
          "ROYAL BERKSHIRE NHS FOUNDATION TRUST",
          "BUCKINGHAMSHIRE HEALTHCARE NHS TRUST",
          "HAMPSHIRE HOSPITALS NHS FOUNDATION TRUST",
          "OXFORD UNIVERSITY HOSPITALS NHS FOUNDATION TRUST",
          "ROYAL BERKSHIRE NHS FOUNDATION TRUST",
          "BUCKINGHAMSHIRE HEALTHCARE NHS TRUST",
          "HAMPSHIRE HOSPITALS NHS FOUNDATION TRUST",
          "OXFORD UNIVERSITY HOSPITALS NHS FOUNDATION TRUST",
          "ROYAL BERKSHIRE NHS FOUNDATION TRUST",
          "BUCKINGHAMSHIRE HEALTHCARE NHS TRUST",
          "HAMPSHIRE HOSPITALS NHS FOUNDATION TRUST",
          "OXFORD UNIVERSITY HOSPITALS NHS FOUNDATION TRUST",
          "ROYAL BERKSHIRE NHS FOUNDATION TRUST",
          "BUCKINGHAMSHIRE HEALTHCARE NHS TRUST",
          "HAMPSHIRE HOSPITALS NHS FOUNDATION TRUST",
          "OXFORD UNIVERSITY HOSPITALS NHS FOUNDATION TRUST",
          "ROYAL BERKSHIRE NHS FOUNDATION TRUST",
          "BUCKINGHAMSHIRE HEALTHCARE NHS TRUST",
          "HAMPSHIRE HOSPITALS NHS FOUNDATION TRUST",
          "OXFORD UNIVERSITY HOSPITALS NHS FOUNDATION TRUST",
          "ROYAL BERKSHIRE NHS FOUNDATION TRUST",
          "BUCKINGHAMSHIRE HEALTHCARE NHS TRUST",
          "HAMPSHIRE HOSPITALS NHS FOUNDATION TRUST",
          "OXFORD UNIVERSITY HOSPITALS NHS FOUNDATION TRUST",
          "ROYAL BERKSHIRE NHS FOUNDATION TRUST"
         ],
         "x0": " ",
         "xaxis": "x",
         "y": [
          0,
          243,
          206,
          95,
          26,
          399,
          319,
          146,
          24,
          550,
          387,
          174,
          13,
          420,
          330,
          120,
          0,
          127,
          290,
          78,
          0,
          186,
          233,
          46,
          22,
          98,
          216,
          61,
          16,
          106,
          204,
          79,
          3,
          110,
          164,
          158,
          0,
          205,
          343,
          276,
          1,
          111,
          232,
          109,
          13,
          124,
          291,
          131,
          162,
          181,
          300,
          225,
          129,
          133,
          343,
          268,
          67,
          118,
          289,
          234,
          1,
          140,
          235,
          285,
          3,
          130,
          324,
          332,
          9,
          138,
          294,
          294
         ],
         "y0": " ",
         "yaxis": "y"
        }
       ],
       "layout": {
        "boxmode": "group",
        "legend": {
         "tracegroupgap": 0
        },
        "template": {
         "data": {
          "bar": [
           {
            "error_x": {
             "color": "#2a3f5f"
            },
            "error_y": {
             "color": "#2a3f5f"
            },
            "marker": {
             "line": {
              "color": "#E5ECF6",
              "width": 0.5
             }
            },
            "type": "bar"
           }
          ],
          "barpolar": [
           {
            "marker": {
             "line": {
              "color": "#E5ECF6",
              "width": 0.5
             }
            },
            "type": "barpolar"
           }
          ],
          "carpet": [
           {
            "aaxis": {
             "endlinecolor": "#2a3f5f",
             "gridcolor": "white",
             "linecolor": "white",
             "minorgridcolor": "white",
             "startlinecolor": "#2a3f5f"
            },
            "baxis": {
             "endlinecolor": "#2a3f5f",
             "gridcolor": "white",
             "linecolor": "white",
             "minorgridcolor": "white",
             "startlinecolor": "#2a3f5f"
            },
            "type": "carpet"
           }
          ],
          "choropleth": [
           {
            "colorbar": {
             "outlinewidth": 0,
             "ticks": ""
            },
            "type": "choropleth"
           }
          ],
          "contour": [
           {
            "colorbar": {
             "outlinewidth": 0,
             "ticks": ""
            },
            "colorscale": [
             [
              0,
              "#0d0887"
             ],
             [
              0.1111111111111111,
              "#46039f"
             ],
             [
              0.2222222222222222,
              "#7201a8"
             ],
             [
              0.3333333333333333,
              "#9c179e"
             ],
             [
              0.4444444444444444,
              "#bd3786"
             ],
             [
              0.5555555555555556,
              "#d8576b"
             ],
             [
              0.6666666666666666,
              "#ed7953"
             ],
             [
              0.7777777777777778,
              "#fb9f3a"
             ],
             [
              0.8888888888888888,
              "#fdca26"
             ],
             [
              1,
              "#f0f921"
             ]
            ],
            "type": "contour"
           }
          ],
          "contourcarpet": [
           {
            "colorbar": {
             "outlinewidth": 0,
             "ticks": ""
            },
            "type": "contourcarpet"
           }
          ],
          "heatmap": [
           {
            "colorbar": {
             "outlinewidth": 0,
             "ticks": ""
            },
            "colorscale": [
             [
              0,
              "#0d0887"
             ],
             [
              0.1111111111111111,
              "#46039f"
             ],
             [
              0.2222222222222222,
              "#7201a8"
             ],
             [
              0.3333333333333333,
              "#9c179e"
             ],
             [
              0.4444444444444444,
              "#bd3786"
             ],
             [
              0.5555555555555556,
              "#d8576b"
             ],
             [
              0.6666666666666666,
              "#ed7953"
             ],
             [
              0.7777777777777778,
              "#fb9f3a"
             ],
             [
              0.8888888888888888,
              "#fdca26"
             ],
             [
              1,
              "#f0f921"
             ]
            ],
            "type": "heatmap"
           }
          ],
          "heatmapgl": [
           {
            "colorbar": {
             "outlinewidth": 0,
             "ticks": ""
            },
            "colorscale": [
             [
              0,
              "#0d0887"
             ],
             [
              0.1111111111111111,
              "#46039f"
             ],
             [
              0.2222222222222222,
              "#7201a8"
             ],
             [
              0.3333333333333333,
              "#9c179e"
             ],
             [
              0.4444444444444444,
              "#bd3786"
             ],
             [
              0.5555555555555556,
              "#d8576b"
             ],
             [
              0.6666666666666666,
              "#ed7953"
             ],
             [
              0.7777777777777778,
              "#fb9f3a"
             ],
             [
              0.8888888888888888,
              "#fdca26"
             ],
             [
              1,
              "#f0f921"
             ]
            ],
            "type": "heatmapgl"
           }
          ],
          "histogram": [
           {
            "marker": {
             "colorbar": {
              "outlinewidth": 0,
              "ticks": ""
             }
            },
            "type": "histogram"
           }
          ],
          "histogram2d": [
           {
            "colorbar": {
             "outlinewidth": 0,
             "ticks": ""
            },
            "colorscale": [
             [
              0,
              "#0d0887"
             ],
             [
              0.1111111111111111,
              "#46039f"
             ],
             [
              0.2222222222222222,
              "#7201a8"
             ],
             [
              0.3333333333333333,
              "#9c179e"
             ],
             [
              0.4444444444444444,
              "#bd3786"
             ],
             [
              0.5555555555555556,
              "#d8576b"
             ],
             [
              0.6666666666666666,
              "#ed7953"
             ],
             [
              0.7777777777777778,
              "#fb9f3a"
             ],
             [
              0.8888888888888888,
              "#fdca26"
             ],
             [
              1,
              "#f0f921"
             ]
            ],
            "type": "histogram2d"
           }
          ],
          "histogram2dcontour": [
           {
            "colorbar": {
             "outlinewidth": 0,
             "ticks": ""
            },
            "colorscale": [
             [
              0,
              "#0d0887"
             ],
             [
              0.1111111111111111,
              "#46039f"
             ],
             [
              0.2222222222222222,
              "#7201a8"
             ],
             [
              0.3333333333333333,
              "#9c179e"
             ],
             [
              0.4444444444444444,
              "#bd3786"
             ],
             [
              0.5555555555555556,
              "#d8576b"
             ],
             [
              0.6666666666666666,
              "#ed7953"
             ],
             [
              0.7777777777777778,
              "#fb9f3a"
             ],
             [
              0.8888888888888888,
              "#fdca26"
             ],
             [
              1,
              "#f0f921"
             ]
            ],
            "type": "histogram2dcontour"
           }
          ],
          "mesh3d": [
           {
            "colorbar": {
             "outlinewidth": 0,
             "ticks": ""
            },
            "type": "mesh3d"
           }
          ],
          "parcoords": [
           {
            "line": {
             "colorbar": {
              "outlinewidth": 0,
              "ticks": ""
             }
            },
            "type": "parcoords"
           }
          ],
          "pie": [
           {
            "automargin": true,
            "type": "pie"
           }
          ],
          "scatter": [
           {
            "marker": {
             "colorbar": {
              "outlinewidth": 0,
              "ticks": ""
             }
            },
            "type": "scatter"
           }
          ],
          "scatter3d": [
           {
            "line": {
             "colorbar": {
              "outlinewidth": 0,
              "ticks": ""
             }
            },
            "marker": {
             "colorbar": {
              "outlinewidth": 0,
              "ticks": ""
             }
            },
            "type": "scatter3d"
           }
          ],
          "scattercarpet": [
           {
            "marker": {
             "colorbar": {
              "outlinewidth": 0,
              "ticks": ""
             }
            },
            "type": "scattercarpet"
           }
          ],
          "scattergeo": [
           {
            "marker": {
             "colorbar": {
              "outlinewidth": 0,
              "ticks": ""
             }
            },
            "type": "scattergeo"
           }
          ],
          "scattergl": [
           {
            "marker": {
             "colorbar": {
              "outlinewidth": 0,
              "ticks": ""
             }
            },
            "type": "scattergl"
           }
          ],
          "scattermapbox": [
           {
            "marker": {
             "colorbar": {
              "outlinewidth": 0,
              "ticks": ""
             }
            },
            "type": "scattermapbox"
           }
          ],
          "scatterpolar": [
           {
            "marker": {
             "colorbar": {
              "outlinewidth": 0,
              "ticks": ""
             }
            },
            "type": "scatterpolar"
           }
          ],
          "scatterpolargl": [
           {
            "marker": {
             "colorbar": {
              "outlinewidth": 0,
              "ticks": ""
             }
            },
            "type": "scatterpolargl"
           }
          ],
          "scatterternary": [
           {
            "marker": {
             "colorbar": {
              "outlinewidth": 0,
              "ticks": ""
             }
            },
            "type": "scatterternary"
           }
          ],
          "surface": [
           {
            "colorbar": {
             "outlinewidth": 0,
             "ticks": ""
            },
            "colorscale": [
             [
              0,
              "#0d0887"
             ],
             [
              0.1111111111111111,
              "#46039f"
             ],
             [
              0.2222222222222222,
              "#7201a8"
             ],
             [
              0.3333333333333333,
              "#9c179e"
             ],
             [
              0.4444444444444444,
              "#bd3786"
             ],
             [
              0.5555555555555556,
              "#d8576b"
             ],
             [
              0.6666666666666666,
              "#ed7953"
             ],
             [
              0.7777777777777778,
              "#fb9f3a"
             ],
             [
              0.8888888888888888,
              "#fdca26"
             ],
             [
              1,
              "#f0f921"
             ]
            ],
            "type": "surface"
           }
          ],
          "table": [
           {
            "cells": {
             "fill": {
              "color": "#EBF0F8"
             },
             "line": {
              "color": "white"
             }
            },
            "header": {
             "fill": {
              "color": "#C8D4E3"
             },
             "line": {
              "color": "white"
             }
            },
            "type": "table"
           }
          ]
         },
         "layout": {
          "annotationdefaults": {
           "arrowcolor": "#2a3f5f",
           "arrowhead": 0,
           "arrowwidth": 1
          },
          "coloraxis": {
           "colorbar": {
            "outlinewidth": 0,
            "ticks": ""
           }
          },
          "colorscale": {
           "diverging": [
            [
             0,
             "#8e0152"
            ],
            [
             0.1,
             "#c51b7d"
            ],
            [
             0.2,
             "#de77ae"
            ],
            [
             0.3,
             "#f1b6da"
            ],
            [
             0.4,
             "#fde0ef"
            ],
            [
             0.5,
             "#f7f7f7"
            ],
            [
             0.6,
             "#e6f5d0"
            ],
            [
             0.7,
             "#b8e186"
            ],
            [
             0.8,
             "#7fbc41"
            ],
            [
             0.9,
             "#4d9221"
            ],
            [
             1,
             "#276419"
            ]
           ],
           "sequential": [
            [
             0,
             "#0d0887"
            ],
            [
             0.1111111111111111,
             "#46039f"
            ],
            [
             0.2222222222222222,
             "#7201a8"
            ],
            [
             0.3333333333333333,
             "#9c179e"
            ],
            [
             0.4444444444444444,
             "#bd3786"
            ],
            [
             0.5555555555555556,
             "#d8576b"
            ],
            [
             0.6666666666666666,
             "#ed7953"
            ],
            [
             0.7777777777777778,
             "#fb9f3a"
            ],
            [
             0.8888888888888888,
             "#fdca26"
            ],
            [
             1,
             "#f0f921"
            ]
           ],
           "sequentialminus": [
            [
             0,
             "#0d0887"
            ],
            [
             0.1111111111111111,
             "#46039f"
            ],
            [
             0.2222222222222222,
             "#7201a8"
            ],
            [
             0.3333333333333333,
             "#9c179e"
            ],
            [
             0.4444444444444444,
             "#bd3786"
            ],
            [
             0.5555555555555556,
             "#d8576b"
            ],
            [
             0.6666666666666666,
             "#ed7953"
            ],
            [
             0.7777777777777778,
             "#fb9f3a"
            ],
            [
             0.8888888888888888,
             "#fdca26"
            ],
            [
             1,
             "#f0f921"
            ]
           ]
          },
          "colorway": [
           "#636efa",
           "#EF553B",
           "#00cc96",
           "#ab63fa",
           "#FFA15A",
           "#19d3f3",
           "#FF6692",
           "#B6E880",
           "#FF97FF",
           "#FECB52"
          ],
          "font": {
           "color": "#2a3f5f"
          },
          "geo": {
           "bgcolor": "white",
           "lakecolor": "white",
           "landcolor": "#E5ECF6",
           "showlakes": true,
           "showland": true,
           "subunitcolor": "white"
          },
          "hoverlabel": {
           "align": "left"
          },
          "hovermode": "closest",
          "mapbox": {
           "style": "light"
          },
          "paper_bgcolor": "white",
          "plot_bgcolor": "#E5ECF6",
          "polar": {
           "angularaxis": {
            "gridcolor": "white",
            "linecolor": "white",
            "ticks": ""
           },
           "bgcolor": "#E5ECF6",
           "radialaxis": {
            "gridcolor": "white",
            "linecolor": "white",
            "ticks": ""
           }
          },
          "scene": {
           "xaxis": {
            "backgroundcolor": "#E5ECF6",
            "gridcolor": "white",
            "gridwidth": 2,
            "linecolor": "white",
            "showbackground": true,
            "ticks": "",
            "zerolinecolor": "white"
           },
           "yaxis": {
            "backgroundcolor": "#E5ECF6",
            "gridcolor": "white",
            "gridwidth": 2,
            "linecolor": "white",
            "showbackground": true,
            "ticks": "",
            "zerolinecolor": "white"
           },
           "zaxis": {
            "backgroundcolor": "#E5ECF6",
            "gridcolor": "white",
            "gridwidth": 2,
            "linecolor": "white",
            "showbackground": true,
            "ticks": "",
            "zerolinecolor": "white"
           }
          },
          "shapedefaults": {
           "line": {
            "color": "#2a3f5f"
           }
          },
          "ternary": {
           "aaxis": {
            "gridcolor": "white",
            "linecolor": "white",
            "ticks": ""
           },
           "baxis": {
            "gridcolor": "white",
            "linecolor": "white",
            "ticks": ""
           },
           "bgcolor": "#E5ECF6",
           "caxis": {
            "gridcolor": "white",
            "linecolor": "white",
            "ticks": ""
           }
          },
          "title": {
           "x": 0.05
          },
          "xaxis": {
           "automargin": true,
           "gridcolor": "white",
           "linecolor": "white",
           "ticks": "",
           "title": {
            "standoff": 15
           },
           "zerolinecolor": "white",
           "zerolinewidth": 2
          },
          "yaxis": {
           "automargin": true,
           "gridcolor": "white",
           "linecolor": "white",
           "ticks": "",
           "title": {
            "standoff": 15
           },
           "zerolinecolor": "white",
           "zerolinewidth": 2
          }
         }
        },
        "title": {
         "text": "Mean Patients Waiting over 6 Weeks 2018-2019"
        },
        "xaxis": {
         "anchor": "y",
         "domain": [
          0,
          1
         ],
         "title": {
          "text": "Name"
         }
        },
        "yaxis": {
         "anchor": "x",
         "domain": [
          0,
          1
         ],
         "title": {
          "text": "Over 6"
         }
        }
       }
      },
      "text/html": [
       "<div>\n",
       "        \n",
       "        \n",
       "            <div id=\"d63b9256-ebfd-4521-b80e-bfc90b138ea5\" class=\"plotly-graph-div\" style=\"height:525px; width:100%;\"></div>\n",
       "            <script type=\"text/javascript\">\n",
       "                require([\"plotly\"], function(Plotly) {\n",
       "                    window.PLOTLYENV=window.PLOTLYENV || {};\n",
       "                    \n",
       "                if (document.getElementById(\"d63b9256-ebfd-4521-b80e-bfc90b138ea5\")) {\n",
       "                    Plotly.newPlot(\n",
       "                        'd63b9256-ebfd-4521-b80e-bfc90b138ea5',\n",
       "                        [{\"alignmentgroup\": \"True\", \"boxpoints\": \"all\", \"hoverlabel\": {\"namelength\": 0}, \"hovertemplate\": \"Name=%{x}<br>Over 6=%{y}\", \"legendgroup\": \"\", \"marker\": {\"color\": \"#636efa\"}, \"name\": \"\", \"notched\": false, \"offsetgroup\": \"\", \"orientation\": \"v\", \"showlegend\": false, \"type\": \"box\", \"x\": [\"BUCKINGHAMSHIRE HEALTHCARE NHS TRUST\", \"HAMPSHIRE HOSPITALS NHS FOUNDATION TRUST\", \"OXFORD UNIVERSITY HOSPITALS NHS FOUNDATION TRUST\", \"ROYAL BERKSHIRE NHS FOUNDATION TRUST\", \"BUCKINGHAMSHIRE HEALTHCARE NHS TRUST\", \"HAMPSHIRE HOSPITALS NHS FOUNDATION TRUST\", \"OXFORD UNIVERSITY HOSPITALS NHS FOUNDATION TRUST\", \"ROYAL BERKSHIRE NHS FOUNDATION TRUST\", \"BUCKINGHAMSHIRE HEALTHCARE NHS TRUST\", \"HAMPSHIRE HOSPITALS NHS FOUNDATION TRUST\", \"OXFORD UNIVERSITY HOSPITALS NHS FOUNDATION TRUST\", \"ROYAL BERKSHIRE NHS FOUNDATION TRUST\", \"BUCKINGHAMSHIRE HEALTHCARE NHS TRUST\", \"HAMPSHIRE HOSPITALS NHS FOUNDATION TRUST\", \"OXFORD UNIVERSITY HOSPITALS NHS FOUNDATION TRUST\", \"ROYAL BERKSHIRE NHS FOUNDATION TRUST\", \"BUCKINGHAMSHIRE HEALTHCARE NHS TRUST\", \"HAMPSHIRE HOSPITALS NHS FOUNDATION TRUST\", \"OXFORD UNIVERSITY HOSPITALS NHS FOUNDATION TRUST\", \"ROYAL BERKSHIRE NHS FOUNDATION TRUST\", \"BUCKINGHAMSHIRE HEALTHCARE NHS TRUST\", \"HAMPSHIRE HOSPITALS NHS FOUNDATION TRUST\", \"OXFORD UNIVERSITY HOSPITALS NHS FOUNDATION TRUST\", \"ROYAL BERKSHIRE NHS FOUNDATION TRUST\", \"BUCKINGHAMSHIRE HEALTHCARE NHS TRUST\", \"HAMPSHIRE HOSPITALS NHS FOUNDATION TRUST\", \"OXFORD UNIVERSITY HOSPITALS NHS FOUNDATION TRUST\", \"ROYAL BERKSHIRE NHS FOUNDATION TRUST\", \"BUCKINGHAMSHIRE HEALTHCARE NHS TRUST\", \"HAMPSHIRE HOSPITALS NHS FOUNDATION TRUST\", \"OXFORD UNIVERSITY HOSPITALS NHS FOUNDATION TRUST\", \"ROYAL BERKSHIRE NHS FOUNDATION TRUST\", \"BUCKINGHAMSHIRE HEALTHCARE NHS TRUST\", \"HAMPSHIRE HOSPITALS NHS FOUNDATION TRUST\", \"OXFORD UNIVERSITY HOSPITALS NHS FOUNDATION TRUST\", \"ROYAL BERKSHIRE NHS FOUNDATION TRUST\", \"BUCKINGHAMSHIRE HEALTHCARE NHS TRUST\", \"HAMPSHIRE HOSPITALS NHS FOUNDATION TRUST\", \"OXFORD UNIVERSITY HOSPITALS NHS FOUNDATION TRUST\", \"ROYAL BERKSHIRE NHS FOUNDATION TRUST\", \"BUCKINGHAMSHIRE HEALTHCARE NHS TRUST\", \"HAMPSHIRE HOSPITALS NHS FOUNDATION TRUST\", \"OXFORD UNIVERSITY HOSPITALS NHS FOUNDATION TRUST\", \"ROYAL BERKSHIRE NHS FOUNDATION TRUST\", \"BUCKINGHAMSHIRE HEALTHCARE NHS TRUST\", \"HAMPSHIRE HOSPITALS NHS FOUNDATION TRUST\", \"OXFORD UNIVERSITY HOSPITALS NHS FOUNDATION TRUST\", \"ROYAL BERKSHIRE NHS FOUNDATION TRUST\", \"BUCKINGHAMSHIRE HEALTHCARE NHS TRUST\", \"HAMPSHIRE HOSPITALS NHS FOUNDATION TRUST\", \"OXFORD UNIVERSITY HOSPITALS NHS FOUNDATION TRUST\", \"ROYAL BERKSHIRE NHS FOUNDATION TRUST\", \"BUCKINGHAMSHIRE HEALTHCARE NHS TRUST\", \"HAMPSHIRE HOSPITALS NHS FOUNDATION TRUST\", \"OXFORD UNIVERSITY HOSPITALS NHS FOUNDATION TRUST\", \"ROYAL BERKSHIRE NHS FOUNDATION TRUST\", \"BUCKINGHAMSHIRE HEALTHCARE NHS TRUST\", \"HAMPSHIRE HOSPITALS NHS FOUNDATION TRUST\", \"OXFORD UNIVERSITY HOSPITALS NHS FOUNDATION TRUST\", \"ROYAL BERKSHIRE NHS FOUNDATION TRUST\", \"BUCKINGHAMSHIRE HEALTHCARE NHS TRUST\", \"HAMPSHIRE HOSPITALS NHS FOUNDATION TRUST\", \"OXFORD UNIVERSITY HOSPITALS NHS FOUNDATION TRUST\", \"ROYAL BERKSHIRE NHS FOUNDATION TRUST\", \"BUCKINGHAMSHIRE HEALTHCARE NHS TRUST\", \"HAMPSHIRE HOSPITALS NHS FOUNDATION TRUST\", \"OXFORD UNIVERSITY HOSPITALS NHS FOUNDATION TRUST\", \"ROYAL BERKSHIRE NHS FOUNDATION TRUST\", \"BUCKINGHAMSHIRE HEALTHCARE NHS TRUST\", \"HAMPSHIRE HOSPITALS NHS FOUNDATION TRUST\", \"OXFORD UNIVERSITY HOSPITALS NHS FOUNDATION TRUST\", \"ROYAL BERKSHIRE NHS FOUNDATION TRUST\"], \"x0\": \" \", \"xaxis\": \"x\", \"y\": [0, 243, 206, 95, 26, 399, 319, 146, 24, 550, 387, 174, 13, 420, 330, 120, 0, 127, 290, 78, 0, 186, 233, 46, 22, 98, 216, 61, 16, 106, 204, 79, 3, 110, 164, 158, 0, 205, 343, 276, 1, 111, 232, 109, 13, 124, 291, 131, 162, 181, 300, 225, 129, 133, 343, 268, 67, 118, 289, 234, 1, 140, 235, 285, 3, 130, 324, 332, 9, 138, 294, 294], \"y0\": \" \", \"yaxis\": \"y\"}],\n",
       "                        {\"boxmode\": \"group\", \"legend\": {\"tracegroupgap\": 0}, \"template\": {\"data\": {\"bar\": [{\"error_x\": {\"color\": \"#2a3f5f\"}, \"error_y\": {\"color\": \"#2a3f5f\"}, \"marker\": {\"line\": {\"color\": \"#E5ECF6\", \"width\": 0.5}}, \"type\": \"bar\"}], \"barpolar\": [{\"marker\": {\"line\": {\"color\": \"#E5ECF6\", \"width\": 0.5}}, \"type\": \"barpolar\"}], \"carpet\": [{\"aaxis\": {\"endlinecolor\": \"#2a3f5f\", \"gridcolor\": \"white\", \"linecolor\": \"white\", \"minorgridcolor\": \"white\", \"startlinecolor\": \"#2a3f5f\"}, \"baxis\": {\"endlinecolor\": \"#2a3f5f\", \"gridcolor\": \"white\", \"linecolor\": \"white\", \"minorgridcolor\": \"white\", \"startlinecolor\": \"#2a3f5f\"}, \"type\": \"carpet\"}], \"choropleth\": [{\"colorbar\": {\"outlinewidth\": 0, \"ticks\": \"\"}, \"type\": \"choropleth\"}], \"contour\": [{\"colorbar\": {\"outlinewidth\": 0, \"ticks\": \"\"}, \"colorscale\": [[0.0, \"#0d0887\"], [0.1111111111111111, \"#46039f\"], [0.2222222222222222, \"#7201a8\"], [0.3333333333333333, \"#9c179e\"], [0.4444444444444444, \"#bd3786\"], [0.5555555555555556, \"#d8576b\"], [0.6666666666666666, \"#ed7953\"], [0.7777777777777778, \"#fb9f3a\"], [0.8888888888888888, \"#fdca26\"], [1.0, \"#f0f921\"]], \"type\": \"contour\"}], \"contourcarpet\": [{\"colorbar\": {\"outlinewidth\": 0, \"ticks\": \"\"}, \"type\": \"contourcarpet\"}], \"heatmap\": [{\"colorbar\": {\"outlinewidth\": 0, \"ticks\": \"\"}, \"colorscale\": [[0.0, \"#0d0887\"], [0.1111111111111111, \"#46039f\"], [0.2222222222222222, \"#7201a8\"], [0.3333333333333333, \"#9c179e\"], [0.4444444444444444, \"#bd3786\"], [0.5555555555555556, \"#d8576b\"], [0.6666666666666666, \"#ed7953\"], [0.7777777777777778, \"#fb9f3a\"], [0.8888888888888888, \"#fdca26\"], [1.0, \"#f0f921\"]], \"type\": \"heatmap\"}], \"heatmapgl\": [{\"colorbar\": {\"outlinewidth\": 0, \"ticks\": \"\"}, \"colorscale\": [[0.0, \"#0d0887\"], [0.1111111111111111, \"#46039f\"], [0.2222222222222222, \"#7201a8\"], [0.3333333333333333, \"#9c179e\"], [0.4444444444444444, \"#bd3786\"], [0.5555555555555556, \"#d8576b\"], [0.6666666666666666, \"#ed7953\"], [0.7777777777777778, \"#fb9f3a\"], [0.8888888888888888, \"#fdca26\"], [1.0, \"#f0f921\"]], \"type\": \"heatmapgl\"}], \"histogram\": [{\"marker\": {\"colorbar\": {\"outlinewidth\": 0, \"ticks\": \"\"}}, \"type\": \"histogram\"}], \"histogram2d\": [{\"colorbar\": {\"outlinewidth\": 0, \"ticks\": \"\"}, \"colorscale\": [[0.0, \"#0d0887\"], [0.1111111111111111, \"#46039f\"], [0.2222222222222222, \"#7201a8\"], [0.3333333333333333, \"#9c179e\"], [0.4444444444444444, \"#bd3786\"], [0.5555555555555556, \"#d8576b\"], [0.6666666666666666, \"#ed7953\"], [0.7777777777777778, \"#fb9f3a\"], [0.8888888888888888, \"#fdca26\"], [1.0, \"#f0f921\"]], \"type\": \"histogram2d\"}], \"histogram2dcontour\": [{\"colorbar\": {\"outlinewidth\": 0, \"ticks\": \"\"}, \"colorscale\": [[0.0, \"#0d0887\"], [0.1111111111111111, \"#46039f\"], [0.2222222222222222, \"#7201a8\"], [0.3333333333333333, \"#9c179e\"], [0.4444444444444444, \"#bd3786\"], [0.5555555555555556, \"#d8576b\"], [0.6666666666666666, \"#ed7953\"], [0.7777777777777778, \"#fb9f3a\"], [0.8888888888888888, \"#fdca26\"], [1.0, \"#f0f921\"]], \"type\": \"histogram2dcontour\"}], \"mesh3d\": [{\"colorbar\": {\"outlinewidth\": 0, \"ticks\": \"\"}, \"type\": \"mesh3d\"}], \"parcoords\": [{\"line\": {\"colorbar\": {\"outlinewidth\": 0, \"ticks\": \"\"}}, \"type\": \"parcoords\"}], \"pie\": [{\"automargin\": true, \"type\": \"pie\"}], \"scatter\": [{\"marker\": {\"colorbar\": {\"outlinewidth\": 0, \"ticks\": \"\"}}, \"type\": \"scatter\"}], \"scatter3d\": [{\"line\": {\"colorbar\": {\"outlinewidth\": 0, \"ticks\": \"\"}}, \"marker\": {\"colorbar\": {\"outlinewidth\": 0, \"ticks\": \"\"}}, \"type\": \"scatter3d\"}], \"scattercarpet\": [{\"marker\": {\"colorbar\": {\"outlinewidth\": 0, \"ticks\": \"\"}}, \"type\": \"scattercarpet\"}], \"scattergeo\": [{\"marker\": {\"colorbar\": {\"outlinewidth\": 0, \"ticks\": \"\"}}, \"type\": \"scattergeo\"}], \"scattergl\": [{\"marker\": {\"colorbar\": {\"outlinewidth\": 0, \"ticks\": \"\"}}, \"type\": \"scattergl\"}], \"scattermapbox\": [{\"marker\": {\"colorbar\": {\"outlinewidth\": 0, \"ticks\": \"\"}}, \"type\": \"scattermapbox\"}], \"scatterpolar\": [{\"marker\": {\"colorbar\": {\"outlinewidth\": 0, \"ticks\": \"\"}}, \"type\": \"scatterpolar\"}], \"scatterpolargl\": [{\"marker\": {\"colorbar\": {\"outlinewidth\": 0, \"ticks\": \"\"}}, \"type\": \"scatterpolargl\"}], \"scatterternary\": [{\"marker\": {\"colorbar\": {\"outlinewidth\": 0, \"ticks\": \"\"}}, \"type\": \"scatterternary\"}], \"surface\": [{\"colorbar\": {\"outlinewidth\": 0, \"ticks\": \"\"}, \"colorscale\": [[0.0, \"#0d0887\"], [0.1111111111111111, \"#46039f\"], [0.2222222222222222, \"#7201a8\"], [0.3333333333333333, \"#9c179e\"], [0.4444444444444444, \"#bd3786\"], [0.5555555555555556, \"#d8576b\"], [0.6666666666666666, \"#ed7953\"], [0.7777777777777778, \"#fb9f3a\"], [0.8888888888888888, \"#fdca26\"], [1.0, \"#f0f921\"]], \"type\": \"surface\"}], \"table\": [{\"cells\": {\"fill\": {\"color\": \"#EBF0F8\"}, \"line\": {\"color\": \"white\"}}, \"header\": {\"fill\": {\"color\": \"#C8D4E3\"}, \"line\": {\"color\": \"white\"}}, \"type\": \"table\"}]}, \"layout\": {\"annotationdefaults\": {\"arrowcolor\": \"#2a3f5f\", \"arrowhead\": 0, \"arrowwidth\": 1}, \"coloraxis\": {\"colorbar\": {\"outlinewidth\": 0, \"ticks\": \"\"}}, \"colorscale\": {\"diverging\": [[0, \"#8e0152\"], [0.1, \"#c51b7d\"], [0.2, \"#de77ae\"], [0.3, \"#f1b6da\"], [0.4, \"#fde0ef\"], [0.5, \"#f7f7f7\"], [0.6, \"#e6f5d0\"], [0.7, \"#b8e186\"], [0.8, \"#7fbc41\"], [0.9, \"#4d9221\"], [1, \"#276419\"]], \"sequential\": [[0.0, \"#0d0887\"], [0.1111111111111111, \"#46039f\"], [0.2222222222222222, \"#7201a8\"], [0.3333333333333333, \"#9c179e\"], [0.4444444444444444, \"#bd3786\"], [0.5555555555555556, \"#d8576b\"], [0.6666666666666666, \"#ed7953\"], [0.7777777777777778, \"#fb9f3a\"], [0.8888888888888888, \"#fdca26\"], [1.0, \"#f0f921\"]], \"sequentialminus\": [[0.0, \"#0d0887\"], [0.1111111111111111, \"#46039f\"], [0.2222222222222222, \"#7201a8\"], [0.3333333333333333, \"#9c179e\"], [0.4444444444444444, \"#bd3786\"], [0.5555555555555556, \"#d8576b\"], [0.6666666666666666, \"#ed7953\"], [0.7777777777777778, \"#fb9f3a\"], [0.8888888888888888, \"#fdca26\"], [1.0, \"#f0f921\"]]}, \"colorway\": [\"#636efa\", \"#EF553B\", \"#00cc96\", \"#ab63fa\", \"#FFA15A\", \"#19d3f3\", \"#FF6692\", \"#B6E880\", \"#FF97FF\", \"#FECB52\"], \"font\": {\"color\": \"#2a3f5f\"}, \"geo\": {\"bgcolor\": \"white\", \"lakecolor\": \"white\", \"landcolor\": \"#E5ECF6\", \"showlakes\": true, \"showland\": true, \"subunitcolor\": \"white\"}, \"hoverlabel\": {\"align\": \"left\"}, \"hovermode\": \"closest\", \"mapbox\": {\"style\": \"light\"}, \"paper_bgcolor\": \"white\", \"plot_bgcolor\": \"#E5ECF6\", \"polar\": {\"angularaxis\": {\"gridcolor\": \"white\", \"linecolor\": \"white\", \"ticks\": \"\"}, \"bgcolor\": \"#E5ECF6\", \"radialaxis\": {\"gridcolor\": \"white\", \"linecolor\": \"white\", \"ticks\": \"\"}}, \"scene\": {\"xaxis\": {\"backgroundcolor\": \"#E5ECF6\", \"gridcolor\": \"white\", \"gridwidth\": 2, \"linecolor\": \"white\", \"showbackground\": true, \"ticks\": \"\", \"zerolinecolor\": \"white\"}, \"yaxis\": {\"backgroundcolor\": \"#E5ECF6\", \"gridcolor\": \"white\", \"gridwidth\": 2, \"linecolor\": \"white\", \"showbackground\": true, \"ticks\": \"\", \"zerolinecolor\": \"white\"}, \"zaxis\": {\"backgroundcolor\": \"#E5ECF6\", \"gridcolor\": \"white\", \"gridwidth\": 2, \"linecolor\": \"white\", \"showbackground\": true, \"ticks\": \"\", \"zerolinecolor\": \"white\"}}, \"shapedefaults\": {\"line\": {\"color\": \"#2a3f5f\"}}, \"ternary\": {\"aaxis\": {\"gridcolor\": \"white\", \"linecolor\": \"white\", \"ticks\": \"\"}, \"baxis\": {\"gridcolor\": \"white\", \"linecolor\": \"white\", \"ticks\": \"\"}, \"bgcolor\": \"#E5ECF6\", \"caxis\": {\"gridcolor\": \"white\", \"linecolor\": \"white\", \"ticks\": \"\"}}, \"title\": {\"x\": 0.05}, \"xaxis\": {\"automargin\": true, \"gridcolor\": \"white\", \"linecolor\": \"white\", \"ticks\": \"\", \"title\": {\"standoff\": 15}, \"zerolinecolor\": \"white\", \"zerolinewidth\": 2}, \"yaxis\": {\"automargin\": true, \"gridcolor\": \"white\", \"linecolor\": \"white\", \"ticks\": \"\", \"title\": {\"standoff\": 15}, \"zerolinecolor\": \"white\", \"zerolinewidth\": 2}}}, \"title\": {\"text\": \"Mean Patients Waiting over 6 Weeks 2018-2019\"}, \"xaxis\": {\"anchor\": \"y\", \"domain\": [0.0, 1.0], \"title\": {\"text\": \"Name\"}}, \"yaxis\": {\"anchor\": \"x\", \"domain\": [0.0, 1.0], \"title\": {\"text\": \"Over 6\"}}},\n",
       "                        {\"responsive\": true}\n",
       "                    ).then(function(){\n",
       "                            \n",
       "var gd = document.getElementById('d63b9256-ebfd-4521-b80e-bfc90b138ea5');\n",
       "var x = new MutationObserver(function (mutations, observer) {{\n",
       "        var display = window.getComputedStyle(gd).display;\n",
       "        if (!display || display === 'none') {{\n",
       "            console.log([gd, 'removed!']);\n",
       "            Plotly.purge(gd);\n",
       "            observer.disconnect();\n",
       "        }}\n",
       "}});\n",
       "\n",
       "// Listen for the removal of the full notebook cells\n",
       "var notebookContainer = gd.closest('#notebook-container');\n",
       "if (notebookContainer) {{\n",
       "    x.observe(notebookContainer, {childList: true});\n",
       "}}\n",
       "\n",
       "// Listen for the clearing of the current output cell\n",
       "var outputEl = gd.closest('.output');\n",
       "if (outputEl) {{\n",
       "    x.observe(outputEl, {childList: true});\n",
       "}}\n",
       "\n",
       "                        })\n",
       "                };\n",
       "                });\n",
       "            </script>\n",
       "        </div>"
      ]
     },
     "metadata": {},
     "output_type": "display_data"
    }
   ],
   "source": [
    "fig = px.box(df_hampshire_group, y='Over 6', x='Name', points='all', title=\"Mean Patients Waiting over 6 Weeks 2018-2019\")\n",
    "fig.show()"
   ]
  },
  {
   "cell_type": "code",
   "execution_count": 95,
   "metadata": {},
   "outputs": [
    {
     "data": {
      "application/vnd.plotly.v1+json": {
       "config": {
        "plotlyServerURL": "https://plot.ly"
       },
       "data": [
        {
         "alignmentgroup": "True",
         "boxpoints": "all",
         "hoverlabel": {
          "namelength": 0
         },
         "hovertemplate": "Name=%{x}<br>Total on Waiting List=%{y}",
         "legendgroup": "",
         "marker": {
          "color": "#636efa"
         },
         "name": "",
         "notched": false,
         "offsetgroup": "",
         "orientation": "v",
         "showlegend": false,
         "type": "box",
         "x": [
          "BUCKINGHAMSHIRE HEALTHCARE NHS TRUST",
          "HAMPSHIRE HOSPITALS NHS FOUNDATION TRUST",
          "OXFORD UNIVERSITY HOSPITALS NHS FOUNDATION TRUST",
          "ROYAL BERKSHIRE NHS FOUNDATION TRUST",
          "BUCKINGHAMSHIRE HEALTHCARE NHS TRUST",
          "HAMPSHIRE HOSPITALS NHS FOUNDATION TRUST",
          "OXFORD UNIVERSITY HOSPITALS NHS FOUNDATION TRUST",
          "ROYAL BERKSHIRE NHS FOUNDATION TRUST",
          "BUCKINGHAMSHIRE HEALTHCARE NHS TRUST",
          "HAMPSHIRE HOSPITALS NHS FOUNDATION TRUST",
          "OXFORD UNIVERSITY HOSPITALS NHS FOUNDATION TRUST",
          "ROYAL BERKSHIRE NHS FOUNDATION TRUST",
          "BUCKINGHAMSHIRE HEALTHCARE NHS TRUST",
          "HAMPSHIRE HOSPITALS NHS FOUNDATION TRUST",
          "OXFORD UNIVERSITY HOSPITALS NHS FOUNDATION TRUST",
          "ROYAL BERKSHIRE NHS FOUNDATION TRUST",
          "BUCKINGHAMSHIRE HEALTHCARE NHS TRUST",
          "HAMPSHIRE HOSPITALS NHS FOUNDATION TRUST",
          "OXFORD UNIVERSITY HOSPITALS NHS FOUNDATION TRUST",
          "ROYAL BERKSHIRE NHS FOUNDATION TRUST",
          "BUCKINGHAMSHIRE HEALTHCARE NHS TRUST",
          "HAMPSHIRE HOSPITALS NHS FOUNDATION TRUST",
          "OXFORD UNIVERSITY HOSPITALS NHS FOUNDATION TRUST",
          "ROYAL BERKSHIRE NHS FOUNDATION TRUST",
          "BUCKINGHAMSHIRE HEALTHCARE NHS TRUST",
          "HAMPSHIRE HOSPITALS NHS FOUNDATION TRUST",
          "OXFORD UNIVERSITY HOSPITALS NHS FOUNDATION TRUST",
          "ROYAL BERKSHIRE NHS FOUNDATION TRUST",
          "BUCKINGHAMSHIRE HEALTHCARE NHS TRUST",
          "HAMPSHIRE HOSPITALS NHS FOUNDATION TRUST",
          "OXFORD UNIVERSITY HOSPITALS NHS FOUNDATION TRUST",
          "ROYAL BERKSHIRE NHS FOUNDATION TRUST",
          "BUCKINGHAMSHIRE HEALTHCARE NHS TRUST",
          "HAMPSHIRE HOSPITALS NHS FOUNDATION TRUST",
          "OXFORD UNIVERSITY HOSPITALS NHS FOUNDATION TRUST",
          "ROYAL BERKSHIRE NHS FOUNDATION TRUST",
          "BUCKINGHAMSHIRE HEALTHCARE NHS TRUST",
          "HAMPSHIRE HOSPITALS NHS FOUNDATION TRUST",
          "OXFORD UNIVERSITY HOSPITALS NHS FOUNDATION TRUST",
          "ROYAL BERKSHIRE NHS FOUNDATION TRUST",
          "BUCKINGHAMSHIRE HEALTHCARE NHS TRUST",
          "HAMPSHIRE HOSPITALS NHS FOUNDATION TRUST",
          "OXFORD UNIVERSITY HOSPITALS NHS FOUNDATION TRUST",
          "ROYAL BERKSHIRE NHS FOUNDATION TRUST",
          "BUCKINGHAMSHIRE HEALTHCARE NHS TRUST",
          "HAMPSHIRE HOSPITALS NHS FOUNDATION TRUST",
          "OXFORD UNIVERSITY HOSPITALS NHS FOUNDATION TRUST",
          "ROYAL BERKSHIRE NHS FOUNDATION TRUST",
          "BUCKINGHAMSHIRE HEALTHCARE NHS TRUST",
          "HAMPSHIRE HOSPITALS NHS FOUNDATION TRUST",
          "OXFORD UNIVERSITY HOSPITALS NHS FOUNDATION TRUST",
          "ROYAL BERKSHIRE NHS FOUNDATION TRUST",
          "BUCKINGHAMSHIRE HEALTHCARE NHS TRUST",
          "HAMPSHIRE HOSPITALS NHS FOUNDATION TRUST",
          "OXFORD UNIVERSITY HOSPITALS NHS FOUNDATION TRUST",
          "ROYAL BERKSHIRE NHS FOUNDATION TRUST",
          "BUCKINGHAMSHIRE HEALTHCARE NHS TRUST",
          "HAMPSHIRE HOSPITALS NHS FOUNDATION TRUST",
          "OXFORD UNIVERSITY HOSPITALS NHS FOUNDATION TRUST",
          "ROYAL BERKSHIRE NHS FOUNDATION TRUST",
          "BUCKINGHAMSHIRE HEALTHCARE NHS TRUST",
          "HAMPSHIRE HOSPITALS NHS FOUNDATION TRUST",
          "OXFORD UNIVERSITY HOSPITALS NHS FOUNDATION TRUST",
          "ROYAL BERKSHIRE NHS FOUNDATION TRUST",
          "BUCKINGHAMSHIRE HEALTHCARE NHS TRUST",
          "HAMPSHIRE HOSPITALS NHS FOUNDATION TRUST",
          "OXFORD UNIVERSITY HOSPITALS NHS FOUNDATION TRUST",
          "ROYAL BERKSHIRE NHS FOUNDATION TRUST",
          "BUCKINGHAMSHIRE HEALTHCARE NHS TRUST",
          "HAMPSHIRE HOSPITALS NHS FOUNDATION TRUST",
          "OXFORD UNIVERSITY HOSPITALS NHS FOUNDATION TRUST",
          "ROYAL BERKSHIRE NHS FOUNDATION TRUST"
         ],
         "x0": " ",
         "xaxis": "x",
         "y": [
          2898,
          5256,
          8143,
          3917,
          2980,
          6256,
          9842,
          4581,
          2600,
          5894,
          9379,
          3935,
          2337,
          5277,
          9144,
          3620,
          2009,
          4824,
          9370,
          3523,
          1773,
          4286,
          8807,
          3508,
          2101,
          4912,
          9143,
          3486,
          1868,
          4569,
          10392,
          3635,
          2124,
          5612,
          10836,
          4607,
          2012,
          4691,
          9645,
          3658,
          1594,
          4546,
          10796,
          3911,
          2553,
          4690,
          10749,
          4163,
          2730,
          4322,
          10342,
          3623,
          2423,
          5053,
          11215,
          4234,
          2309,
          4477,
          11147,
          3970,
          2319,
          4269,
          10803,
          4006,
          2243,
          4349,
          11235,
          3959,
          2327,
          3953,
          10883,
          3178
         ],
         "y0": " ",
         "yaxis": "y"
        }
       ],
       "layout": {
        "boxmode": "group",
        "legend": {
         "tracegroupgap": 0
        },
        "template": {
         "data": {
          "bar": [
           {
            "error_x": {
             "color": "#2a3f5f"
            },
            "error_y": {
             "color": "#2a3f5f"
            },
            "marker": {
             "line": {
              "color": "#E5ECF6",
              "width": 0.5
             }
            },
            "type": "bar"
           }
          ],
          "barpolar": [
           {
            "marker": {
             "line": {
              "color": "#E5ECF6",
              "width": 0.5
             }
            },
            "type": "barpolar"
           }
          ],
          "carpet": [
           {
            "aaxis": {
             "endlinecolor": "#2a3f5f",
             "gridcolor": "white",
             "linecolor": "white",
             "minorgridcolor": "white",
             "startlinecolor": "#2a3f5f"
            },
            "baxis": {
             "endlinecolor": "#2a3f5f",
             "gridcolor": "white",
             "linecolor": "white",
             "minorgridcolor": "white",
             "startlinecolor": "#2a3f5f"
            },
            "type": "carpet"
           }
          ],
          "choropleth": [
           {
            "colorbar": {
             "outlinewidth": 0,
             "ticks": ""
            },
            "type": "choropleth"
           }
          ],
          "contour": [
           {
            "colorbar": {
             "outlinewidth": 0,
             "ticks": ""
            },
            "colorscale": [
             [
              0,
              "#0d0887"
             ],
             [
              0.1111111111111111,
              "#46039f"
             ],
             [
              0.2222222222222222,
              "#7201a8"
             ],
             [
              0.3333333333333333,
              "#9c179e"
             ],
             [
              0.4444444444444444,
              "#bd3786"
             ],
             [
              0.5555555555555556,
              "#d8576b"
             ],
             [
              0.6666666666666666,
              "#ed7953"
             ],
             [
              0.7777777777777778,
              "#fb9f3a"
             ],
             [
              0.8888888888888888,
              "#fdca26"
             ],
             [
              1,
              "#f0f921"
             ]
            ],
            "type": "contour"
           }
          ],
          "contourcarpet": [
           {
            "colorbar": {
             "outlinewidth": 0,
             "ticks": ""
            },
            "type": "contourcarpet"
           }
          ],
          "heatmap": [
           {
            "colorbar": {
             "outlinewidth": 0,
             "ticks": ""
            },
            "colorscale": [
             [
              0,
              "#0d0887"
             ],
             [
              0.1111111111111111,
              "#46039f"
             ],
             [
              0.2222222222222222,
              "#7201a8"
             ],
             [
              0.3333333333333333,
              "#9c179e"
             ],
             [
              0.4444444444444444,
              "#bd3786"
             ],
             [
              0.5555555555555556,
              "#d8576b"
             ],
             [
              0.6666666666666666,
              "#ed7953"
             ],
             [
              0.7777777777777778,
              "#fb9f3a"
             ],
             [
              0.8888888888888888,
              "#fdca26"
             ],
             [
              1,
              "#f0f921"
             ]
            ],
            "type": "heatmap"
           }
          ],
          "heatmapgl": [
           {
            "colorbar": {
             "outlinewidth": 0,
             "ticks": ""
            },
            "colorscale": [
             [
              0,
              "#0d0887"
             ],
             [
              0.1111111111111111,
              "#46039f"
             ],
             [
              0.2222222222222222,
              "#7201a8"
             ],
             [
              0.3333333333333333,
              "#9c179e"
             ],
             [
              0.4444444444444444,
              "#bd3786"
             ],
             [
              0.5555555555555556,
              "#d8576b"
             ],
             [
              0.6666666666666666,
              "#ed7953"
             ],
             [
              0.7777777777777778,
              "#fb9f3a"
             ],
             [
              0.8888888888888888,
              "#fdca26"
             ],
             [
              1,
              "#f0f921"
             ]
            ],
            "type": "heatmapgl"
           }
          ],
          "histogram": [
           {
            "marker": {
             "colorbar": {
              "outlinewidth": 0,
              "ticks": ""
             }
            },
            "type": "histogram"
           }
          ],
          "histogram2d": [
           {
            "colorbar": {
             "outlinewidth": 0,
             "ticks": ""
            },
            "colorscale": [
             [
              0,
              "#0d0887"
             ],
             [
              0.1111111111111111,
              "#46039f"
             ],
             [
              0.2222222222222222,
              "#7201a8"
             ],
             [
              0.3333333333333333,
              "#9c179e"
             ],
             [
              0.4444444444444444,
              "#bd3786"
             ],
             [
              0.5555555555555556,
              "#d8576b"
             ],
             [
              0.6666666666666666,
              "#ed7953"
             ],
             [
              0.7777777777777778,
              "#fb9f3a"
             ],
             [
              0.8888888888888888,
              "#fdca26"
             ],
             [
              1,
              "#f0f921"
             ]
            ],
            "type": "histogram2d"
           }
          ],
          "histogram2dcontour": [
           {
            "colorbar": {
             "outlinewidth": 0,
             "ticks": ""
            },
            "colorscale": [
             [
              0,
              "#0d0887"
             ],
             [
              0.1111111111111111,
              "#46039f"
             ],
             [
              0.2222222222222222,
              "#7201a8"
             ],
             [
              0.3333333333333333,
              "#9c179e"
             ],
             [
              0.4444444444444444,
              "#bd3786"
             ],
             [
              0.5555555555555556,
              "#d8576b"
             ],
             [
              0.6666666666666666,
              "#ed7953"
             ],
             [
              0.7777777777777778,
              "#fb9f3a"
             ],
             [
              0.8888888888888888,
              "#fdca26"
             ],
             [
              1,
              "#f0f921"
             ]
            ],
            "type": "histogram2dcontour"
           }
          ],
          "mesh3d": [
           {
            "colorbar": {
             "outlinewidth": 0,
             "ticks": ""
            },
            "type": "mesh3d"
           }
          ],
          "parcoords": [
           {
            "line": {
             "colorbar": {
              "outlinewidth": 0,
              "ticks": ""
             }
            },
            "type": "parcoords"
           }
          ],
          "pie": [
           {
            "automargin": true,
            "type": "pie"
           }
          ],
          "scatter": [
           {
            "marker": {
             "colorbar": {
              "outlinewidth": 0,
              "ticks": ""
             }
            },
            "type": "scatter"
           }
          ],
          "scatter3d": [
           {
            "line": {
             "colorbar": {
              "outlinewidth": 0,
              "ticks": ""
             }
            },
            "marker": {
             "colorbar": {
              "outlinewidth": 0,
              "ticks": ""
             }
            },
            "type": "scatter3d"
           }
          ],
          "scattercarpet": [
           {
            "marker": {
             "colorbar": {
              "outlinewidth": 0,
              "ticks": ""
             }
            },
            "type": "scattercarpet"
           }
          ],
          "scattergeo": [
           {
            "marker": {
             "colorbar": {
              "outlinewidth": 0,
              "ticks": ""
             }
            },
            "type": "scattergeo"
           }
          ],
          "scattergl": [
           {
            "marker": {
             "colorbar": {
              "outlinewidth": 0,
              "ticks": ""
             }
            },
            "type": "scattergl"
           }
          ],
          "scattermapbox": [
           {
            "marker": {
             "colorbar": {
              "outlinewidth": 0,
              "ticks": ""
             }
            },
            "type": "scattermapbox"
           }
          ],
          "scatterpolar": [
           {
            "marker": {
             "colorbar": {
              "outlinewidth": 0,
              "ticks": ""
             }
            },
            "type": "scatterpolar"
           }
          ],
          "scatterpolargl": [
           {
            "marker": {
             "colorbar": {
              "outlinewidth": 0,
              "ticks": ""
             }
            },
            "type": "scatterpolargl"
           }
          ],
          "scatterternary": [
           {
            "marker": {
             "colorbar": {
              "outlinewidth": 0,
              "ticks": ""
             }
            },
            "type": "scatterternary"
           }
          ],
          "surface": [
           {
            "colorbar": {
             "outlinewidth": 0,
             "ticks": ""
            },
            "colorscale": [
             [
              0,
              "#0d0887"
             ],
             [
              0.1111111111111111,
              "#46039f"
             ],
             [
              0.2222222222222222,
              "#7201a8"
             ],
             [
              0.3333333333333333,
              "#9c179e"
             ],
             [
              0.4444444444444444,
              "#bd3786"
             ],
             [
              0.5555555555555556,
              "#d8576b"
             ],
             [
              0.6666666666666666,
              "#ed7953"
             ],
             [
              0.7777777777777778,
              "#fb9f3a"
             ],
             [
              0.8888888888888888,
              "#fdca26"
             ],
             [
              1,
              "#f0f921"
             ]
            ],
            "type": "surface"
           }
          ],
          "table": [
           {
            "cells": {
             "fill": {
              "color": "#EBF0F8"
             },
             "line": {
              "color": "white"
             }
            },
            "header": {
             "fill": {
              "color": "#C8D4E3"
             },
             "line": {
              "color": "white"
             }
            },
            "type": "table"
           }
          ]
         },
         "layout": {
          "annotationdefaults": {
           "arrowcolor": "#2a3f5f",
           "arrowhead": 0,
           "arrowwidth": 1
          },
          "coloraxis": {
           "colorbar": {
            "outlinewidth": 0,
            "ticks": ""
           }
          },
          "colorscale": {
           "diverging": [
            [
             0,
             "#8e0152"
            ],
            [
             0.1,
             "#c51b7d"
            ],
            [
             0.2,
             "#de77ae"
            ],
            [
             0.3,
             "#f1b6da"
            ],
            [
             0.4,
             "#fde0ef"
            ],
            [
             0.5,
             "#f7f7f7"
            ],
            [
             0.6,
             "#e6f5d0"
            ],
            [
             0.7,
             "#b8e186"
            ],
            [
             0.8,
             "#7fbc41"
            ],
            [
             0.9,
             "#4d9221"
            ],
            [
             1,
             "#276419"
            ]
           ],
           "sequential": [
            [
             0,
             "#0d0887"
            ],
            [
             0.1111111111111111,
             "#46039f"
            ],
            [
             0.2222222222222222,
             "#7201a8"
            ],
            [
             0.3333333333333333,
             "#9c179e"
            ],
            [
             0.4444444444444444,
             "#bd3786"
            ],
            [
             0.5555555555555556,
             "#d8576b"
            ],
            [
             0.6666666666666666,
             "#ed7953"
            ],
            [
             0.7777777777777778,
             "#fb9f3a"
            ],
            [
             0.8888888888888888,
             "#fdca26"
            ],
            [
             1,
             "#f0f921"
            ]
           ],
           "sequentialminus": [
            [
             0,
             "#0d0887"
            ],
            [
             0.1111111111111111,
             "#46039f"
            ],
            [
             0.2222222222222222,
             "#7201a8"
            ],
            [
             0.3333333333333333,
             "#9c179e"
            ],
            [
             0.4444444444444444,
             "#bd3786"
            ],
            [
             0.5555555555555556,
             "#d8576b"
            ],
            [
             0.6666666666666666,
             "#ed7953"
            ],
            [
             0.7777777777777778,
             "#fb9f3a"
            ],
            [
             0.8888888888888888,
             "#fdca26"
            ],
            [
             1,
             "#f0f921"
            ]
           ]
          },
          "colorway": [
           "#636efa",
           "#EF553B",
           "#00cc96",
           "#ab63fa",
           "#FFA15A",
           "#19d3f3",
           "#FF6692",
           "#B6E880",
           "#FF97FF",
           "#FECB52"
          ],
          "font": {
           "color": "#2a3f5f"
          },
          "geo": {
           "bgcolor": "white",
           "lakecolor": "white",
           "landcolor": "#E5ECF6",
           "showlakes": true,
           "showland": true,
           "subunitcolor": "white"
          },
          "hoverlabel": {
           "align": "left"
          },
          "hovermode": "closest",
          "mapbox": {
           "style": "light"
          },
          "paper_bgcolor": "white",
          "plot_bgcolor": "#E5ECF6",
          "polar": {
           "angularaxis": {
            "gridcolor": "white",
            "linecolor": "white",
            "ticks": ""
           },
           "bgcolor": "#E5ECF6",
           "radialaxis": {
            "gridcolor": "white",
            "linecolor": "white",
            "ticks": ""
           }
          },
          "scene": {
           "xaxis": {
            "backgroundcolor": "#E5ECF6",
            "gridcolor": "white",
            "gridwidth": 2,
            "linecolor": "white",
            "showbackground": true,
            "ticks": "",
            "zerolinecolor": "white"
           },
           "yaxis": {
            "backgroundcolor": "#E5ECF6",
            "gridcolor": "white",
            "gridwidth": 2,
            "linecolor": "white",
            "showbackground": true,
            "ticks": "",
            "zerolinecolor": "white"
           },
           "zaxis": {
            "backgroundcolor": "#E5ECF6",
            "gridcolor": "white",
            "gridwidth": 2,
            "linecolor": "white",
            "showbackground": true,
            "ticks": "",
            "zerolinecolor": "white"
           }
          },
          "shapedefaults": {
           "line": {
            "color": "#2a3f5f"
           }
          },
          "ternary": {
           "aaxis": {
            "gridcolor": "white",
            "linecolor": "white",
            "ticks": ""
           },
           "baxis": {
            "gridcolor": "white",
            "linecolor": "white",
            "ticks": ""
           },
           "bgcolor": "#E5ECF6",
           "caxis": {
            "gridcolor": "white",
            "linecolor": "white",
            "ticks": ""
           }
          },
          "title": {
           "x": 0.05
          },
          "xaxis": {
           "automargin": true,
           "gridcolor": "white",
           "linecolor": "white",
           "ticks": "",
           "title": {
            "standoff": 15
           },
           "zerolinecolor": "white",
           "zerolinewidth": 2
          },
          "yaxis": {
           "automargin": true,
           "gridcolor": "white",
           "linecolor": "white",
           "ticks": "",
           "title": {
            "standoff": 15
           },
           "zerolinecolor": "white",
           "zerolinewidth": 2
          }
         }
        },
        "title": {
         "text": "Mean Patients on Waiting List 2018-2019"
        },
        "xaxis": {
         "anchor": "y",
         "domain": [
          0,
          1
         ],
         "title": {
          "text": "Name"
         }
        },
        "yaxis": {
         "anchor": "x",
         "domain": [
          0,
          1
         ],
         "title": {
          "text": "Total on Waiting List"
         }
        }
       }
      },
      "text/html": [
       "<div>\n",
       "        \n",
       "        \n",
       "            <div id=\"844e3f46-7ec4-4e86-98e4-89fb51f7f698\" class=\"plotly-graph-div\" style=\"height:525px; width:100%;\"></div>\n",
       "            <script type=\"text/javascript\">\n",
       "                require([\"plotly\"], function(Plotly) {\n",
       "                    window.PLOTLYENV=window.PLOTLYENV || {};\n",
       "                    \n",
       "                if (document.getElementById(\"844e3f46-7ec4-4e86-98e4-89fb51f7f698\")) {\n",
       "                    Plotly.newPlot(\n",
       "                        '844e3f46-7ec4-4e86-98e4-89fb51f7f698',\n",
       "                        [{\"alignmentgroup\": \"True\", \"boxpoints\": \"all\", \"hoverlabel\": {\"namelength\": 0}, \"hovertemplate\": \"Name=%{x}<br>Total on Waiting List=%{y}\", \"legendgroup\": \"\", \"marker\": {\"color\": \"#636efa\"}, \"name\": \"\", \"notched\": false, \"offsetgroup\": \"\", \"orientation\": \"v\", \"showlegend\": false, \"type\": \"box\", \"x\": [\"BUCKINGHAMSHIRE HEALTHCARE NHS TRUST\", \"HAMPSHIRE HOSPITALS NHS FOUNDATION TRUST\", \"OXFORD UNIVERSITY HOSPITALS NHS FOUNDATION TRUST\", \"ROYAL BERKSHIRE NHS FOUNDATION TRUST\", \"BUCKINGHAMSHIRE HEALTHCARE NHS TRUST\", \"HAMPSHIRE HOSPITALS NHS FOUNDATION TRUST\", \"OXFORD UNIVERSITY HOSPITALS NHS FOUNDATION TRUST\", \"ROYAL BERKSHIRE NHS FOUNDATION TRUST\", \"BUCKINGHAMSHIRE HEALTHCARE NHS TRUST\", \"HAMPSHIRE HOSPITALS NHS FOUNDATION TRUST\", \"OXFORD UNIVERSITY HOSPITALS NHS FOUNDATION TRUST\", \"ROYAL BERKSHIRE NHS FOUNDATION TRUST\", \"BUCKINGHAMSHIRE HEALTHCARE NHS TRUST\", \"HAMPSHIRE HOSPITALS NHS FOUNDATION TRUST\", \"OXFORD UNIVERSITY HOSPITALS NHS FOUNDATION TRUST\", \"ROYAL BERKSHIRE NHS FOUNDATION TRUST\", \"BUCKINGHAMSHIRE HEALTHCARE NHS TRUST\", \"HAMPSHIRE HOSPITALS NHS FOUNDATION TRUST\", \"OXFORD UNIVERSITY HOSPITALS NHS FOUNDATION TRUST\", \"ROYAL BERKSHIRE NHS FOUNDATION TRUST\", \"BUCKINGHAMSHIRE HEALTHCARE NHS TRUST\", \"HAMPSHIRE HOSPITALS NHS FOUNDATION TRUST\", \"OXFORD UNIVERSITY HOSPITALS NHS FOUNDATION TRUST\", \"ROYAL BERKSHIRE NHS FOUNDATION TRUST\", \"BUCKINGHAMSHIRE HEALTHCARE NHS TRUST\", \"HAMPSHIRE HOSPITALS NHS FOUNDATION TRUST\", \"OXFORD UNIVERSITY HOSPITALS NHS FOUNDATION TRUST\", \"ROYAL BERKSHIRE NHS FOUNDATION TRUST\", \"BUCKINGHAMSHIRE HEALTHCARE NHS TRUST\", \"HAMPSHIRE HOSPITALS NHS FOUNDATION TRUST\", \"OXFORD UNIVERSITY HOSPITALS NHS FOUNDATION TRUST\", \"ROYAL BERKSHIRE NHS FOUNDATION TRUST\", \"BUCKINGHAMSHIRE HEALTHCARE NHS TRUST\", \"HAMPSHIRE HOSPITALS NHS FOUNDATION TRUST\", \"OXFORD UNIVERSITY HOSPITALS NHS FOUNDATION TRUST\", \"ROYAL BERKSHIRE NHS FOUNDATION TRUST\", \"BUCKINGHAMSHIRE HEALTHCARE NHS TRUST\", \"HAMPSHIRE HOSPITALS NHS FOUNDATION TRUST\", \"OXFORD UNIVERSITY HOSPITALS NHS FOUNDATION TRUST\", \"ROYAL BERKSHIRE NHS FOUNDATION TRUST\", \"BUCKINGHAMSHIRE HEALTHCARE NHS TRUST\", \"HAMPSHIRE HOSPITALS NHS FOUNDATION TRUST\", \"OXFORD UNIVERSITY HOSPITALS NHS FOUNDATION TRUST\", \"ROYAL BERKSHIRE NHS FOUNDATION TRUST\", \"BUCKINGHAMSHIRE HEALTHCARE NHS TRUST\", \"HAMPSHIRE HOSPITALS NHS FOUNDATION TRUST\", \"OXFORD UNIVERSITY HOSPITALS NHS FOUNDATION TRUST\", \"ROYAL BERKSHIRE NHS FOUNDATION TRUST\", \"BUCKINGHAMSHIRE HEALTHCARE NHS TRUST\", \"HAMPSHIRE HOSPITALS NHS FOUNDATION TRUST\", \"OXFORD UNIVERSITY HOSPITALS NHS FOUNDATION TRUST\", \"ROYAL BERKSHIRE NHS FOUNDATION TRUST\", \"BUCKINGHAMSHIRE HEALTHCARE NHS TRUST\", \"HAMPSHIRE HOSPITALS NHS FOUNDATION TRUST\", \"OXFORD UNIVERSITY HOSPITALS NHS FOUNDATION TRUST\", \"ROYAL BERKSHIRE NHS FOUNDATION TRUST\", \"BUCKINGHAMSHIRE HEALTHCARE NHS TRUST\", \"HAMPSHIRE HOSPITALS NHS FOUNDATION TRUST\", \"OXFORD UNIVERSITY HOSPITALS NHS FOUNDATION TRUST\", \"ROYAL BERKSHIRE NHS FOUNDATION TRUST\", \"BUCKINGHAMSHIRE HEALTHCARE NHS TRUST\", \"HAMPSHIRE HOSPITALS NHS FOUNDATION TRUST\", \"OXFORD UNIVERSITY HOSPITALS NHS FOUNDATION TRUST\", \"ROYAL BERKSHIRE NHS FOUNDATION TRUST\", \"BUCKINGHAMSHIRE HEALTHCARE NHS TRUST\", \"HAMPSHIRE HOSPITALS NHS FOUNDATION TRUST\", \"OXFORD UNIVERSITY HOSPITALS NHS FOUNDATION TRUST\", \"ROYAL BERKSHIRE NHS FOUNDATION TRUST\", \"BUCKINGHAMSHIRE HEALTHCARE NHS TRUST\", \"HAMPSHIRE HOSPITALS NHS FOUNDATION TRUST\", \"OXFORD UNIVERSITY HOSPITALS NHS FOUNDATION TRUST\", \"ROYAL BERKSHIRE NHS FOUNDATION TRUST\"], \"x0\": \" \", \"xaxis\": \"x\", \"y\": [2898, 5256, 8143, 3917, 2980, 6256, 9842, 4581, 2600, 5894, 9379, 3935, 2337, 5277, 9144, 3620, 2009, 4824, 9370, 3523, 1773, 4286, 8807, 3508, 2101, 4912, 9143, 3486, 1868, 4569, 10392, 3635, 2124, 5612, 10836, 4607, 2012, 4691, 9645, 3658, 1594, 4546, 10796, 3911, 2553, 4690, 10749, 4163, 2730, 4322, 10342, 3623, 2423, 5053, 11215, 4234, 2309, 4477, 11147, 3970, 2319, 4269, 10803, 4006, 2243, 4349, 11235, 3959, 2327, 3953, 10883, 3178], \"y0\": \" \", \"yaxis\": \"y\"}],\n",
       "                        {\"boxmode\": \"group\", \"legend\": {\"tracegroupgap\": 0}, \"template\": {\"data\": {\"bar\": [{\"error_x\": {\"color\": \"#2a3f5f\"}, \"error_y\": {\"color\": \"#2a3f5f\"}, \"marker\": {\"line\": {\"color\": \"#E5ECF6\", \"width\": 0.5}}, \"type\": \"bar\"}], \"barpolar\": [{\"marker\": {\"line\": {\"color\": \"#E5ECF6\", \"width\": 0.5}}, \"type\": \"barpolar\"}], \"carpet\": [{\"aaxis\": {\"endlinecolor\": \"#2a3f5f\", \"gridcolor\": \"white\", \"linecolor\": \"white\", \"minorgridcolor\": \"white\", \"startlinecolor\": \"#2a3f5f\"}, \"baxis\": {\"endlinecolor\": \"#2a3f5f\", \"gridcolor\": \"white\", \"linecolor\": \"white\", \"minorgridcolor\": \"white\", \"startlinecolor\": \"#2a3f5f\"}, \"type\": \"carpet\"}], \"choropleth\": [{\"colorbar\": {\"outlinewidth\": 0, \"ticks\": \"\"}, \"type\": \"choropleth\"}], \"contour\": [{\"colorbar\": {\"outlinewidth\": 0, \"ticks\": \"\"}, \"colorscale\": [[0.0, \"#0d0887\"], [0.1111111111111111, \"#46039f\"], [0.2222222222222222, \"#7201a8\"], [0.3333333333333333, \"#9c179e\"], [0.4444444444444444, \"#bd3786\"], [0.5555555555555556, \"#d8576b\"], [0.6666666666666666, \"#ed7953\"], [0.7777777777777778, \"#fb9f3a\"], [0.8888888888888888, \"#fdca26\"], [1.0, \"#f0f921\"]], \"type\": \"contour\"}], \"contourcarpet\": [{\"colorbar\": {\"outlinewidth\": 0, \"ticks\": \"\"}, \"type\": \"contourcarpet\"}], \"heatmap\": [{\"colorbar\": {\"outlinewidth\": 0, \"ticks\": \"\"}, \"colorscale\": [[0.0, \"#0d0887\"], [0.1111111111111111, \"#46039f\"], [0.2222222222222222, \"#7201a8\"], [0.3333333333333333, \"#9c179e\"], [0.4444444444444444, \"#bd3786\"], [0.5555555555555556, \"#d8576b\"], [0.6666666666666666, \"#ed7953\"], [0.7777777777777778, \"#fb9f3a\"], [0.8888888888888888, \"#fdca26\"], [1.0, \"#f0f921\"]], \"type\": \"heatmap\"}], \"heatmapgl\": [{\"colorbar\": {\"outlinewidth\": 0, \"ticks\": \"\"}, \"colorscale\": [[0.0, \"#0d0887\"], [0.1111111111111111, \"#46039f\"], [0.2222222222222222, \"#7201a8\"], [0.3333333333333333, \"#9c179e\"], [0.4444444444444444, \"#bd3786\"], [0.5555555555555556, \"#d8576b\"], [0.6666666666666666, \"#ed7953\"], [0.7777777777777778, \"#fb9f3a\"], [0.8888888888888888, \"#fdca26\"], [1.0, \"#f0f921\"]], \"type\": \"heatmapgl\"}], \"histogram\": [{\"marker\": {\"colorbar\": {\"outlinewidth\": 0, \"ticks\": \"\"}}, \"type\": \"histogram\"}], \"histogram2d\": [{\"colorbar\": {\"outlinewidth\": 0, \"ticks\": \"\"}, \"colorscale\": [[0.0, \"#0d0887\"], [0.1111111111111111, \"#46039f\"], [0.2222222222222222, \"#7201a8\"], [0.3333333333333333, \"#9c179e\"], [0.4444444444444444, \"#bd3786\"], [0.5555555555555556, \"#d8576b\"], [0.6666666666666666, \"#ed7953\"], [0.7777777777777778, \"#fb9f3a\"], [0.8888888888888888, \"#fdca26\"], [1.0, \"#f0f921\"]], \"type\": \"histogram2d\"}], \"histogram2dcontour\": [{\"colorbar\": {\"outlinewidth\": 0, \"ticks\": \"\"}, \"colorscale\": [[0.0, \"#0d0887\"], [0.1111111111111111, \"#46039f\"], [0.2222222222222222, \"#7201a8\"], [0.3333333333333333, \"#9c179e\"], [0.4444444444444444, \"#bd3786\"], [0.5555555555555556, \"#d8576b\"], [0.6666666666666666, \"#ed7953\"], [0.7777777777777778, \"#fb9f3a\"], [0.8888888888888888, \"#fdca26\"], [1.0, \"#f0f921\"]], \"type\": \"histogram2dcontour\"}], \"mesh3d\": [{\"colorbar\": {\"outlinewidth\": 0, \"ticks\": \"\"}, \"type\": \"mesh3d\"}], \"parcoords\": [{\"line\": {\"colorbar\": {\"outlinewidth\": 0, \"ticks\": \"\"}}, \"type\": \"parcoords\"}], \"pie\": [{\"automargin\": true, \"type\": \"pie\"}], \"scatter\": [{\"marker\": {\"colorbar\": {\"outlinewidth\": 0, \"ticks\": \"\"}}, \"type\": \"scatter\"}], \"scatter3d\": [{\"line\": {\"colorbar\": {\"outlinewidth\": 0, \"ticks\": \"\"}}, \"marker\": {\"colorbar\": {\"outlinewidth\": 0, \"ticks\": \"\"}}, \"type\": \"scatter3d\"}], \"scattercarpet\": [{\"marker\": {\"colorbar\": {\"outlinewidth\": 0, \"ticks\": \"\"}}, \"type\": \"scattercarpet\"}], \"scattergeo\": [{\"marker\": {\"colorbar\": {\"outlinewidth\": 0, \"ticks\": \"\"}}, \"type\": \"scattergeo\"}], \"scattergl\": [{\"marker\": {\"colorbar\": {\"outlinewidth\": 0, \"ticks\": \"\"}}, \"type\": \"scattergl\"}], \"scattermapbox\": [{\"marker\": {\"colorbar\": {\"outlinewidth\": 0, \"ticks\": \"\"}}, \"type\": \"scattermapbox\"}], \"scatterpolar\": [{\"marker\": {\"colorbar\": {\"outlinewidth\": 0, \"ticks\": \"\"}}, \"type\": \"scatterpolar\"}], \"scatterpolargl\": [{\"marker\": {\"colorbar\": {\"outlinewidth\": 0, \"ticks\": \"\"}}, \"type\": \"scatterpolargl\"}], \"scatterternary\": [{\"marker\": {\"colorbar\": {\"outlinewidth\": 0, \"ticks\": \"\"}}, \"type\": \"scatterternary\"}], \"surface\": [{\"colorbar\": {\"outlinewidth\": 0, \"ticks\": \"\"}, \"colorscale\": [[0.0, \"#0d0887\"], [0.1111111111111111, \"#46039f\"], [0.2222222222222222, \"#7201a8\"], [0.3333333333333333, \"#9c179e\"], [0.4444444444444444, \"#bd3786\"], [0.5555555555555556, \"#d8576b\"], [0.6666666666666666, \"#ed7953\"], [0.7777777777777778, \"#fb9f3a\"], [0.8888888888888888, \"#fdca26\"], [1.0, \"#f0f921\"]], \"type\": \"surface\"}], \"table\": [{\"cells\": {\"fill\": {\"color\": \"#EBF0F8\"}, \"line\": {\"color\": \"white\"}}, \"header\": {\"fill\": {\"color\": \"#C8D4E3\"}, \"line\": {\"color\": \"white\"}}, \"type\": \"table\"}]}, \"layout\": {\"annotationdefaults\": {\"arrowcolor\": \"#2a3f5f\", \"arrowhead\": 0, \"arrowwidth\": 1}, \"coloraxis\": {\"colorbar\": {\"outlinewidth\": 0, \"ticks\": \"\"}}, \"colorscale\": {\"diverging\": [[0, \"#8e0152\"], [0.1, \"#c51b7d\"], [0.2, \"#de77ae\"], [0.3, \"#f1b6da\"], [0.4, \"#fde0ef\"], [0.5, \"#f7f7f7\"], [0.6, \"#e6f5d0\"], [0.7, \"#b8e186\"], [0.8, \"#7fbc41\"], [0.9, \"#4d9221\"], [1, \"#276419\"]], \"sequential\": [[0.0, \"#0d0887\"], [0.1111111111111111, \"#46039f\"], [0.2222222222222222, \"#7201a8\"], [0.3333333333333333, \"#9c179e\"], [0.4444444444444444, \"#bd3786\"], [0.5555555555555556, \"#d8576b\"], [0.6666666666666666, \"#ed7953\"], [0.7777777777777778, \"#fb9f3a\"], [0.8888888888888888, \"#fdca26\"], [1.0, \"#f0f921\"]], \"sequentialminus\": [[0.0, \"#0d0887\"], [0.1111111111111111, \"#46039f\"], [0.2222222222222222, \"#7201a8\"], [0.3333333333333333, \"#9c179e\"], [0.4444444444444444, \"#bd3786\"], [0.5555555555555556, \"#d8576b\"], [0.6666666666666666, \"#ed7953\"], [0.7777777777777778, \"#fb9f3a\"], [0.8888888888888888, \"#fdca26\"], [1.0, \"#f0f921\"]]}, \"colorway\": [\"#636efa\", \"#EF553B\", \"#00cc96\", \"#ab63fa\", \"#FFA15A\", \"#19d3f3\", \"#FF6692\", \"#B6E880\", \"#FF97FF\", \"#FECB52\"], \"font\": {\"color\": \"#2a3f5f\"}, \"geo\": {\"bgcolor\": \"white\", \"lakecolor\": \"white\", \"landcolor\": \"#E5ECF6\", \"showlakes\": true, \"showland\": true, \"subunitcolor\": \"white\"}, \"hoverlabel\": {\"align\": \"left\"}, \"hovermode\": \"closest\", \"mapbox\": {\"style\": \"light\"}, \"paper_bgcolor\": \"white\", \"plot_bgcolor\": \"#E5ECF6\", \"polar\": {\"angularaxis\": {\"gridcolor\": \"white\", \"linecolor\": \"white\", \"ticks\": \"\"}, \"bgcolor\": \"#E5ECF6\", \"radialaxis\": {\"gridcolor\": \"white\", \"linecolor\": \"white\", \"ticks\": \"\"}}, \"scene\": {\"xaxis\": {\"backgroundcolor\": \"#E5ECF6\", \"gridcolor\": \"white\", \"gridwidth\": 2, \"linecolor\": \"white\", \"showbackground\": true, \"ticks\": \"\", \"zerolinecolor\": \"white\"}, \"yaxis\": {\"backgroundcolor\": \"#E5ECF6\", \"gridcolor\": \"white\", \"gridwidth\": 2, \"linecolor\": \"white\", \"showbackground\": true, \"ticks\": \"\", \"zerolinecolor\": \"white\"}, \"zaxis\": {\"backgroundcolor\": \"#E5ECF6\", \"gridcolor\": \"white\", \"gridwidth\": 2, \"linecolor\": \"white\", \"showbackground\": true, \"ticks\": \"\", \"zerolinecolor\": \"white\"}}, \"shapedefaults\": {\"line\": {\"color\": \"#2a3f5f\"}}, \"ternary\": {\"aaxis\": {\"gridcolor\": \"white\", \"linecolor\": \"white\", \"ticks\": \"\"}, \"baxis\": {\"gridcolor\": \"white\", \"linecolor\": \"white\", \"ticks\": \"\"}, \"bgcolor\": \"#E5ECF6\", \"caxis\": {\"gridcolor\": \"white\", \"linecolor\": \"white\", \"ticks\": \"\"}}, \"title\": {\"x\": 0.05}, \"xaxis\": {\"automargin\": true, \"gridcolor\": \"white\", \"linecolor\": \"white\", \"ticks\": \"\", \"title\": {\"standoff\": 15}, \"zerolinecolor\": \"white\", \"zerolinewidth\": 2}, \"yaxis\": {\"automargin\": true, \"gridcolor\": \"white\", \"linecolor\": \"white\", \"ticks\": \"\", \"title\": {\"standoff\": 15}, \"zerolinecolor\": \"white\", \"zerolinewidth\": 2}}}, \"title\": {\"text\": \"Mean Patients on Waiting List 2018-2019\"}, \"xaxis\": {\"anchor\": \"y\", \"domain\": [0.0, 1.0], \"title\": {\"text\": \"Name\"}}, \"yaxis\": {\"anchor\": \"x\", \"domain\": [0.0, 1.0], \"title\": {\"text\": \"Total on Waiting List\"}}},\n",
       "                        {\"responsive\": true}\n",
       "                    ).then(function(){\n",
       "                            \n",
       "var gd = document.getElementById('844e3f46-7ec4-4e86-98e4-89fb51f7f698');\n",
       "var x = new MutationObserver(function (mutations, observer) {{\n",
       "        var display = window.getComputedStyle(gd).display;\n",
       "        if (!display || display === 'none') {{\n",
       "            console.log([gd, 'removed!']);\n",
       "            Plotly.purge(gd);\n",
       "            observer.disconnect();\n",
       "        }}\n",
       "}});\n",
       "\n",
       "// Listen for the removal of the full notebook cells\n",
       "var notebookContainer = gd.closest('#notebook-container');\n",
       "if (notebookContainer) {{\n",
       "    x.observe(notebookContainer, {childList: true});\n",
       "}}\n",
       "\n",
       "// Listen for the clearing of the current output cell\n",
       "var outputEl = gd.closest('.output');\n",
       "if (outputEl) {{\n",
       "    x.observe(outputEl, {childList: true});\n",
       "}}\n",
       "\n",
       "                        })\n",
       "                };\n",
       "                });\n",
       "            </script>\n",
       "        </div>"
      ]
     },
     "metadata": {},
     "output_type": "display_data"
    }
   ],
   "source": [
    "fig = px.box(df_hampshire_group, y='Total on Waiting List', x='Name', points='all', title=\"Mean Patients on Waiting List 2018-2019\")\n",
    "fig.show()"
   ]
  },
  {
   "cell_type": "code",
   "execution_count": 96,
   "metadata": {},
   "outputs": [],
   "source": [
    "fig = px.box(\n",
    "    df_hampshire_test[df_hampshire_test['Diagnostic Tests'].isin([\"MRI\", \"ECHOCARDIOGRAPHY\", \"NON_OBSTETRIC_ULTRASOUND\", \"CT\"])],\n",
    "    x='Over 6 Percentage',\n",
    "    y='Diagnostic Tests',\n",
    "    color='Name',\n",
    "    title='Mean Perctenage Patients Waiting over 6 Weeks 2018-2019'\n",
    ")"
   ]
  },
  {
   "cell_type": "code",
   "execution_count": 97,
   "metadata": {},
   "outputs": [
    {
     "data": {
      "application/vnd.plotly.v1+json": {
       "config": {
        "plotlyServerURL": "https://plot.ly"
       },
       "data": [
        {
         "alignmentgroup": "True",
         "hoverlabel": {
          "namelength": 0
         },
         "hovertemplate": "Name=BUCKINGHAMSHIRE HEALTHCARE NHS TRUST<br>Over 6 Percentage=%{x}<br>Diagnostic Tests=%{y}",
         "legendgroup": "Name=BUCKINGHAMSHIRE HEALTHCARE NHS TRUST",
         "marker": {
          "color": "#636efa"
         },
         "name": "Name=BUCKINGHAMSHIRE HEALTHCARE NHS TRUST",
         "notched": false,
         "offsetgroup": "Name=BUCKINGHAMSHIRE HEALTHCARE NHS TRUST",
         "orientation": "h",
         "showlegend": true,
         "type": "box",
         "x": [
          0,
          0,
          0,
          0,
          0,
          0,
          0,
          0,
          0,
          0,
          0,
          0,
          0,
          0,
          0,
          0,
          0,
          0,
          0,
          0,
          0,
          0,
          0,
          0,
          0,
          0,
          0.010714285714285714,
          0,
          0,
          0,
          0,
          0,
          0,
          0,
          0,
          0,
          0,
          0,
          0,
          0,
          0,
          0,
          0,
          0,
          0.018475750577367205,
          0,
          0,
          0,
          0,
          0,
          0,
          0,
          0,
          0,
          0,
          0,
          0,
          0,
          0,
          0,
          0,
          0,
          0.002564102564102564,
          0,
          0,
          0,
          0,
          0,
          0.006042296072507553,
          0,
          0,
          0.0023923444976076554
         ],
         "x0": " ",
         "xaxis": "x",
         "y": [
          "CT",
          "ECHOCARDIOGRAPHY",
          "MRI",
          "NON_OBSTETRIC_ULTRASOUND",
          "CT",
          "ECHOCARDIOGRAPHY",
          "MRI",
          "NON_OBSTETRIC_ULTRASOUND",
          "CT",
          "ECHOCARDIOGRAPHY",
          "MRI",
          "NON_OBSTETRIC_ULTRASOUND",
          "CT",
          "ECHOCARDIOGRAPHY",
          "MRI",
          "NON_OBSTETRIC_ULTRASOUND",
          "CT",
          "ECHOCARDIOGRAPHY",
          "MRI",
          "NON_OBSTETRIC_ULTRASOUND",
          "CT",
          "ECHOCARDIOGRAPHY",
          "MRI",
          "NON_OBSTETRIC_ULTRASOUND",
          "CT",
          "ECHOCARDIOGRAPHY",
          "MRI",
          "NON_OBSTETRIC_ULTRASOUND",
          "CT",
          "ECHOCARDIOGRAPHY",
          "MRI",
          "NON_OBSTETRIC_ULTRASOUND",
          "CT",
          "ECHOCARDIOGRAPHY",
          "MRI",
          "NON_OBSTETRIC_ULTRASOUND",
          "CT",
          "ECHOCARDIOGRAPHY",
          "MRI",
          "NON_OBSTETRIC_ULTRASOUND",
          "CT",
          "ECHOCARDIOGRAPHY",
          "MRI",
          "NON_OBSTETRIC_ULTRASOUND",
          "CT",
          "ECHOCARDIOGRAPHY",
          "MRI",
          "NON_OBSTETRIC_ULTRASOUND",
          "CT",
          "ECHOCARDIOGRAPHY",
          "MRI",
          "NON_OBSTETRIC_ULTRASOUND",
          "CT",
          "ECHOCARDIOGRAPHY",
          "MRI",
          "NON_OBSTETRIC_ULTRASOUND",
          "CT",
          "ECHOCARDIOGRAPHY",
          "MRI",
          "NON_OBSTETRIC_ULTRASOUND",
          "CT",
          "ECHOCARDIOGRAPHY",
          "MRI",
          "NON_OBSTETRIC_ULTRASOUND",
          "CT",
          "ECHOCARDIOGRAPHY",
          "MRI",
          "NON_OBSTETRIC_ULTRASOUND",
          "CT",
          "ECHOCARDIOGRAPHY",
          "MRI",
          "NON_OBSTETRIC_ULTRASOUND"
         ],
         "y0": " ",
         "yaxis": "y"
        },
        {
         "alignmentgroup": "True",
         "hoverlabel": {
          "namelength": 0
         },
         "hovertemplate": "Name=HAMPSHIRE HOSPITALS NHS FOUNDATION TRUST<br>Over 6 Percentage=%{x}<br>Diagnostic Tests=%{y}",
         "legendgroup": "Name=HAMPSHIRE HOSPITALS NHS FOUNDATION TRUST",
         "marker": {
          "color": "#EF553B"
         },
         "name": "Name=HAMPSHIRE HOSPITALS NHS FOUNDATION TRUST",
         "notched": false,
         "offsetgroup": "Name=HAMPSHIRE HOSPITALS NHS FOUNDATION TRUST",
         "orientation": "h",
         "showlegend": true,
         "type": "box",
         "x": [
          0,
          0.3373493975903614,
          0.09236453201970443,
          0.0014336917562724014,
          0.002680965147453083,
          0.19230769230769232,
          0.15418287937743191,
          0.00351288056206089,
          0.0028011204481792717,
          0.15789473684210525,
          0.23540762180414856,
          0.0046822742474916385,
          0,
          0.24,
          0.2038327526132404,
          0.0006983240223463687,
          0,
          0.21951219512195122,
          0.03799514955537591,
          0.0036144578313253013,
          0,
          0.34210526315789475,
          0.10684647302904564,
          0,
          0.010703363914373088,
          0.13333333333333333,
          0.013179571663920923,
          0.004881025015253203,
          0.01011804384485666,
          0.3333333333333333,
          0.029008863819500404,
          0.004484304932735426,
          0.011097410604192354,
          0.22727272727272727,
          0.0150093808630394,
          0.006417736289381563,
          0.024226110363391656,
          0.36363636363636365,
          0.07924836601307189,
          0.012417218543046357,
          0.01687116564417178,
          0.08045977011494253,
          0.006683375104427736,
          0.018446601941747572,
          0.023064250411861616,
          0.09722222222222222,
          0.021937842778793418,
          0.009000900090009001,
          0.012295081967213115,
          0.2956521739130435,
          0.011603375527426161,
          0.008902077151335312,
          0.0030120481927710845,
          0.19626168224299065,
          0.011638316920322292,
          0.006442376521116679,
          0.004608294930875576,
          0.023255813953488372,
          0.028680688336520075,
          0.012974976830398516,
          0.0017271157167530224,
          0.06140350877192982,
          0.007322175732217573,
          0.011009174311926606,
          0.002145922746781116,
          0.015037593984962405,
          0.010869565217391304,
          0.005723630417007359,
          0,
          0.028846153846153848,
          0.012114537444933921,
          0.014705882352941176
         ],
         "x0": " ",
         "xaxis": "x",
         "y": [
          "CT",
          "ECHOCARDIOGRAPHY",
          "MRI",
          "NON_OBSTETRIC_ULTRASOUND",
          "CT",
          "ECHOCARDIOGRAPHY",
          "MRI",
          "NON_OBSTETRIC_ULTRASOUND",
          "CT",
          "ECHOCARDIOGRAPHY",
          "MRI",
          "NON_OBSTETRIC_ULTRASOUND",
          "CT",
          "ECHOCARDIOGRAPHY",
          "MRI",
          "NON_OBSTETRIC_ULTRASOUND",
          "CT",
          "ECHOCARDIOGRAPHY",
          "MRI",
          "NON_OBSTETRIC_ULTRASOUND",
          "CT",
          "ECHOCARDIOGRAPHY",
          "MRI",
          "NON_OBSTETRIC_ULTRASOUND",
          "CT",
          "ECHOCARDIOGRAPHY",
          "MRI",
          "NON_OBSTETRIC_ULTRASOUND",
          "CT",
          "ECHOCARDIOGRAPHY",
          "MRI",
          "NON_OBSTETRIC_ULTRASOUND",
          "CT",
          "ECHOCARDIOGRAPHY",
          "MRI",
          "NON_OBSTETRIC_ULTRASOUND",
          "CT",
          "ECHOCARDIOGRAPHY",
          "MRI",
          "NON_OBSTETRIC_ULTRASOUND",
          "CT",
          "ECHOCARDIOGRAPHY",
          "MRI",
          "NON_OBSTETRIC_ULTRASOUND",
          "CT",
          "ECHOCARDIOGRAPHY",
          "MRI",
          "NON_OBSTETRIC_ULTRASOUND",
          "CT",
          "ECHOCARDIOGRAPHY",
          "MRI",
          "NON_OBSTETRIC_ULTRASOUND",
          "CT",
          "ECHOCARDIOGRAPHY",
          "MRI",
          "NON_OBSTETRIC_ULTRASOUND",
          "CT",
          "ECHOCARDIOGRAPHY",
          "MRI",
          "NON_OBSTETRIC_ULTRASOUND",
          "CT",
          "ECHOCARDIOGRAPHY",
          "MRI",
          "NON_OBSTETRIC_ULTRASOUND",
          "CT",
          "ECHOCARDIOGRAPHY",
          "MRI",
          "NON_OBSTETRIC_ULTRASOUND",
          "CT",
          "ECHOCARDIOGRAPHY",
          "MRI",
          "NON_OBSTETRIC_ULTRASOUND"
         ],
         "y0": " ",
         "yaxis": "y"
        },
        {
         "alignmentgroup": "True",
         "hoverlabel": {
          "namelength": 0
         },
         "hovertemplate": "Name=OXFORD UNIVERSITY HOSPITALS NHS FOUNDATION TRUST<br>Over 6 Percentage=%{x}<br>Diagnostic Tests=%{y}",
         "legendgroup": "Name=OXFORD UNIVERSITY HOSPITALS NHS FOUNDATION TRUST",
         "marker": {
          "color": "#00cc96"
         },
         "name": "Name=OXFORD UNIVERSITY HOSPITALS NHS FOUNDATION TRUST",
         "notched": false,
         "offsetgroup": "Name=OXFORD UNIVERSITY HOSPITALS NHS FOUNDATION TRUST",
         "orientation": "h",
         "showlegend": true,
         "type": "box",
         "x": [
          0.0014194464158978,
          0.4536082474226804,
          0.026757369614512472,
          0,
          0.009080590238365494,
          0.6056338028169014,
          0.0397212543554007,
          0.00032948929159802305,
          0.0012492192379762648,
          0.45664739884393063,
          0.06175081729022884,
          0.0007054673721340388,
          0.0033967391304347825,
          0.16267942583732056,
          0.054667162513945704,
          0,
          0.0006622516556291391,
          0.17289719626168223,
          0.047942876572594356,
          0,
          0.0037064492216456633,
          0,
          0.04788213627992634,
          0,
          0.008450704225352112,
          0,
          0.049843150923666785,
          0,
          0.005855562784645413,
          0.003929273084479371,
          0.05430646835005189,
          0,
          0.0031867431485022306,
          0,
          0.040235525024533855,
          0,
          0.002973977695167286,
          0.008888888888888889,
          0.0945518453427065,
          0,
          0.0036075036075036075,
          0.018832391713747645,
          0.046825895663104966,
          0,
          0.0013324450366422385,
          0.008620689655172414,
          0.07588985896574882,
          0,
          0.004261363636363636,
          0.00234192037470726,
          0.07228070175438596,
          0.000939261114589856,
          0.003986710963455149,
          0,
          0.07103448275862069,
          0.0010683760683760685,
          0.0035137034434293743,
          0.012195121951219513,
          0.06622998544395925,
          0.0008469791078486731,
          0.005661712668082095,
          0.0067226890756302525,
          0.06383763837638376,
          0,
          0.005551700208188758,
          0.02662037037037037,
          0.06411618845200141,
          0,
          0.006656804733727811,
          0.0057405281285878304,
          0.06399685904986259,
          0
         ],
         "x0": " ",
         "xaxis": "x",
         "y": [
          "CT",
          "ECHOCARDIOGRAPHY",
          "MRI",
          "NON_OBSTETRIC_ULTRASOUND",
          "CT",
          "ECHOCARDIOGRAPHY",
          "MRI",
          "NON_OBSTETRIC_ULTRASOUND",
          "CT",
          "ECHOCARDIOGRAPHY",
          "MRI",
          "NON_OBSTETRIC_ULTRASOUND",
          "CT",
          "ECHOCARDIOGRAPHY",
          "MRI",
          "NON_OBSTETRIC_ULTRASOUND",
          "CT",
          "ECHOCARDIOGRAPHY",
          "MRI",
          "NON_OBSTETRIC_ULTRASOUND",
          "CT",
          "ECHOCARDIOGRAPHY",
          "MRI",
          "NON_OBSTETRIC_ULTRASOUND",
          "CT",
          "ECHOCARDIOGRAPHY",
          "MRI",
          "NON_OBSTETRIC_ULTRASOUND",
          "CT",
          "ECHOCARDIOGRAPHY",
          "MRI",
          "NON_OBSTETRIC_ULTRASOUND",
          "CT",
          "ECHOCARDIOGRAPHY",
          "MRI",
          "NON_OBSTETRIC_ULTRASOUND",
          "CT",
          "ECHOCARDIOGRAPHY",
          "MRI",
          "NON_OBSTETRIC_ULTRASOUND",
          "CT",
          "ECHOCARDIOGRAPHY",
          "MRI",
          "NON_OBSTETRIC_ULTRASOUND",
          "CT",
          "ECHOCARDIOGRAPHY",
          "MRI",
          "NON_OBSTETRIC_ULTRASOUND",
          "CT",
          "ECHOCARDIOGRAPHY",
          "MRI",
          "NON_OBSTETRIC_ULTRASOUND",
          "CT",
          "ECHOCARDIOGRAPHY",
          "MRI",
          "NON_OBSTETRIC_ULTRASOUND",
          "CT",
          "ECHOCARDIOGRAPHY",
          "MRI",
          "NON_OBSTETRIC_ULTRASOUND",
          "CT",
          "ECHOCARDIOGRAPHY",
          "MRI",
          "NON_OBSTETRIC_ULTRASOUND",
          "CT",
          "ECHOCARDIOGRAPHY",
          "MRI",
          "NON_OBSTETRIC_ULTRASOUND",
          "CT",
          "ECHOCARDIOGRAPHY",
          "MRI",
          "NON_OBSTETRIC_ULTRASOUND"
         ],
         "y0": " ",
         "yaxis": "y"
        },
        {
         "alignmentgroup": "True",
         "hoverlabel": {
          "namelength": 0
         },
         "hovertemplate": "Name=ROYAL BERKSHIRE NHS FOUNDATION TRUST<br>Over 6 Percentage=%{x}<br>Diagnostic Tests=%{y}",
         "legendgroup": "Name=ROYAL BERKSHIRE NHS FOUNDATION TRUST",
         "marker": {
          "color": "#ab63fa"
         },
         "name": "Name=ROYAL BERKSHIRE NHS FOUNDATION TRUST",
         "notched": false,
         "offsetgroup": "Name=ROYAL BERKSHIRE NHS FOUNDATION TRUST",
         "orientation": "h",
         "showlegend": true,
         "type": "box",
         "x": [
          0.0021645021645021645,
          0.39552238805970147,
          0.020202020202020204,
          0,
          0.007621951219512195,
          0.5051546391752577,
          0.006092254134029591,
          0,
          0,
          0.398576512455516,
          0.014806378132118452,
          0,
          0.005893909626719057,
          0.21982758620689655,
          0.016905071521456438,
          0,
          0.005076142131979695,
          0.11504424778761062,
          0.011023622047244094,
          0,
          0,
          0.07772020725388601,
          0.011128775834658187,
          0,
          0.002136752136752137,
          0.02262443438914027,
          0.006172839506172839,
          0,
          0.008333333333333333,
          0.02390438247011952,
          0.008211678832116789,
          0.001287001287001287,
          0.0038860103626943004,
          0.09216589861751152,
          0.04990151017728168,
          0,
          0.04245283018867924,
          0.1483050847457627,
          0.08625525946704067,
          0.00423728813559322,
          0.001466275659824047,
          0.00423728813559322,
          0.045554739162380606,
          0,
          0.020757020757020756,
          0.009868421052631578,
          0.025923016496465043,
          0.0013698630136986301,
          0,
          0.06896551724137931,
          0.08214285714285714,
          0.006420545746388443,
          0.010884353741496598,
          0.024242424242424242,
          0.01998519615099926,
          0,
          0.0062402496099844,
          0.007874015748031496,
          0.04003724394785847,
          0.0012658227848101266,
          0.010482180293501049,
          0.041884816753926704,
          0.020754716981132074,
          0.001059322033898305,
          0.004008016032064128,
          0.018518518518518517,
          0.01775147928994083,
          0.0009354536950420954,
          0.011428571428571429,
          0.006622516556291391,
          0.02102803738317757,
          0
         ],
         "x0": " ",
         "xaxis": "x",
         "y": [
          "CT",
          "ECHOCARDIOGRAPHY",
          "MRI",
          "NON_OBSTETRIC_ULTRASOUND",
          "CT",
          "ECHOCARDIOGRAPHY",
          "MRI",
          "NON_OBSTETRIC_ULTRASOUND",
          "CT",
          "ECHOCARDIOGRAPHY",
          "MRI",
          "NON_OBSTETRIC_ULTRASOUND",
          "CT",
          "ECHOCARDIOGRAPHY",
          "MRI",
          "NON_OBSTETRIC_ULTRASOUND",
          "CT",
          "ECHOCARDIOGRAPHY",
          "MRI",
          "NON_OBSTETRIC_ULTRASOUND",
          "CT",
          "ECHOCARDIOGRAPHY",
          "MRI",
          "NON_OBSTETRIC_ULTRASOUND",
          "CT",
          "ECHOCARDIOGRAPHY",
          "MRI",
          "NON_OBSTETRIC_ULTRASOUND",
          "CT",
          "ECHOCARDIOGRAPHY",
          "MRI",
          "NON_OBSTETRIC_ULTRASOUND",
          "CT",
          "ECHOCARDIOGRAPHY",
          "MRI",
          "NON_OBSTETRIC_ULTRASOUND",
          "CT",
          "ECHOCARDIOGRAPHY",
          "MRI",
          "NON_OBSTETRIC_ULTRASOUND",
          "CT",
          "ECHOCARDIOGRAPHY",
          "MRI",
          "NON_OBSTETRIC_ULTRASOUND",
          "CT",
          "ECHOCARDIOGRAPHY",
          "MRI",
          "NON_OBSTETRIC_ULTRASOUND",
          "CT",
          "ECHOCARDIOGRAPHY",
          "MRI",
          "NON_OBSTETRIC_ULTRASOUND",
          "CT",
          "ECHOCARDIOGRAPHY",
          "MRI",
          "NON_OBSTETRIC_ULTRASOUND",
          "CT",
          "ECHOCARDIOGRAPHY",
          "MRI",
          "NON_OBSTETRIC_ULTRASOUND",
          "CT",
          "ECHOCARDIOGRAPHY",
          "MRI",
          "NON_OBSTETRIC_ULTRASOUND",
          "CT",
          "ECHOCARDIOGRAPHY",
          "MRI",
          "NON_OBSTETRIC_ULTRASOUND",
          "CT",
          "ECHOCARDIOGRAPHY",
          "MRI",
          "NON_OBSTETRIC_ULTRASOUND"
         ],
         "y0": " ",
         "yaxis": "y"
        }
       ],
       "layout": {
        "boxmode": "group",
        "legend": {
         "tracegroupgap": 0
        },
        "template": {
         "data": {
          "bar": [
           {
            "error_x": {
             "color": "#2a3f5f"
            },
            "error_y": {
             "color": "#2a3f5f"
            },
            "marker": {
             "line": {
              "color": "#E5ECF6",
              "width": 0.5
             }
            },
            "type": "bar"
           }
          ],
          "barpolar": [
           {
            "marker": {
             "line": {
              "color": "#E5ECF6",
              "width": 0.5
             }
            },
            "type": "barpolar"
           }
          ],
          "carpet": [
           {
            "aaxis": {
             "endlinecolor": "#2a3f5f",
             "gridcolor": "white",
             "linecolor": "white",
             "minorgridcolor": "white",
             "startlinecolor": "#2a3f5f"
            },
            "baxis": {
             "endlinecolor": "#2a3f5f",
             "gridcolor": "white",
             "linecolor": "white",
             "minorgridcolor": "white",
             "startlinecolor": "#2a3f5f"
            },
            "type": "carpet"
           }
          ],
          "choropleth": [
           {
            "colorbar": {
             "outlinewidth": 0,
             "ticks": ""
            },
            "type": "choropleth"
           }
          ],
          "contour": [
           {
            "colorbar": {
             "outlinewidth": 0,
             "ticks": ""
            },
            "colorscale": [
             [
              0,
              "#0d0887"
             ],
             [
              0.1111111111111111,
              "#46039f"
             ],
             [
              0.2222222222222222,
              "#7201a8"
             ],
             [
              0.3333333333333333,
              "#9c179e"
             ],
             [
              0.4444444444444444,
              "#bd3786"
             ],
             [
              0.5555555555555556,
              "#d8576b"
             ],
             [
              0.6666666666666666,
              "#ed7953"
             ],
             [
              0.7777777777777778,
              "#fb9f3a"
             ],
             [
              0.8888888888888888,
              "#fdca26"
             ],
             [
              1,
              "#f0f921"
             ]
            ],
            "type": "contour"
           }
          ],
          "contourcarpet": [
           {
            "colorbar": {
             "outlinewidth": 0,
             "ticks": ""
            },
            "type": "contourcarpet"
           }
          ],
          "heatmap": [
           {
            "colorbar": {
             "outlinewidth": 0,
             "ticks": ""
            },
            "colorscale": [
             [
              0,
              "#0d0887"
             ],
             [
              0.1111111111111111,
              "#46039f"
             ],
             [
              0.2222222222222222,
              "#7201a8"
             ],
             [
              0.3333333333333333,
              "#9c179e"
             ],
             [
              0.4444444444444444,
              "#bd3786"
             ],
             [
              0.5555555555555556,
              "#d8576b"
             ],
             [
              0.6666666666666666,
              "#ed7953"
             ],
             [
              0.7777777777777778,
              "#fb9f3a"
             ],
             [
              0.8888888888888888,
              "#fdca26"
             ],
             [
              1,
              "#f0f921"
             ]
            ],
            "type": "heatmap"
           }
          ],
          "heatmapgl": [
           {
            "colorbar": {
             "outlinewidth": 0,
             "ticks": ""
            },
            "colorscale": [
             [
              0,
              "#0d0887"
             ],
             [
              0.1111111111111111,
              "#46039f"
             ],
             [
              0.2222222222222222,
              "#7201a8"
             ],
             [
              0.3333333333333333,
              "#9c179e"
             ],
             [
              0.4444444444444444,
              "#bd3786"
             ],
             [
              0.5555555555555556,
              "#d8576b"
             ],
             [
              0.6666666666666666,
              "#ed7953"
             ],
             [
              0.7777777777777778,
              "#fb9f3a"
             ],
             [
              0.8888888888888888,
              "#fdca26"
             ],
             [
              1,
              "#f0f921"
             ]
            ],
            "type": "heatmapgl"
           }
          ],
          "histogram": [
           {
            "marker": {
             "colorbar": {
              "outlinewidth": 0,
              "ticks": ""
             }
            },
            "type": "histogram"
           }
          ],
          "histogram2d": [
           {
            "colorbar": {
             "outlinewidth": 0,
             "ticks": ""
            },
            "colorscale": [
             [
              0,
              "#0d0887"
             ],
             [
              0.1111111111111111,
              "#46039f"
             ],
             [
              0.2222222222222222,
              "#7201a8"
             ],
             [
              0.3333333333333333,
              "#9c179e"
             ],
             [
              0.4444444444444444,
              "#bd3786"
             ],
             [
              0.5555555555555556,
              "#d8576b"
             ],
             [
              0.6666666666666666,
              "#ed7953"
             ],
             [
              0.7777777777777778,
              "#fb9f3a"
             ],
             [
              0.8888888888888888,
              "#fdca26"
             ],
             [
              1,
              "#f0f921"
             ]
            ],
            "type": "histogram2d"
           }
          ],
          "histogram2dcontour": [
           {
            "colorbar": {
             "outlinewidth": 0,
             "ticks": ""
            },
            "colorscale": [
             [
              0,
              "#0d0887"
             ],
             [
              0.1111111111111111,
              "#46039f"
             ],
             [
              0.2222222222222222,
              "#7201a8"
             ],
             [
              0.3333333333333333,
              "#9c179e"
             ],
             [
              0.4444444444444444,
              "#bd3786"
             ],
             [
              0.5555555555555556,
              "#d8576b"
             ],
             [
              0.6666666666666666,
              "#ed7953"
             ],
             [
              0.7777777777777778,
              "#fb9f3a"
             ],
             [
              0.8888888888888888,
              "#fdca26"
             ],
             [
              1,
              "#f0f921"
             ]
            ],
            "type": "histogram2dcontour"
           }
          ],
          "mesh3d": [
           {
            "colorbar": {
             "outlinewidth": 0,
             "ticks": ""
            },
            "type": "mesh3d"
           }
          ],
          "parcoords": [
           {
            "line": {
             "colorbar": {
              "outlinewidth": 0,
              "ticks": ""
             }
            },
            "type": "parcoords"
           }
          ],
          "pie": [
           {
            "automargin": true,
            "type": "pie"
           }
          ],
          "scatter": [
           {
            "marker": {
             "colorbar": {
              "outlinewidth": 0,
              "ticks": ""
             }
            },
            "type": "scatter"
           }
          ],
          "scatter3d": [
           {
            "line": {
             "colorbar": {
              "outlinewidth": 0,
              "ticks": ""
             }
            },
            "marker": {
             "colorbar": {
              "outlinewidth": 0,
              "ticks": ""
             }
            },
            "type": "scatter3d"
           }
          ],
          "scattercarpet": [
           {
            "marker": {
             "colorbar": {
              "outlinewidth": 0,
              "ticks": ""
             }
            },
            "type": "scattercarpet"
           }
          ],
          "scattergeo": [
           {
            "marker": {
             "colorbar": {
              "outlinewidth": 0,
              "ticks": ""
             }
            },
            "type": "scattergeo"
           }
          ],
          "scattergl": [
           {
            "marker": {
             "colorbar": {
              "outlinewidth": 0,
              "ticks": ""
             }
            },
            "type": "scattergl"
           }
          ],
          "scattermapbox": [
           {
            "marker": {
             "colorbar": {
              "outlinewidth": 0,
              "ticks": ""
             }
            },
            "type": "scattermapbox"
           }
          ],
          "scatterpolar": [
           {
            "marker": {
             "colorbar": {
              "outlinewidth": 0,
              "ticks": ""
             }
            },
            "type": "scatterpolar"
           }
          ],
          "scatterpolargl": [
           {
            "marker": {
             "colorbar": {
              "outlinewidth": 0,
              "ticks": ""
             }
            },
            "type": "scatterpolargl"
           }
          ],
          "scatterternary": [
           {
            "marker": {
             "colorbar": {
              "outlinewidth": 0,
              "ticks": ""
             }
            },
            "type": "scatterternary"
           }
          ],
          "surface": [
           {
            "colorbar": {
             "outlinewidth": 0,
             "ticks": ""
            },
            "colorscale": [
             [
              0,
              "#0d0887"
             ],
             [
              0.1111111111111111,
              "#46039f"
             ],
             [
              0.2222222222222222,
              "#7201a8"
             ],
             [
              0.3333333333333333,
              "#9c179e"
             ],
             [
              0.4444444444444444,
              "#bd3786"
             ],
             [
              0.5555555555555556,
              "#d8576b"
             ],
             [
              0.6666666666666666,
              "#ed7953"
             ],
             [
              0.7777777777777778,
              "#fb9f3a"
             ],
             [
              0.8888888888888888,
              "#fdca26"
             ],
             [
              1,
              "#f0f921"
             ]
            ],
            "type": "surface"
           }
          ],
          "table": [
           {
            "cells": {
             "fill": {
              "color": "#EBF0F8"
             },
             "line": {
              "color": "white"
             }
            },
            "header": {
             "fill": {
              "color": "#C8D4E3"
             },
             "line": {
              "color": "white"
             }
            },
            "type": "table"
           }
          ]
         },
         "layout": {
          "annotationdefaults": {
           "arrowcolor": "#2a3f5f",
           "arrowhead": 0,
           "arrowwidth": 1
          },
          "coloraxis": {
           "colorbar": {
            "outlinewidth": 0,
            "ticks": ""
           }
          },
          "colorscale": {
           "diverging": [
            [
             0,
             "#8e0152"
            ],
            [
             0.1,
             "#c51b7d"
            ],
            [
             0.2,
             "#de77ae"
            ],
            [
             0.3,
             "#f1b6da"
            ],
            [
             0.4,
             "#fde0ef"
            ],
            [
             0.5,
             "#f7f7f7"
            ],
            [
             0.6,
             "#e6f5d0"
            ],
            [
             0.7,
             "#b8e186"
            ],
            [
             0.8,
             "#7fbc41"
            ],
            [
             0.9,
             "#4d9221"
            ],
            [
             1,
             "#276419"
            ]
           ],
           "sequential": [
            [
             0,
             "#0d0887"
            ],
            [
             0.1111111111111111,
             "#46039f"
            ],
            [
             0.2222222222222222,
             "#7201a8"
            ],
            [
             0.3333333333333333,
             "#9c179e"
            ],
            [
             0.4444444444444444,
             "#bd3786"
            ],
            [
             0.5555555555555556,
             "#d8576b"
            ],
            [
             0.6666666666666666,
             "#ed7953"
            ],
            [
             0.7777777777777778,
             "#fb9f3a"
            ],
            [
             0.8888888888888888,
             "#fdca26"
            ],
            [
             1,
             "#f0f921"
            ]
           ],
           "sequentialminus": [
            [
             0,
             "#0d0887"
            ],
            [
             0.1111111111111111,
             "#46039f"
            ],
            [
             0.2222222222222222,
             "#7201a8"
            ],
            [
             0.3333333333333333,
             "#9c179e"
            ],
            [
             0.4444444444444444,
             "#bd3786"
            ],
            [
             0.5555555555555556,
             "#d8576b"
            ],
            [
             0.6666666666666666,
             "#ed7953"
            ],
            [
             0.7777777777777778,
             "#fb9f3a"
            ],
            [
             0.8888888888888888,
             "#fdca26"
            ],
            [
             1,
             "#f0f921"
            ]
           ]
          },
          "colorway": [
           "#636efa",
           "#EF553B",
           "#00cc96",
           "#ab63fa",
           "#FFA15A",
           "#19d3f3",
           "#FF6692",
           "#B6E880",
           "#FF97FF",
           "#FECB52"
          ],
          "font": {
           "color": "#2a3f5f"
          },
          "geo": {
           "bgcolor": "white",
           "lakecolor": "white",
           "landcolor": "#E5ECF6",
           "showlakes": true,
           "showland": true,
           "subunitcolor": "white"
          },
          "hoverlabel": {
           "align": "left"
          },
          "hovermode": "closest",
          "mapbox": {
           "style": "light"
          },
          "paper_bgcolor": "white",
          "plot_bgcolor": "#E5ECF6",
          "polar": {
           "angularaxis": {
            "gridcolor": "white",
            "linecolor": "white",
            "ticks": ""
           },
           "bgcolor": "#E5ECF6",
           "radialaxis": {
            "gridcolor": "white",
            "linecolor": "white",
            "ticks": ""
           }
          },
          "scene": {
           "xaxis": {
            "backgroundcolor": "#E5ECF6",
            "gridcolor": "white",
            "gridwidth": 2,
            "linecolor": "white",
            "showbackground": true,
            "ticks": "",
            "zerolinecolor": "white"
           },
           "yaxis": {
            "backgroundcolor": "#E5ECF6",
            "gridcolor": "white",
            "gridwidth": 2,
            "linecolor": "white",
            "showbackground": true,
            "ticks": "",
            "zerolinecolor": "white"
           },
           "zaxis": {
            "backgroundcolor": "#E5ECF6",
            "gridcolor": "white",
            "gridwidth": 2,
            "linecolor": "white",
            "showbackground": true,
            "ticks": "",
            "zerolinecolor": "white"
           }
          },
          "shapedefaults": {
           "line": {
            "color": "#2a3f5f"
           }
          },
          "ternary": {
           "aaxis": {
            "gridcolor": "white",
            "linecolor": "white",
            "ticks": ""
           },
           "baxis": {
            "gridcolor": "white",
            "linecolor": "white",
            "ticks": ""
           },
           "bgcolor": "#E5ECF6",
           "caxis": {
            "gridcolor": "white",
            "linecolor": "white",
            "ticks": ""
           }
          },
          "title": {
           "x": 0.05
          },
          "xaxis": {
           "automargin": true,
           "gridcolor": "white",
           "linecolor": "white",
           "ticks": "",
           "title": {
            "standoff": 15
           },
           "zerolinecolor": "white",
           "zerolinewidth": 2
          },
          "yaxis": {
           "automargin": true,
           "gridcolor": "white",
           "linecolor": "white",
           "ticks": "",
           "title": {
            "standoff": 15
           },
           "zerolinecolor": "white",
           "zerolinewidth": 2
          }
         }
        },
        "title": {
         "text": "Mean Perctenage Patients Waiting over 6 Weeks 2018-2019"
        },
        "xaxis": {
         "anchor": "y",
         "domain": [
          0,
          1
         ],
         "title": {
          "text": "Over 6 Percentage"
         }
        },
        "yaxis": {
         "anchor": "x",
         "domain": [
          0,
          1
         ],
         "title": {
          "text": "Diagnostic Tests"
         }
        }
       }
      },
      "text/html": [
       "<div>\n",
       "        \n",
       "        \n",
       "            <div id=\"8e0ca095-9900-4f42-8811-6ecc8f123b19\" class=\"plotly-graph-div\" style=\"height:525px; width:100%;\"></div>\n",
       "            <script type=\"text/javascript\">\n",
       "                require([\"plotly\"], function(Plotly) {\n",
       "                    window.PLOTLYENV=window.PLOTLYENV || {};\n",
       "                    \n",
       "                if (document.getElementById(\"8e0ca095-9900-4f42-8811-6ecc8f123b19\")) {\n",
       "                    Plotly.newPlot(\n",
       "                        '8e0ca095-9900-4f42-8811-6ecc8f123b19',\n",
       "                        [{\"alignmentgroup\": \"True\", \"hoverlabel\": {\"namelength\": 0}, \"hovertemplate\": \"Name=BUCKINGHAMSHIRE HEALTHCARE NHS TRUST<br>Over 6 Percentage=%{x}<br>Diagnostic Tests=%{y}\", \"legendgroup\": \"Name=BUCKINGHAMSHIRE HEALTHCARE NHS TRUST\", \"marker\": {\"color\": \"#636efa\"}, \"name\": \"Name=BUCKINGHAMSHIRE HEALTHCARE NHS TRUST\", \"notched\": false, \"offsetgroup\": \"Name=BUCKINGHAMSHIRE HEALTHCARE NHS TRUST\", \"orientation\": \"h\", \"showlegend\": true, \"type\": \"box\", \"x\": [0.0, 0.0, 0.0, 0.0, 0.0, 0.0, 0.0, 0.0, 0.0, 0.0, 0.0, 0.0, 0.0, 0.0, 0.0, 0.0, 0.0, 0.0, 0.0, 0.0, 0.0, 0.0, 0.0, 0.0, 0.0, 0.0, 0.010714285714285714, 0.0, 0.0, 0.0, 0.0, 0.0, 0.0, 0.0, 0.0, 0.0, 0.0, 0.0, 0.0, 0.0, 0.0, 0.0, 0.0, 0.0, 0.018475750577367205, 0.0, 0.0, 0.0, 0.0, 0.0, 0.0, 0.0, 0.0, 0.0, 0.0, 0.0, 0.0, 0.0, 0.0, 0.0, 0.0, 0.0, 0.002564102564102564, 0.0, 0.0, 0.0, 0.0, 0.0, 0.006042296072507553, 0.0, 0.0, 0.0023923444976076554], \"x0\": \" \", \"xaxis\": \"x\", \"y\": [\"CT\", \"ECHOCARDIOGRAPHY\", \"MRI\", \"NON_OBSTETRIC_ULTRASOUND\", \"CT\", \"ECHOCARDIOGRAPHY\", \"MRI\", \"NON_OBSTETRIC_ULTRASOUND\", \"CT\", \"ECHOCARDIOGRAPHY\", \"MRI\", \"NON_OBSTETRIC_ULTRASOUND\", \"CT\", \"ECHOCARDIOGRAPHY\", \"MRI\", \"NON_OBSTETRIC_ULTRASOUND\", \"CT\", \"ECHOCARDIOGRAPHY\", \"MRI\", \"NON_OBSTETRIC_ULTRASOUND\", \"CT\", \"ECHOCARDIOGRAPHY\", \"MRI\", \"NON_OBSTETRIC_ULTRASOUND\", \"CT\", \"ECHOCARDIOGRAPHY\", \"MRI\", \"NON_OBSTETRIC_ULTRASOUND\", \"CT\", \"ECHOCARDIOGRAPHY\", \"MRI\", \"NON_OBSTETRIC_ULTRASOUND\", \"CT\", \"ECHOCARDIOGRAPHY\", \"MRI\", \"NON_OBSTETRIC_ULTRASOUND\", \"CT\", \"ECHOCARDIOGRAPHY\", \"MRI\", \"NON_OBSTETRIC_ULTRASOUND\", \"CT\", \"ECHOCARDIOGRAPHY\", \"MRI\", \"NON_OBSTETRIC_ULTRASOUND\", \"CT\", \"ECHOCARDIOGRAPHY\", \"MRI\", \"NON_OBSTETRIC_ULTRASOUND\", \"CT\", \"ECHOCARDIOGRAPHY\", \"MRI\", \"NON_OBSTETRIC_ULTRASOUND\", \"CT\", \"ECHOCARDIOGRAPHY\", \"MRI\", \"NON_OBSTETRIC_ULTRASOUND\", \"CT\", \"ECHOCARDIOGRAPHY\", \"MRI\", \"NON_OBSTETRIC_ULTRASOUND\", \"CT\", \"ECHOCARDIOGRAPHY\", \"MRI\", \"NON_OBSTETRIC_ULTRASOUND\", \"CT\", \"ECHOCARDIOGRAPHY\", \"MRI\", \"NON_OBSTETRIC_ULTRASOUND\", \"CT\", \"ECHOCARDIOGRAPHY\", \"MRI\", \"NON_OBSTETRIC_ULTRASOUND\"], \"y0\": \" \", \"yaxis\": \"y\"}, {\"alignmentgroup\": \"True\", \"hoverlabel\": {\"namelength\": 0}, \"hovertemplate\": \"Name=HAMPSHIRE HOSPITALS NHS FOUNDATION TRUST<br>Over 6 Percentage=%{x}<br>Diagnostic Tests=%{y}\", \"legendgroup\": \"Name=HAMPSHIRE HOSPITALS NHS FOUNDATION TRUST\", \"marker\": {\"color\": \"#EF553B\"}, \"name\": \"Name=HAMPSHIRE HOSPITALS NHS FOUNDATION TRUST\", \"notched\": false, \"offsetgroup\": \"Name=HAMPSHIRE HOSPITALS NHS FOUNDATION TRUST\", \"orientation\": \"h\", \"showlegend\": true, \"type\": \"box\", \"x\": [0.0, 0.3373493975903614, 0.09236453201970443, 0.0014336917562724014, 0.002680965147453083, 0.19230769230769232, 0.15418287937743191, 0.00351288056206089, 0.0028011204481792717, 0.15789473684210525, 0.23540762180414856, 0.0046822742474916385, 0.0, 0.24, 0.2038327526132404, 0.0006983240223463687, 0.0, 0.21951219512195122, 0.03799514955537591, 0.0036144578313253013, 0.0, 0.34210526315789475, 0.10684647302904564, 0.0, 0.010703363914373088, 0.13333333333333333, 0.013179571663920923, 0.004881025015253203, 0.01011804384485666, 0.3333333333333333, 0.029008863819500404, 0.004484304932735426, 0.011097410604192354, 0.22727272727272727, 0.0150093808630394, 0.006417736289381563, 0.024226110363391656, 0.36363636363636365, 0.07924836601307189, 0.012417218543046357, 0.01687116564417178, 0.08045977011494253, 0.006683375104427736, 0.018446601941747572, 0.023064250411861616, 0.09722222222222222, 0.021937842778793418, 0.009000900090009001, 0.012295081967213115, 0.2956521739130435, 0.011603375527426161, 0.008902077151335312, 0.0030120481927710845, 0.19626168224299065, 0.011638316920322292, 0.006442376521116679, 0.004608294930875576, 0.023255813953488372, 0.028680688336520075, 0.012974976830398516, 0.0017271157167530224, 0.06140350877192982, 0.007322175732217573, 0.011009174311926606, 0.002145922746781116, 0.015037593984962405, 0.010869565217391304, 0.005723630417007359, 0.0, 0.028846153846153848, 0.012114537444933921, 0.014705882352941176], \"x0\": \" \", \"xaxis\": \"x\", \"y\": [\"CT\", \"ECHOCARDIOGRAPHY\", \"MRI\", \"NON_OBSTETRIC_ULTRASOUND\", \"CT\", \"ECHOCARDIOGRAPHY\", \"MRI\", \"NON_OBSTETRIC_ULTRASOUND\", \"CT\", \"ECHOCARDIOGRAPHY\", \"MRI\", \"NON_OBSTETRIC_ULTRASOUND\", \"CT\", \"ECHOCARDIOGRAPHY\", \"MRI\", \"NON_OBSTETRIC_ULTRASOUND\", \"CT\", \"ECHOCARDIOGRAPHY\", \"MRI\", \"NON_OBSTETRIC_ULTRASOUND\", \"CT\", \"ECHOCARDIOGRAPHY\", \"MRI\", \"NON_OBSTETRIC_ULTRASOUND\", \"CT\", \"ECHOCARDIOGRAPHY\", \"MRI\", \"NON_OBSTETRIC_ULTRASOUND\", \"CT\", \"ECHOCARDIOGRAPHY\", \"MRI\", \"NON_OBSTETRIC_ULTRASOUND\", \"CT\", \"ECHOCARDIOGRAPHY\", \"MRI\", \"NON_OBSTETRIC_ULTRASOUND\", \"CT\", \"ECHOCARDIOGRAPHY\", \"MRI\", \"NON_OBSTETRIC_ULTRASOUND\", \"CT\", \"ECHOCARDIOGRAPHY\", \"MRI\", \"NON_OBSTETRIC_ULTRASOUND\", \"CT\", \"ECHOCARDIOGRAPHY\", \"MRI\", \"NON_OBSTETRIC_ULTRASOUND\", \"CT\", \"ECHOCARDIOGRAPHY\", \"MRI\", \"NON_OBSTETRIC_ULTRASOUND\", \"CT\", \"ECHOCARDIOGRAPHY\", \"MRI\", \"NON_OBSTETRIC_ULTRASOUND\", \"CT\", \"ECHOCARDIOGRAPHY\", \"MRI\", \"NON_OBSTETRIC_ULTRASOUND\", \"CT\", \"ECHOCARDIOGRAPHY\", \"MRI\", \"NON_OBSTETRIC_ULTRASOUND\", \"CT\", \"ECHOCARDIOGRAPHY\", \"MRI\", \"NON_OBSTETRIC_ULTRASOUND\", \"CT\", \"ECHOCARDIOGRAPHY\", \"MRI\", \"NON_OBSTETRIC_ULTRASOUND\"], \"y0\": \" \", \"yaxis\": \"y\"}, {\"alignmentgroup\": \"True\", \"hoverlabel\": {\"namelength\": 0}, \"hovertemplate\": \"Name=OXFORD UNIVERSITY HOSPITALS NHS FOUNDATION TRUST<br>Over 6 Percentage=%{x}<br>Diagnostic Tests=%{y}\", \"legendgroup\": \"Name=OXFORD UNIVERSITY HOSPITALS NHS FOUNDATION TRUST\", \"marker\": {\"color\": \"#00cc96\"}, \"name\": \"Name=OXFORD UNIVERSITY HOSPITALS NHS FOUNDATION TRUST\", \"notched\": false, \"offsetgroup\": \"Name=OXFORD UNIVERSITY HOSPITALS NHS FOUNDATION TRUST\", \"orientation\": \"h\", \"showlegend\": true, \"type\": \"box\", \"x\": [0.0014194464158978, 0.4536082474226804, 0.026757369614512472, 0.0, 0.009080590238365494, 0.6056338028169014, 0.0397212543554007, 0.00032948929159802305, 0.0012492192379762648, 0.45664739884393063, 0.06175081729022884, 0.0007054673721340388, 0.0033967391304347825, 0.16267942583732056, 0.054667162513945704, 0.0, 0.0006622516556291391, 0.17289719626168223, 0.047942876572594356, 0.0, 0.0037064492216456633, 0.0, 0.04788213627992634, 0.0, 0.008450704225352112, 0.0, 0.049843150923666785, 0.0, 0.005855562784645413, 0.003929273084479371, 0.05430646835005189, 0.0, 0.0031867431485022306, 0.0, 0.040235525024533855, 0.0, 0.002973977695167286, 0.008888888888888889, 0.0945518453427065, 0.0, 0.0036075036075036075, 0.018832391713747645, 0.046825895663104966, 0.0, 0.0013324450366422385, 0.008620689655172414, 0.07588985896574882, 0.0, 0.004261363636363636, 0.00234192037470726, 0.07228070175438596, 0.000939261114589856, 0.003986710963455149, 0.0, 0.07103448275862069, 0.0010683760683760685, 0.0035137034434293743, 0.012195121951219513, 0.06622998544395925, 0.0008469791078486731, 0.005661712668082095, 0.0067226890756302525, 0.06383763837638376, 0.0, 0.005551700208188758, 0.02662037037037037, 0.06411618845200141, 0.0, 0.006656804733727811, 0.0057405281285878304, 0.06399685904986259, 0.0], \"x0\": \" \", \"xaxis\": \"x\", \"y\": [\"CT\", \"ECHOCARDIOGRAPHY\", \"MRI\", \"NON_OBSTETRIC_ULTRASOUND\", \"CT\", \"ECHOCARDIOGRAPHY\", \"MRI\", \"NON_OBSTETRIC_ULTRASOUND\", \"CT\", \"ECHOCARDIOGRAPHY\", \"MRI\", \"NON_OBSTETRIC_ULTRASOUND\", \"CT\", \"ECHOCARDIOGRAPHY\", \"MRI\", \"NON_OBSTETRIC_ULTRASOUND\", \"CT\", \"ECHOCARDIOGRAPHY\", \"MRI\", \"NON_OBSTETRIC_ULTRASOUND\", \"CT\", \"ECHOCARDIOGRAPHY\", \"MRI\", \"NON_OBSTETRIC_ULTRASOUND\", \"CT\", \"ECHOCARDIOGRAPHY\", \"MRI\", \"NON_OBSTETRIC_ULTRASOUND\", \"CT\", \"ECHOCARDIOGRAPHY\", \"MRI\", \"NON_OBSTETRIC_ULTRASOUND\", \"CT\", \"ECHOCARDIOGRAPHY\", \"MRI\", \"NON_OBSTETRIC_ULTRASOUND\", \"CT\", \"ECHOCARDIOGRAPHY\", \"MRI\", \"NON_OBSTETRIC_ULTRASOUND\", \"CT\", \"ECHOCARDIOGRAPHY\", \"MRI\", \"NON_OBSTETRIC_ULTRASOUND\", \"CT\", \"ECHOCARDIOGRAPHY\", \"MRI\", \"NON_OBSTETRIC_ULTRASOUND\", \"CT\", \"ECHOCARDIOGRAPHY\", \"MRI\", \"NON_OBSTETRIC_ULTRASOUND\", \"CT\", \"ECHOCARDIOGRAPHY\", \"MRI\", \"NON_OBSTETRIC_ULTRASOUND\", \"CT\", \"ECHOCARDIOGRAPHY\", \"MRI\", \"NON_OBSTETRIC_ULTRASOUND\", \"CT\", \"ECHOCARDIOGRAPHY\", \"MRI\", \"NON_OBSTETRIC_ULTRASOUND\", \"CT\", \"ECHOCARDIOGRAPHY\", \"MRI\", \"NON_OBSTETRIC_ULTRASOUND\", \"CT\", \"ECHOCARDIOGRAPHY\", \"MRI\", \"NON_OBSTETRIC_ULTRASOUND\"], \"y0\": \" \", \"yaxis\": \"y\"}, {\"alignmentgroup\": \"True\", \"hoverlabel\": {\"namelength\": 0}, \"hovertemplate\": \"Name=ROYAL BERKSHIRE NHS FOUNDATION TRUST<br>Over 6 Percentage=%{x}<br>Diagnostic Tests=%{y}\", \"legendgroup\": \"Name=ROYAL BERKSHIRE NHS FOUNDATION TRUST\", \"marker\": {\"color\": \"#ab63fa\"}, \"name\": \"Name=ROYAL BERKSHIRE NHS FOUNDATION TRUST\", \"notched\": false, \"offsetgroup\": \"Name=ROYAL BERKSHIRE NHS FOUNDATION TRUST\", \"orientation\": \"h\", \"showlegend\": true, \"type\": \"box\", \"x\": [0.0021645021645021645, 0.39552238805970147, 0.020202020202020204, 0.0, 0.007621951219512195, 0.5051546391752577, 0.006092254134029591, 0.0, 0.0, 0.398576512455516, 0.014806378132118452, 0.0, 0.005893909626719057, 0.21982758620689655, 0.016905071521456438, 0.0, 0.005076142131979695, 0.11504424778761062, 0.011023622047244094, 0.0, 0.0, 0.07772020725388601, 0.011128775834658187, 0.0, 0.002136752136752137, 0.02262443438914027, 0.006172839506172839, 0.0, 0.008333333333333333, 0.02390438247011952, 0.008211678832116789, 0.001287001287001287, 0.0038860103626943004, 0.09216589861751152, 0.04990151017728168, 0.0, 0.04245283018867924, 0.1483050847457627, 0.08625525946704067, 0.00423728813559322, 0.001466275659824047, 0.00423728813559322, 0.045554739162380606, 0.0, 0.020757020757020756, 0.009868421052631578, 0.025923016496465043, 0.0013698630136986301, 0.0, 0.06896551724137931, 0.08214285714285714, 0.006420545746388443, 0.010884353741496598, 0.024242424242424242, 0.01998519615099926, 0.0, 0.0062402496099844, 0.007874015748031496, 0.04003724394785847, 0.0012658227848101266, 0.010482180293501049, 0.041884816753926704, 0.020754716981132074, 0.001059322033898305, 0.004008016032064128, 0.018518518518518517, 0.01775147928994083, 0.0009354536950420954, 0.011428571428571429, 0.006622516556291391, 0.02102803738317757, 0.0], \"x0\": \" \", \"xaxis\": \"x\", \"y\": [\"CT\", \"ECHOCARDIOGRAPHY\", \"MRI\", \"NON_OBSTETRIC_ULTRASOUND\", \"CT\", \"ECHOCARDIOGRAPHY\", \"MRI\", \"NON_OBSTETRIC_ULTRASOUND\", \"CT\", \"ECHOCARDIOGRAPHY\", \"MRI\", \"NON_OBSTETRIC_ULTRASOUND\", \"CT\", \"ECHOCARDIOGRAPHY\", \"MRI\", \"NON_OBSTETRIC_ULTRASOUND\", \"CT\", \"ECHOCARDIOGRAPHY\", \"MRI\", \"NON_OBSTETRIC_ULTRASOUND\", \"CT\", \"ECHOCARDIOGRAPHY\", \"MRI\", \"NON_OBSTETRIC_ULTRASOUND\", \"CT\", \"ECHOCARDIOGRAPHY\", \"MRI\", \"NON_OBSTETRIC_ULTRASOUND\", \"CT\", \"ECHOCARDIOGRAPHY\", \"MRI\", \"NON_OBSTETRIC_ULTRASOUND\", \"CT\", \"ECHOCARDIOGRAPHY\", \"MRI\", \"NON_OBSTETRIC_ULTRASOUND\", \"CT\", \"ECHOCARDIOGRAPHY\", \"MRI\", \"NON_OBSTETRIC_ULTRASOUND\", \"CT\", \"ECHOCARDIOGRAPHY\", \"MRI\", \"NON_OBSTETRIC_ULTRASOUND\", \"CT\", \"ECHOCARDIOGRAPHY\", \"MRI\", \"NON_OBSTETRIC_ULTRASOUND\", \"CT\", \"ECHOCARDIOGRAPHY\", \"MRI\", \"NON_OBSTETRIC_ULTRASOUND\", \"CT\", \"ECHOCARDIOGRAPHY\", \"MRI\", \"NON_OBSTETRIC_ULTRASOUND\", \"CT\", \"ECHOCARDIOGRAPHY\", \"MRI\", \"NON_OBSTETRIC_ULTRASOUND\", \"CT\", \"ECHOCARDIOGRAPHY\", \"MRI\", \"NON_OBSTETRIC_ULTRASOUND\", \"CT\", \"ECHOCARDIOGRAPHY\", \"MRI\", \"NON_OBSTETRIC_ULTRASOUND\", \"CT\", \"ECHOCARDIOGRAPHY\", \"MRI\", \"NON_OBSTETRIC_ULTRASOUND\"], \"y0\": \" \", \"yaxis\": \"y\"}],\n",
       "                        {\"boxmode\": \"group\", \"legend\": {\"tracegroupgap\": 0}, \"template\": {\"data\": {\"bar\": [{\"error_x\": {\"color\": \"#2a3f5f\"}, \"error_y\": {\"color\": \"#2a3f5f\"}, \"marker\": {\"line\": {\"color\": \"#E5ECF6\", \"width\": 0.5}}, \"type\": \"bar\"}], \"barpolar\": [{\"marker\": {\"line\": {\"color\": \"#E5ECF6\", \"width\": 0.5}}, \"type\": \"barpolar\"}], \"carpet\": [{\"aaxis\": {\"endlinecolor\": \"#2a3f5f\", \"gridcolor\": \"white\", \"linecolor\": \"white\", \"minorgridcolor\": \"white\", \"startlinecolor\": \"#2a3f5f\"}, \"baxis\": {\"endlinecolor\": \"#2a3f5f\", \"gridcolor\": \"white\", \"linecolor\": \"white\", \"minorgridcolor\": \"white\", \"startlinecolor\": \"#2a3f5f\"}, \"type\": \"carpet\"}], \"choropleth\": [{\"colorbar\": {\"outlinewidth\": 0, \"ticks\": \"\"}, \"type\": \"choropleth\"}], \"contour\": [{\"colorbar\": {\"outlinewidth\": 0, \"ticks\": \"\"}, \"colorscale\": [[0.0, \"#0d0887\"], [0.1111111111111111, \"#46039f\"], [0.2222222222222222, \"#7201a8\"], [0.3333333333333333, \"#9c179e\"], [0.4444444444444444, \"#bd3786\"], [0.5555555555555556, \"#d8576b\"], [0.6666666666666666, \"#ed7953\"], [0.7777777777777778, \"#fb9f3a\"], [0.8888888888888888, \"#fdca26\"], [1.0, \"#f0f921\"]], \"type\": \"contour\"}], \"contourcarpet\": [{\"colorbar\": {\"outlinewidth\": 0, \"ticks\": \"\"}, \"type\": \"contourcarpet\"}], \"heatmap\": [{\"colorbar\": {\"outlinewidth\": 0, \"ticks\": \"\"}, \"colorscale\": [[0.0, \"#0d0887\"], [0.1111111111111111, \"#46039f\"], [0.2222222222222222, \"#7201a8\"], [0.3333333333333333, \"#9c179e\"], [0.4444444444444444, \"#bd3786\"], [0.5555555555555556, \"#d8576b\"], [0.6666666666666666, \"#ed7953\"], [0.7777777777777778, \"#fb9f3a\"], [0.8888888888888888, \"#fdca26\"], [1.0, \"#f0f921\"]], \"type\": \"heatmap\"}], \"heatmapgl\": [{\"colorbar\": {\"outlinewidth\": 0, \"ticks\": \"\"}, \"colorscale\": [[0.0, \"#0d0887\"], [0.1111111111111111, \"#46039f\"], [0.2222222222222222, \"#7201a8\"], [0.3333333333333333, \"#9c179e\"], [0.4444444444444444, \"#bd3786\"], [0.5555555555555556, \"#d8576b\"], [0.6666666666666666, \"#ed7953\"], [0.7777777777777778, \"#fb9f3a\"], [0.8888888888888888, \"#fdca26\"], [1.0, \"#f0f921\"]], \"type\": \"heatmapgl\"}], \"histogram\": [{\"marker\": {\"colorbar\": {\"outlinewidth\": 0, \"ticks\": \"\"}}, \"type\": \"histogram\"}], \"histogram2d\": [{\"colorbar\": {\"outlinewidth\": 0, \"ticks\": \"\"}, \"colorscale\": [[0.0, \"#0d0887\"], [0.1111111111111111, \"#46039f\"], [0.2222222222222222, \"#7201a8\"], [0.3333333333333333, \"#9c179e\"], [0.4444444444444444, \"#bd3786\"], [0.5555555555555556, \"#d8576b\"], [0.6666666666666666, \"#ed7953\"], [0.7777777777777778, \"#fb9f3a\"], [0.8888888888888888, \"#fdca26\"], [1.0, \"#f0f921\"]], \"type\": \"histogram2d\"}], \"histogram2dcontour\": [{\"colorbar\": {\"outlinewidth\": 0, \"ticks\": \"\"}, \"colorscale\": [[0.0, \"#0d0887\"], [0.1111111111111111, \"#46039f\"], [0.2222222222222222, \"#7201a8\"], [0.3333333333333333, \"#9c179e\"], [0.4444444444444444, \"#bd3786\"], [0.5555555555555556, \"#d8576b\"], [0.6666666666666666, \"#ed7953\"], [0.7777777777777778, \"#fb9f3a\"], [0.8888888888888888, \"#fdca26\"], [1.0, \"#f0f921\"]], \"type\": \"histogram2dcontour\"}], \"mesh3d\": [{\"colorbar\": {\"outlinewidth\": 0, \"ticks\": \"\"}, \"type\": \"mesh3d\"}], \"parcoords\": [{\"line\": {\"colorbar\": {\"outlinewidth\": 0, \"ticks\": \"\"}}, \"type\": \"parcoords\"}], \"pie\": [{\"automargin\": true, \"type\": \"pie\"}], \"scatter\": [{\"marker\": {\"colorbar\": {\"outlinewidth\": 0, \"ticks\": \"\"}}, \"type\": \"scatter\"}], \"scatter3d\": [{\"line\": {\"colorbar\": {\"outlinewidth\": 0, \"ticks\": \"\"}}, \"marker\": {\"colorbar\": {\"outlinewidth\": 0, \"ticks\": \"\"}}, \"type\": \"scatter3d\"}], \"scattercarpet\": [{\"marker\": {\"colorbar\": {\"outlinewidth\": 0, \"ticks\": \"\"}}, \"type\": \"scattercarpet\"}], \"scattergeo\": [{\"marker\": {\"colorbar\": {\"outlinewidth\": 0, \"ticks\": \"\"}}, \"type\": \"scattergeo\"}], \"scattergl\": [{\"marker\": {\"colorbar\": {\"outlinewidth\": 0, \"ticks\": \"\"}}, \"type\": \"scattergl\"}], \"scattermapbox\": [{\"marker\": {\"colorbar\": {\"outlinewidth\": 0, \"ticks\": \"\"}}, \"type\": \"scattermapbox\"}], \"scatterpolar\": [{\"marker\": {\"colorbar\": {\"outlinewidth\": 0, \"ticks\": \"\"}}, \"type\": \"scatterpolar\"}], \"scatterpolargl\": [{\"marker\": {\"colorbar\": {\"outlinewidth\": 0, \"ticks\": \"\"}}, \"type\": \"scatterpolargl\"}], \"scatterternary\": [{\"marker\": {\"colorbar\": {\"outlinewidth\": 0, \"ticks\": \"\"}}, \"type\": \"scatterternary\"}], \"surface\": [{\"colorbar\": {\"outlinewidth\": 0, \"ticks\": \"\"}, \"colorscale\": [[0.0, \"#0d0887\"], [0.1111111111111111, \"#46039f\"], [0.2222222222222222, \"#7201a8\"], [0.3333333333333333, \"#9c179e\"], [0.4444444444444444, \"#bd3786\"], [0.5555555555555556, \"#d8576b\"], [0.6666666666666666, \"#ed7953\"], [0.7777777777777778, \"#fb9f3a\"], [0.8888888888888888, \"#fdca26\"], [1.0, \"#f0f921\"]], \"type\": \"surface\"}], \"table\": [{\"cells\": {\"fill\": {\"color\": \"#EBF0F8\"}, \"line\": {\"color\": \"white\"}}, \"header\": {\"fill\": {\"color\": \"#C8D4E3\"}, \"line\": {\"color\": \"white\"}}, \"type\": \"table\"}]}, \"layout\": {\"annotationdefaults\": {\"arrowcolor\": \"#2a3f5f\", \"arrowhead\": 0, \"arrowwidth\": 1}, \"coloraxis\": {\"colorbar\": {\"outlinewidth\": 0, \"ticks\": \"\"}}, \"colorscale\": {\"diverging\": [[0, \"#8e0152\"], [0.1, \"#c51b7d\"], [0.2, \"#de77ae\"], [0.3, \"#f1b6da\"], [0.4, \"#fde0ef\"], [0.5, \"#f7f7f7\"], [0.6, \"#e6f5d0\"], [0.7, \"#b8e186\"], [0.8, \"#7fbc41\"], [0.9, \"#4d9221\"], [1, \"#276419\"]], \"sequential\": [[0.0, \"#0d0887\"], [0.1111111111111111, \"#46039f\"], [0.2222222222222222, \"#7201a8\"], [0.3333333333333333, \"#9c179e\"], [0.4444444444444444, \"#bd3786\"], [0.5555555555555556, \"#d8576b\"], [0.6666666666666666, \"#ed7953\"], [0.7777777777777778, \"#fb9f3a\"], [0.8888888888888888, \"#fdca26\"], [1.0, \"#f0f921\"]], \"sequentialminus\": [[0.0, \"#0d0887\"], [0.1111111111111111, \"#46039f\"], [0.2222222222222222, \"#7201a8\"], [0.3333333333333333, \"#9c179e\"], [0.4444444444444444, \"#bd3786\"], [0.5555555555555556, \"#d8576b\"], [0.6666666666666666, \"#ed7953\"], [0.7777777777777778, \"#fb9f3a\"], [0.8888888888888888, \"#fdca26\"], [1.0, \"#f0f921\"]]}, \"colorway\": [\"#636efa\", \"#EF553B\", \"#00cc96\", \"#ab63fa\", \"#FFA15A\", \"#19d3f3\", \"#FF6692\", \"#B6E880\", \"#FF97FF\", \"#FECB52\"], \"font\": {\"color\": \"#2a3f5f\"}, \"geo\": {\"bgcolor\": \"white\", \"lakecolor\": \"white\", \"landcolor\": \"#E5ECF6\", \"showlakes\": true, \"showland\": true, \"subunitcolor\": \"white\"}, \"hoverlabel\": {\"align\": \"left\"}, \"hovermode\": \"closest\", \"mapbox\": {\"style\": \"light\"}, \"paper_bgcolor\": \"white\", \"plot_bgcolor\": \"#E5ECF6\", \"polar\": {\"angularaxis\": {\"gridcolor\": \"white\", \"linecolor\": \"white\", \"ticks\": \"\"}, \"bgcolor\": \"#E5ECF6\", \"radialaxis\": {\"gridcolor\": \"white\", \"linecolor\": \"white\", \"ticks\": \"\"}}, \"scene\": {\"xaxis\": {\"backgroundcolor\": \"#E5ECF6\", \"gridcolor\": \"white\", \"gridwidth\": 2, \"linecolor\": \"white\", \"showbackground\": true, \"ticks\": \"\", \"zerolinecolor\": \"white\"}, \"yaxis\": {\"backgroundcolor\": \"#E5ECF6\", \"gridcolor\": \"white\", \"gridwidth\": 2, \"linecolor\": \"white\", \"showbackground\": true, \"ticks\": \"\", \"zerolinecolor\": \"white\"}, \"zaxis\": {\"backgroundcolor\": \"#E5ECF6\", \"gridcolor\": \"white\", \"gridwidth\": 2, \"linecolor\": \"white\", \"showbackground\": true, \"ticks\": \"\", \"zerolinecolor\": \"white\"}}, \"shapedefaults\": {\"line\": {\"color\": \"#2a3f5f\"}}, \"ternary\": {\"aaxis\": {\"gridcolor\": \"white\", \"linecolor\": \"white\", \"ticks\": \"\"}, \"baxis\": {\"gridcolor\": \"white\", \"linecolor\": \"white\", \"ticks\": \"\"}, \"bgcolor\": \"#E5ECF6\", \"caxis\": {\"gridcolor\": \"white\", \"linecolor\": \"white\", \"ticks\": \"\"}}, \"title\": {\"x\": 0.05}, \"xaxis\": {\"automargin\": true, \"gridcolor\": \"white\", \"linecolor\": \"white\", \"ticks\": \"\", \"title\": {\"standoff\": 15}, \"zerolinecolor\": \"white\", \"zerolinewidth\": 2}, \"yaxis\": {\"automargin\": true, \"gridcolor\": \"white\", \"linecolor\": \"white\", \"ticks\": \"\", \"title\": {\"standoff\": 15}, \"zerolinecolor\": \"white\", \"zerolinewidth\": 2}}}, \"title\": {\"text\": \"Mean Perctenage Patients Waiting over 6 Weeks 2018-2019\"}, \"xaxis\": {\"anchor\": \"y\", \"domain\": [0.0, 1.0], \"title\": {\"text\": \"Over 6 Percentage\"}}, \"yaxis\": {\"anchor\": \"x\", \"domain\": [0.0, 1.0], \"title\": {\"text\": \"Diagnostic Tests\"}}},\n",
       "                        {\"responsive\": true}\n",
       "                    ).then(function(){\n",
       "                            \n",
       "var gd = document.getElementById('8e0ca095-9900-4f42-8811-6ecc8f123b19');\n",
       "var x = new MutationObserver(function (mutations, observer) {{\n",
       "        var display = window.getComputedStyle(gd).display;\n",
       "        if (!display || display === 'none') {{\n",
       "            console.log([gd, 'removed!']);\n",
       "            Plotly.purge(gd);\n",
       "            observer.disconnect();\n",
       "        }}\n",
       "}});\n",
       "\n",
       "// Listen for the removal of the full notebook cells\n",
       "var notebookContainer = gd.closest('#notebook-container');\n",
       "if (notebookContainer) {{\n",
       "    x.observe(notebookContainer, {childList: true});\n",
       "}}\n",
       "\n",
       "// Listen for the clearing of the current output cell\n",
       "var outputEl = gd.closest('.output');\n",
       "if (outputEl) {{\n",
       "    x.observe(outputEl, {childList: true});\n",
       "}}\n",
       "\n",
       "                        })\n",
       "                };\n",
       "                });\n",
       "            </script>\n",
       "        </div>"
      ]
     },
     "metadata": {},
     "output_type": "display_data"
    }
   ],
   "source": [
    "fig.update_traces(orientation='h')\n",
    "fig.show()"
   ]
  },
  {
   "cell_type": "code",
   "execution_count": 98,
   "metadata": {},
   "outputs": [
    {
     "data": {
      "text/plain": [
       "array(['AUDIOLOGY_ASSESSMENTS', 'BARIUM_ENEMA', 'COLONOSCOPY', 'CT',\n",
       "       'CYSTOSCOPY', 'DEXA_SCAN', 'ECHOCARDIOGRAPHY', 'ELECTROPHYSIOLOGY',\n",
       "       'FLEXI_SIGMOIDOSCOPY', 'GASTROSCOPY', 'MRI',\n",
       "       'NON_OBSTETRIC_ULTRASOUND', 'PERIPHERAL_NEUROPHYS',\n",
       "       'SLEEP_STUDIES', 'URODYNAMICS'], dtype=object)"
      ]
     },
     "execution_count": 98,
     "metadata": {},
     "output_type": "execute_result"
    }
   ],
   "source": [
    "df_waiting['Diagnostic Tests'].unique()"
   ]
  },
  {
   "cell_type": "code",
   "execution_count": 100,
   "metadata": {},
   "outputs": [
    {
     "data": {
      "application/vnd.plotly.v1+json": {
       "config": {
        "plotlyServerURL": "https://plot.ly"
       },
       "data": [
        {
         "alignmentgroup": "True",
         "hoverlabel": {
          "namelength": 0
         },
         "hovertemplate": "Name=OXFORD UNIVERSITY HOSPITALS NHS FOUNDATION TRUST<br>Percentage=%{x}<br>Measure=%{y}",
         "legendgroup": "Name=OXFORD UNIVERSITY HOSPITALS NHS FOUNDATION TRUST",
         "marker": {
          "color": "#636efa"
         },
         "name": "Name=OXFORD UNIVERSITY HOSPITALS NHS FOUNDATION TRUST",
         "notched": false,
         "offsetgroup": "Name=OXFORD UNIVERSITY HOSPITALS NHS FOUNDATION TRUST",
         "orientation": "h",
         "showlegend": true,
         "type": "box",
         "x": [
          2.9000000000000026,
          2.9000000000000026,
          2.8000000000000025,
          2.400000000000002,
          1.5999999999999903,
          1.8000000000000016,
          1.5000000000000013,
          7.599999999999996,
          7.599999999999996,
          6.700000000000006,
          5.400000000000005,
          6.000000000000005,
          5.299999999999994,
          4.400000000000004,
          4.0000000000000036,
          3.7999999999999923,
          3.400000000000003,
          3.0000000000000027,
          3.200000000000003,
          5.400000000000005,
          3.9000000000000035,
          3.400000000000003,
          3.9000000000000035,
          3.500000000000003,
          3.200000000000003,
          3.599999999999992,
          3.299999999999992,
          2.500000000000002,
          2.500000000000002,
          2.300000000000002,
          1.5999999999999903,
          10.7,
          9.999999999999998,
          9.999999999999998,
          7.099999999999995,
          5.299999999999994,
          3.7000000000000033,
          3.9000000000000035,
          3.7999999999999923,
          6.400000000000006,
          3.599999999999992,
          3.7999999999999923,
          2.500000000000002,
          9.099999999999998,
          8.400000000000007,
          7.599999999999996,
          12.400000000000011,
          8.999999999999996,
          6.400000000000006,
          6.2999999999999945,
          4.0000000000000036,
          4.299999999999993,
          3.500000000000003,
          14.900000000000002,
          16.400000000000002,
          14.09999999999999,
          14.59999999999999,
          13.5,
          13.4,
          14.900000000000002,
          29.200000000000003,
          28.29999999999999,
          31.099999999999994,
          25.099999999999987,
          27,
          23.099999999999998,
          23.2,
          22.299999999999997,
          18.400000000000006,
          16.200000000000003,
          14.400000000000002,
          15.200000000000003,
          33.8,
          21.499999999999996,
          16.500000000000004,
          17.200000000000003,
          18.400000000000006,
          18.000000000000004,
          16.700000000000003,
          14.900000000000002,
          14.500000000000002,
          14.800000000000002,
          13.59999999999999,
          12.9,
          31.999999999999996,
          27.400000000000002,
          29.000000000000004,
          29.099999999999994,
          29.000000000000004,
          23.599999999999998,
          28.59999999999999,
          19.999999999999996,
          19.799999999999997,
          18.000000000000004,
          18.200000000000006,
          18.200000000000006,
          34.5,
          35.8,
          24.7,
          35.6,
          30.400000000000006,
          33.20000000000001,
          30.799999999999994,
          29.099999999999994,
          26,
          30.299999999999994
         ],
         "x0": " ",
         "xaxis": "x",
         "y": [
          "31 Day Wait for first treatment By Cancer",
          "31 Day Wait for first treatment By Cancer",
          "31 Day Wait for first treatment By Cancer",
          "31 Day Wait for first treatment By Cancer",
          "31 Day Wait for first treatment By Cancer",
          "31 Day Wait for first treatment By Cancer",
          "31 Day Wait for first treatment By Cancer",
          "31 Day Wait for first treatment By Cancer",
          "31 Day Wait for first treatment By Cancer",
          "31 Day Wait for first treatment By Cancer",
          "31 Day Wait for first treatment By Cancer",
          "31 Day Wait for first treatment By Cancer",
          "31 Day Wait for first treatment By Cancer",
          "31 Day Wait for first treatment By Cancer",
          "31 Day Wait for first treatment By Cancer",
          "31 Day Wait for first treatment By Cancer",
          "31 Day Wait for first treatment By Cancer",
          "31 Day Wait for first treatment By Cancer",
          "31 Day Wait for first treatment By Cancer",
          "31 Day Wait for first treatment By Cancer",
          "31 Day Wait for first treatment By Cancer",
          "31 Day Wait for first treatment By Cancer",
          "31 Day Wait for first treatment By Cancer",
          "31 Day Wait for first treatment By Cancer",
          "31 Day Wait for first treatment By Cancer",
          "31 Day Wait for first treatment By Cancer",
          "31 Day Wait for first treatment By Cancer",
          "31 Day Wait for first treatment By Cancer",
          "31 Day Wait for first treatment By Cancer",
          "31 Day Wait for first treatment By Cancer",
          "31 Day Wait for first treatment By Cancer",
          "31 Day Wait for first treatment By Cancer",
          "31 Day Wait for first treatment By Cancer",
          "31 Day Wait for first treatment By Cancer",
          "31 Day Wait for first treatment By Cancer",
          "31 Day Wait for first treatment By Cancer",
          "31 Day Wait for first treatment By Cancer",
          "31 Day Wait for first treatment By Cancer",
          "31 Day Wait for first treatment By Cancer",
          "31 Day Wait for first treatment By Cancer",
          "31 Day Wait for first treatment By Cancer",
          "31 Day Wait for first treatment By Cancer",
          "31 Day Wait for first treatment By Cancer",
          "31 Day Wait for first treatment By Cancer",
          "31 Day Wait for first treatment By Cancer",
          "31 Day Wait for first treatment By Cancer",
          "31 Day Wait for first treatment By Cancer",
          "31 Day Wait for first treatment By Cancer",
          "31 Day Wait for first treatment By Cancer",
          "31 Day Wait for first treatment By Cancer",
          "31 Day Wait for first treatment By Cancer",
          "31 Day Wait for first treatment By Cancer",
          "31 Day Wait for first treatment By Cancer",
          "62 Day Wait for first treatment By Cancer",
          "62 Day Wait for first treatment By Cancer",
          "62 Day Wait for first treatment By Cancer",
          "62 Day Wait for first treatment By Cancer",
          "62 Day Wait for first treatment By Cancer",
          "62 Day Wait for first treatment By Cancer",
          "62 Day Wait for first treatment By Cancer",
          "62 Day Wait for first treatment By Cancer",
          "62 Day Wait for first treatment By Cancer",
          "62 Day Wait for first treatment By Cancer",
          "62 Day Wait for first treatment By Cancer",
          "62 Day Wait for first treatment By Cancer",
          "62 Day Wait for first treatment By Cancer",
          "62 Day Wait for first treatment By Cancer",
          "62 Day Wait for first treatment By Cancer",
          "62 Day Wait for first treatment By Cancer",
          "62 Day Wait for first treatment By Cancer",
          "62 Day Wait for first treatment By Cancer",
          "62 Day Wait for first treatment By Cancer",
          "62 Day Wait for first treatment By Cancer",
          "62 Day Wait for first treatment By Cancer",
          "62 Day Wait for first treatment By Cancer",
          "62 Day Wait for first treatment By Cancer",
          "62 Day Wait for first treatment By Cancer",
          "62 Day Wait for first treatment By Cancer",
          "62 Day Wait for first treatment By Cancer",
          "62 Day Wait for first treatment By Cancer",
          "62 Day Wait for first treatment By Cancer",
          "62 Day Wait for first treatment By Cancer",
          "62 Day Wait for first treatment By Cancer",
          "62 Day Wait for first treatment By Cancer",
          "62 Day Wait for first treatment By Cancer",
          "62 Day Wait for first treatment By Cancer",
          "62 Day Wait for first treatment By Cancer",
          "62 Day Wait for first treatment By Cancer",
          "62 Day Wait for first treatment By Cancer",
          "62 Day Wait for first treatment By Cancer",
          "62 Day Wait for first treatment By Cancer",
          "62 Day Wait for first treatment By Cancer",
          "62 Day Wait for first treatment By Cancer",
          "62 Day Wait for first treatment By Cancer",
          "62 Day Wait for first treatment By Cancer",
          "62 Day Wait for first treatment By Cancer",
          "62 Day Wait for first treatment By Cancer",
          "62 Day Wait for first treatment By Cancer",
          "62 Day Wait for first treatment By Cancer",
          "62 Day Wait for first treatment By Cancer",
          "62 Day Wait for first treatment By Cancer",
          "62 Day Wait for first treatment By Cancer",
          "62 Day Wait for first treatment By Cancer",
          "62 Day Wait for first treatment By Cancer",
          "62 Day Wait for first treatment By Cancer",
          "62 Day Wait for first treatment By Cancer"
         ],
         "y0": " ",
         "yaxis": "y"
        },
        {
         "alignmentgroup": "True",
         "hoverlabel": {
          "namelength": 0
         },
         "hovertemplate": "Name=ROYAL BERKSHIRE NHS FOUNDATION TRUST<br>Percentage=%{x}<br>Measure=%{y}",
         "legendgroup": "Name=ROYAL BERKSHIRE NHS FOUNDATION TRUST",
         "marker": {
          "color": "#EF553B"
         },
         "name": "Name=ROYAL BERKSHIRE NHS FOUNDATION TRUST",
         "notched": false,
         "offsetgroup": "Name=ROYAL BERKSHIRE NHS FOUNDATION TRUST",
         "orientation": "h",
         "showlegend": true,
         "type": "box",
         "x": [
          4.400000000000004,
          4.400000000000004,
          3.299999999999992,
          3.200000000000003,
          3.599999999999992,
          2.599999999999991,
          2.300000000000002,
          6.099999999999994,
          4.0000000000000036,
          3.400000000000003,
          4.299999999999993,
          3.0000000000000027,
          3.500000000000003,
          2.599999999999991,
          2.300000000000002,
          1.8000000000000016,
          1.5999999999999903,
          1.7000000000000015,
          0.5000000000000004,
          2.7000000000000024,
          3.0999999999999917,
          3.200000000000003,
          3.200000000000003,
          2.9000000000000026,
          2.7000000000000024,
          2.0999999999999908,
          1.5000000000000013,
          1.4000000000000012,
          1.7000000000000015,
          1.3000000000000012,
          0.5000000000000004,
          5.400000000000005,
          2.300000000000002,
          2.200000000000002,
          2.300000000000002,
          2.500000000000002,
          2.0999999999999908,
          2.500000000000002,
          1.5999999999999903,
          4.5000000000000036,
          1.3000000000000012,
          1.8000000000000016,
          1.7000000000000015,
          4.0999999999999925,
          3.200000000000003,
          2.0000000000000018,
          4.0000000000000036,
          3.7000000000000033,
          3.9000000000000035,
          1.8000000000000016,
          1.9000000000000017,
          1.3000000000000012,
          1.7000000000000015,
          25.900000000000002,
          34.099999999999994,
          26.400000000000002,
          24.099999999999998,
          27.09999999999999,
          26.3,
          16.400000000000002,
          29.200000000000003,
          28.900000000000002,
          27.900000000000002,
          17.500000000000004,
          22.499999999999996,
          16.500000000000004,
          15.000000000000002,
          17.200000000000003,
          14.000000000000002,
          15.09999999999999,
          10.499999999999998,
          9.200000000000008,
          17.799999999999994,
          18.099999999999994,
          15.000000000000002,
          14.59999999999999,
          14.000000000000002,
          13.5,
          14.900000000000002,
          16.799999999999994,
          17.599999999999994,
          12.1,
          12.3,
          7.499999999999996,
          22.40000000000001,
          28.59999999999999,
          17.299999999999994,
          14.59999999999999,
          13.200000000000001,
          19.099999999999994,
          13.4,
          14.3,
          12.1,
          14.59999999999999,
          14.500000000000002,
          9.499999999999996,
          16.599999999999994,
          14.3,
          12.9,
          17.200000000000003,
          15.09999999999999,
          14.3,
          15.000000000000002,
          15.400000000000002,
          11.099999999999998,
          10.799999999999999
         ],
         "x0": " ",
         "xaxis": "x",
         "y": [
          "31 Day Wait for first treatment By Cancer",
          "31 Day Wait for first treatment By Cancer",
          "31 Day Wait for first treatment By Cancer",
          "31 Day Wait for first treatment By Cancer",
          "31 Day Wait for first treatment By Cancer",
          "31 Day Wait for first treatment By Cancer",
          "31 Day Wait for first treatment By Cancer",
          "31 Day Wait for first treatment By Cancer",
          "31 Day Wait for first treatment By Cancer",
          "31 Day Wait for first treatment By Cancer",
          "31 Day Wait for first treatment By Cancer",
          "31 Day Wait for first treatment By Cancer",
          "31 Day Wait for first treatment By Cancer",
          "31 Day Wait for first treatment By Cancer",
          "31 Day Wait for first treatment By Cancer",
          "31 Day Wait for first treatment By Cancer",
          "31 Day Wait for first treatment By Cancer",
          "31 Day Wait for first treatment By Cancer",
          "31 Day Wait for first treatment By Cancer",
          "31 Day Wait for first treatment By Cancer",
          "31 Day Wait for first treatment By Cancer",
          "31 Day Wait for first treatment By Cancer",
          "31 Day Wait for first treatment By Cancer",
          "31 Day Wait for first treatment By Cancer",
          "31 Day Wait for first treatment By Cancer",
          "31 Day Wait for first treatment By Cancer",
          "31 Day Wait for first treatment By Cancer",
          "31 Day Wait for first treatment By Cancer",
          "31 Day Wait for first treatment By Cancer",
          "31 Day Wait for first treatment By Cancer",
          "31 Day Wait for first treatment By Cancer",
          "31 Day Wait for first treatment By Cancer",
          "31 Day Wait for first treatment By Cancer",
          "31 Day Wait for first treatment By Cancer",
          "31 Day Wait for first treatment By Cancer",
          "31 Day Wait for first treatment By Cancer",
          "31 Day Wait for first treatment By Cancer",
          "31 Day Wait for first treatment By Cancer",
          "31 Day Wait for first treatment By Cancer",
          "31 Day Wait for first treatment By Cancer",
          "31 Day Wait for first treatment By Cancer",
          "31 Day Wait for first treatment By Cancer",
          "31 Day Wait for first treatment By Cancer",
          "31 Day Wait for first treatment By Cancer",
          "31 Day Wait for first treatment By Cancer",
          "31 Day Wait for first treatment By Cancer",
          "31 Day Wait for first treatment By Cancer",
          "31 Day Wait for first treatment By Cancer",
          "31 Day Wait for first treatment By Cancer",
          "31 Day Wait for first treatment By Cancer",
          "31 Day Wait for first treatment By Cancer",
          "31 Day Wait for first treatment By Cancer",
          "31 Day Wait for first treatment By Cancer",
          "62 Day Wait for first treatment By Cancer",
          "62 Day Wait for first treatment By Cancer",
          "62 Day Wait for first treatment By Cancer",
          "62 Day Wait for first treatment By Cancer",
          "62 Day Wait for first treatment By Cancer",
          "62 Day Wait for first treatment By Cancer",
          "62 Day Wait for first treatment By Cancer",
          "62 Day Wait for first treatment By Cancer",
          "62 Day Wait for first treatment By Cancer",
          "62 Day Wait for first treatment By Cancer",
          "62 Day Wait for first treatment By Cancer",
          "62 Day Wait for first treatment By Cancer",
          "62 Day Wait for first treatment By Cancer",
          "62 Day Wait for first treatment By Cancer",
          "62 Day Wait for first treatment By Cancer",
          "62 Day Wait for first treatment By Cancer",
          "62 Day Wait for first treatment By Cancer",
          "62 Day Wait for first treatment By Cancer",
          "62 Day Wait for first treatment By Cancer",
          "62 Day Wait for first treatment By Cancer",
          "62 Day Wait for first treatment By Cancer",
          "62 Day Wait for first treatment By Cancer",
          "62 Day Wait for first treatment By Cancer",
          "62 Day Wait for first treatment By Cancer",
          "62 Day Wait for first treatment By Cancer",
          "62 Day Wait for first treatment By Cancer",
          "62 Day Wait for first treatment By Cancer",
          "62 Day Wait for first treatment By Cancer",
          "62 Day Wait for first treatment By Cancer",
          "62 Day Wait for first treatment By Cancer",
          "62 Day Wait for first treatment By Cancer",
          "62 Day Wait for first treatment By Cancer",
          "62 Day Wait for first treatment By Cancer",
          "62 Day Wait for first treatment By Cancer",
          "62 Day Wait for first treatment By Cancer",
          "62 Day Wait for first treatment By Cancer",
          "62 Day Wait for first treatment By Cancer",
          "62 Day Wait for first treatment By Cancer",
          "62 Day Wait for first treatment By Cancer",
          "62 Day Wait for first treatment By Cancer",
          "62 Day Wait for first treatment By Cancer",
          "62 Day Wait for first treatment By Cancer",
          "62 Day Wait for first treatment By Cancer",
          "62 Day Wait for first treatment By Cancer",
          "62 Day Wait for first treatment By Cancer",
          "62 Day Wait for first treatment By Cancer",
          "62 Day Wait for first treatment By Cancer",
          "62 Day Wait for first treatment By Cancer",
          "62 Day Wait for first treatment By Cancer",
          "62 Day Wait for first treatment By Cancer",
          "62 Day Wait for first treatment By Cancer",
          "62 Day Wait for first treatment By Cancer",
          "62 Day Wait for first treatment By Cancer"
         ],
         "y0": " ",
         "yaxis": "y"
        },
        {
         "alignmentgroup": "True",
         "hoverlabel": {
          "namelength": 0
         },
         "hovertemplate": "Name=HAMPSHIRE HOSPITALS NHS FOUNDATION TRUST<br>Percentage=%{x}<br>Measure=%{y}",
         "legendgroup": "Name=HAMPSHIRE HOSPITALS NHS FOUNDATION TRUST",
         "marker": {
          "color": "#00cc96"
         },
         "name": "Name=HAMPSHIRE HOSPITALS NHS FOUNDATION TRUST",
         "notched": false,
         "offsetgroup": "Name=HAMPSHIRE HOSPITALS NHS FOUNDATION TRUST",
         "orientation": "h",
         "showlegend": true,
         "type": "box",
         "x": [
          2.200000000000002,
          1.8000000000000016,
          1.0000000000000009,
          1.200000000000001,
          1.0000000000000009,
          0.5000000000000004,
          0,
          2.0999999999999908,
          1.7000000000000015,
          1.8000000000000016,
          1.0000000000000009,
          1.0999999999999899,
          0.5000000000000004,
          0.5000000000000004,
          0.5999999999999894,
          0.5000000000000004,
          0.5000000000000004,
          0,
          0,
          2.0999999999999908,
          1.5000000000000013,
          1.0000000000000009,
          1.5000000000000013,
          1.3000000000000012,
          0.5000000000000004,
          0.5000000000000004,
          0.5999999999999894,
          0.5000000000000004,
          0.8000000000000007,
          0.5000000000000004,
          0,
          4.400000000000004,
          2.0000000000000018,
          1.7000000000000015,
          1.4000000000000012,
          1.5999999999999903,
          1.4000000000000012,
          0.5000000000000004,
          0.5000000000000004,
          1.0999999999999899,
          0.5999999999999894,
          0,
          0,
          4.299999999999993,
          2.7000000000000024,
          3.7000000000000033,
          1.7000000000000015,
          3.0999999999999917,
          3.0000000000000027,
          2.500000000000002,
          2.500000000000002,
          2.0999999999999908,
          1.8000000000000016,
          19.099999999999994,
          13.59999999999999,
          14.500000000000002,
          13,
          13.4,
          13.4,
          10.099999999999998,
          17.900000000000006,
          14.000000000000002,
          12,
          16.799999999999994,
          14.400000000000002,
          13,
          14.800000000000002,
          13.8,
          10.299999999999997,
          10.90000000000001,
          9.499999999999996,
          8.900000000000007,
          23.099999999999998,
          18.599999999999994,
          17.900000000000006,
          13.700000000000001,
          15.09999999999999,
          13.099999999999989,
          12.400000000000011,
          12.1,
          14.000000000000002,
          10.799999999999999,
          13.5,
          11.5,
          28.700000000000003,
          27.700000000000003,
          21.70000000000001,
          20.999999999999996,
          16.500000000000004,
          19.999999999999996,
          17.099999999999994,
          16.000000000000004,
          16.200000000000003,
          16.700000000000003,
          14.400000000000002,
          13.8,
          27.700000000000003,
          23.40000000000001,
          24.6,
          25.4,
          19.999999999999996,
          22.40000000000001,
          23.40000000000001,
          20.499999999999996,
          19.799999999999997,
          16.400000000000002
         ],
         "x0": " ",
         "xaxis": "x",
         "y": [
          "31 Day Wait for first treatment By Cancer",
          "31 Day Wait for first treatment By Cancer",
          "31 Day Wait for first treatment By Cancer",
          "31 Day Wait for first treatment By Cancer",
          "31 Day Wait for first treatment By Cancer",
          "31 Day Wait for first treatment By Cancer",
          "31 Day Wait for first treatment By Cancer",
          "31 Day Wait for first treatment By Cancer",
          "31 Day Wait for first treatment By Cancer",
          "31 Day Wait for first treatment By Cancer",
          "31 Day Wait for first treatment By Cancer",
          "31 Day Wait for first treatment By Cancer",
          "31 Day Wait for first treatment By Cancer",
          "31 Day Wait for first treatment By Cancer",
          "31 Day Wait for first treatment By Cancer",
          "31 Day Wait for first treatment By Cancer",
          "31 Day Wait for first treatment By Cancer",
          "31 Day Wait for first treatment By Cancer",
          "31 Day Wait for first treatment By Cancer",
          "31 Day Wait for first treatment By Cancer",
          "31 Day Wait for first treatment By Cancer",
          "31 Day Wait for first treatment By Cancer",
          "31 Day Wait for first treatment By Cancer",
          "31 Day Wait for first treatment By Cancer",
          "31 Day Wait for first treatment By Cancer",
          "31 Day Wait for first treatment By Cancer",
          "31 Day Wait for first treatment By Cancer",
          "31 Day Wait for first treatment By Cancer",
          "31 Day Wait for first treatment By Cancer",
          "31 Day Wait for first treatment By Cancer",
          "31 Day Wait for first treatment By Cancer",
          "31 Day Wait for first treatment By Cancer",
          "31 Day Wait for first treatment By Cancer",
          "31 Day Wait for first treatment By Cancer",
          "31 Day Wait for first treatment By Cancer",
          "31 Day Wait for first treatment By Cancer",
          "31 Day Wait for first treatment By Cancer",
          "31 Day Wait for first treatment By Cancer",
          "31 Day Wait for first treatment By Cancer",
          "31 Day Wait for first treatment By Cancer",
          "31 Day Wait for first treatment By Cancer",
          "31 Day Wait for first treatment By Cancer",
          "31 Day Wait for first treatment By Cancer",
          "31 Day Wait for first treatment By Cancer",
          "31 Day Wait for first treatment By Cancer",
          "31 Day Wait for first treatment By Cancer",
          "31 Day Wait for first treatment By Cancer",
          "31 Day Wait for first treatment By Cancer",
          "31 Day Wait for first treatment By Cancer",
          "31 Day Wait for first treatment By Cancer",
          "31 Day Wait for first treatment By Cancer",
          "31 Day Wait for first treatment By Cancer",
          "31 Day Wait for first treatment By Cancer",
          "62 Day Wait for first treatment By Cancer",
          "62 Day Wait for first treatment By Cancer",
          "62 Day Wait for first treatment By Cancer",
          "62 Day Wait for first treatment By Cancer",
          "62 Day Wait for first treatment By Cancer",
          "62 Day Wait for first treatment By Cancer",
          "62 Day Wait for first treatment By Cancer",
          "62 Day Wait for first treatment By Cancer",
          "62 Day Wait for first treatment By Cancer",
          "62 Day Wait for first treatment By Cancer",
          "62 Day Wait for first treatment By Cancer",
          "62 Day Wait for first treatment By Cancer",
          "62 Day Wait for first treatment By Cancer",
          "62 Day Wait for first treatment By Cancer",
          "62 Day Wait for first treatment By Cancer",
          "62 Day Wait for first treatment By Cancer",
          "62 Day Wait for first treatment By Cancer",
          "62 Day Wait for first treatment By Cancer",
          "62 Day Wait for first treatment By Cancer",
          "62 Day Wait for first treatment By Cancer",
          "62 Day Wait for first treatment By Cancer",
          "62 Day Wait for first treatment By Cancer",
          "62 Day Wait for first treatment By Cancer",
          "62 Day Wait for first treatment By Cancer",
          "62 Day Wait for first treatment By Cancer",
          "62 Day Wait for first treatment By Cancer",
          "62 Day Wait for first treatment By Cancer",
          "62 Day Wait for first treatment By Cancer",
          "62 Day Wait for first treatment By Cancer",
          "62 Day Wait for first treatment By Cancer",
          "62 Day Wait for first treatment By Cancer",
          "62 Day Wait for first treatment By Cancer",
          "62 Day Wait for first treatment By Cancer",
          "62 Day Wait for first treatment By Cancer",
          "62 Day Wait for first treatment By Cancer",
          "62 Day Wait for first treatment By Cancer",
          "62 Day Wait for first treatment By Cancer",
          "62 Day Wait for first treatment By Cancer",
          "62 Day Wait for first treatment By Cancer",
          "62 Day Wait for first treatment By Cancer",
          "62 Day Wait for first treatment By Cancer",
          "62 Day Wait for first treatment By Cancer",
          "62 Day Wait for first treatment By Cancer",
          "62 Day Wait for first treatment By Cancer",
          "62 Day Wait for first treatment By Cancer",
          "62 Day Wait for first treatment By Cancer",
          "62 Day Wait for first treatment By Cancer",
          "62 Day Wait for first treatment By Cancer",
          "62 Day Wait for first treatment By Cancer",
          "62 Day Wait for first treatment By Cancer",
          "62 Day Wait for first treatment By Cancer",
          "62 Day Wait for first treatment By Cancer",
          "62 Day Wait for first treatment By Cancer"
         ],
         "y0": " ",
         "yaxis": "y"
        },
        {
         "alignmentgroup": "True",
         "hoverlabel": {
          "namelength": 0
         },
         "hovertemplate": "Name=BUCKINGHAMSHIRE HEALTHCARE NHS TRUST<br>Percentage=%{x}<br>Measure=%{y}",
         "legendgroup": "Name=BUCKINGHAMSHIRE HEALTHCARE NHS TRUST",
         "marker": {
          "color": "#ab63fa"
         },
         "name": "Name=BUCKINGHAMSHIRE HEALTHCARE NHS TRUST",
         "notched": false,
         "offsetgroup": "Name=BUCKINGHAMSHIRE HEALTHCARE NHS TRUST",
         "orientation": "h",
         "showlegend": true,
         "type": "box",
         "x": [
          1.9000000000000017,
          1.200000000000001,
          1.5000000000000013,
          0.7000000000000006,
          0.5999999999999894,
          0,
          0,
          2.599999999999991,
          1.9000000000000017,
          2.0999999999999908,
          1.3000000000000012,
          1.0999999999999899,
          1.200000000000001,
          1.4000000000000012,
          0.7000000000000006,
          0.7000000000000006,
          0.5999999999999894,
          0,
          0,
          4.0999999999999925,
          5.000000000000004,
          3.200000000000003,
          2.500000000000002,
          1.7000000000000015,
          1.4000000000000012,
          1.3000000000000012,
          1.7000000000000015,
          0.8000000000000007,
          0.5999999999999894,
          0.7000000000000006,
          0,
          7.099999999999995,
          3.200000000000003,
          2.599999999999991,
          3.200000000000003,
          3.299999999999992,
          2.500000000000002,
          1.5000000000000013,
          1.7000000000000015,
          3.400000000000003,
          1.200000000000001,
          2.400000000000002,
          0.8000000000000007,
          3.9000000000000035,
          6.099999999999994,
          5.799999999999994,
          2.9000000000000026,
          2.300000000000002,
          3.500000000000003,
          3.500000000000003,
          3.200000000000003,
          2.9000000000000026,
          2.0999999999999908,
          12.400000000000011,
          14.400000000000002,
          15.799999999999992,
          9.699999999999998,
          11.5,
          8.400000000000007,
          9.799999999999997,
          20.799999999999997,
          19.799999999999997,
          15.700000000000003,
          15.400000000000002,
          15.799999999999992,
          14.500000000000002,
          16.400000000000002,
          13.099999999999989,
          13.3,
          14.59999999999999,
          12.9,
          11.40000000000001,
          20.200000000000006,
          18.700000000000006,
          16.799999999999994,
          14.400000000000002,
          15.500000000000004,
          12.7,
          14.500000000000002,
          13.8,
          14.400000000000002,
          15.400000000000002,
          12.8,
          9.799999999999997,
          23.40000000000001,
          21.499999999999996,
          25.900000000000002,
          14.700000000000003,
          20.799999999999997,
          15.000000000000002,
          17.799999999999994,
          15.09999999999999,
          19.900000000000006,
          13.5,
          22.099999999999998,
          14.3,
          20.099999999999994,
          24.2,
          14.700000000000003,
          13.4,
          18.299999999999994,
          21.299999999999997,
          16.599999999999994,
          16.09999999999999,
          16.799999999999994,
          15.900000000000002
         ],
         "x0": " ",
         "xaxis": "x",
         "y": [
          "31 Day Wait for first treatment By Cancer",
          "31 Day Wait for first treatment By Cancer",
          "31 Day Wait for first treatment By Cancer",
          "31 Day Wait for first treatment By Cancer",
          "31 Day Wait for first treatment By Cancer",
          "31 Day Wait for first treatment By Cancer",
          "31 Day Wait for first treatment By Cancer",
          "31 Day Wait for first treatment By Cancer",
          "31 Day Wait for first treatment By Cancer",
          "31 Day Wait for first treatment By Cancer",
          "31 Day Wait for first treatment By Cancer",
          "31 Day Wait for first treatment By Cancer",
          "31 Day Wait for first treatment By Cancer",
          "31 Day Wait for first treatment By Cancer",
          "31 Day Wait for first treatment By Cancer",
          "31 Day Wait for first treatment By Cancer",
          "31 Day Wait for first treatment By Cancer",
          "31 Day Wait for first treatment By Cancer",
          "31 Day Wait for first treatment By Cancer",
          "31 Day Wait for first treatment By Cancer",
          "31 Day Wait for first treatment By Cancer",
          "31 Day Wait for first treatment By Cancer",
          "31 Day Wait for first treatment By Cancer",
          "31 Day Wait for first treatment By Cancer",
          "31 Day Wait for first treatment By Cancer",
          "31 Day Wait for first treatment By Cancer",
          "31 Day Wait for first treatment By Cancer",
          "31 Day Wait for first treatment By Cancer",
          "31 Day Wait for first treatment By Cancer",
          "31 Day Wait for first treatment By Cancer",
          "31 Day Wait for first treatment By Cancer",
          "31 Day Wait for first treatment By Cancer",
          "31 Day Wait for first treatment By Cancer",
          "31 Day Wait for first treatment By Cancer",
          "31 Day Wait for first treatment By Cancer",
          "31 Day Wait for first treatment By Cancer",
          "31 Day Wait for first treatment By Cancer",
          "31 Day Wait for first treatment By Cancer",
          "31 Day Wait for first treatment By Cancer",
          "31 Day Wait for first treatment By Cancer",
          "31 Day Wait for first treatment By Cancer",
          "31 Day Wait for first treatment By Cancer",
          "31 Day Wait for first treatment By Cancer",
          "31 Day Wait for first treatment By Cancer",
          "31 Day Wait for first treatment By Cancer",
          "31 Day Wait for first treatment By Cancer",
          "31 Day Wait for first treatment By Cancer",
          "31 Day Wait for first treatment By Cancer",
          "31 Day Wait for first treatment By Cancer",
          "31 Day Wait for first treatment By Cancer",
          "31 Day Wait for first treatment By Cancer",
          "31 Day Wait for first treatment By Cancer",
          "31 Day Wait for first treatment By Cancer",
          "62 Day Wait for first treatment By Cancer",
          "62 Day Wait for first treatment By Cancer",
          "62 Day Wait for first treatment By Cancer",
          "62 Day Wait for first treatment By Cancer",
          "62 Day Wait for first treatment By Cancer",
          "62 Day Wait for first treatment By Cancer",
          "62 Day Wait for first treatment By Cancer",
          "62 Day Wait for first treatment By Cancer",
          "62 Day Wait for first treatment By Cancer",
          "62 Day Wait for first treatment By Cancer",
          "62 Day Wait for first treatment By Cancer",
          "62 Day Wait for first treatment By Cancer",
          "62 Day Wait for first treatment By Cancer",
          "62 Day Wait for first treatment By Cancer",
          "62 Day Wait for first treatment By Cancer",
          "62 Day Wait for first treatment By Cancer",
          "62 Day Wait for first treatment By Cancer",
          "62 Day Wait for first treatment By Cancer",
          "62 Day Wait for first treatment By Cancer",
          "62 Day Wait for first treatment By Cancer",
          "62 Day Wait for first treatment By Cancer",
          "62 Day Wait for first treatment By Cancer",
          "62 Day Wait for first treatment By Cancer",
          "62 Day Wait for first treatment By Cancer",
          "62 Day Wait for first treatment By Cancer",
          "62 Day Wait for first treatment By Cancer",
          "62 Day Wait for first treatment By Cancer",
          "62 Day Wait for first treatment By Cancer",
          "62 Day Wait for first treatment By Cancer",
          "62 Day Wait for first treatment By Cancer",
          "62 Day Wait for first treatment By Cancer",
          "62 Day Wait for first treatment By Cancer",
          "62 Day Wait for first treatment By Cancer",
          "62 Day Wait for first treatment By Cancer",
          "62 Day Wait for first treatment By Cancer",
          "62 Day Wait for first treatment By Cancer",
          "62 Day Wait for first treatment By Cancer",
          "62 Day Wait for first treatment By Cancer",
          "62 Day Wait for first treatment By Cancer",
          "62 Day Wait for first treatment By Cancer",
          "62 Day Wait for first treatment By Cancer",
          "62 Day Wait for first treatment By Cancer",
          "62 Day Wait for first treatment By Cancer",
          "62 Day Wait for first treatment By Cancer",
          "62 Day Wait for first treatment By Cancer",
          "62 Day Wait for first treatment By Cancer",
          "62 Day Wait for first treatment By Cancer",
          "62 Day Wait for first treatment By Cancer",
          "62 Day Wait for first treatment By Cancer",
          "62 Day Wait for first treatment By Cancer",
          "62 Day Wait for first treatment By Cancer",
          "62 Day Wait for first treatment By Cancer",
          "62 Day Wait for first treatment By Cancer"
         ],
         "y0": " ",
         "yaxis": "y"
        }
       ],
       "layout": {
        "boxmode": "group",
        "legend": {
         "tracegroupgap": 0
        },
        "template": {
         "data": {
          "bar": [
           {
            "error_x": {
             "color": "#2a3f5f"
            },
            "error_y": {
             "color": "#2a3f5f"
            },
            "marker": {
             "line": {
              "color": "#E5ECF6",
              "width": 0.5
             }
            },
            "type": "bar"
           }
          ],
          "barpolar": [
           {
            "marker": {
             "line": {
              "color": "#E5ECF6",
              "width": 0.5
             }
            },
            "type": "barpolar"
           }
          ],
          "carpet": [
           {
            "aaxis": {
             "endlinecolor": "#2a3f5f",
             "gridcolor": "white",
             "linecolor": "white",
             "minorgridcolor": "white",
             "startlinecolor": "#2a3f5f"
            },
            "baxis": {
             "endlinecolor": "#2a3f5f",
             "gridcolor": "white",
             "linecolor": "white",
             "minorgridcolor": "white",
             "startlinecolor": "#2a3f5f"
            },
            "type": "carpet"
           }
          ],
          "choropleth": [
           {
            "colorbar": {
             "outlinewidth": 0,
             "ticks": ""
            },
            "type": "choropleth"
           }
          ],
          "contour": [
           {
            "colorbar": {
             "outlinewidth": 0,
             "ticks": ""
            },
            "colorscale": [
             [
              0,
              "#0d0887"
             ],
             [
              0.1111111111111111,
              "#46039f"
             ],
             [
              0.2222222222222222,
              "#7201a8"
             ],
             [
              0.3333333333333333,
              "#9c179e"
             ],
             [
              0.4444444444444444,
              "#bd3786"
             ],
             [
              0.5555555555555556,
              "#d8576b"
             ],
             [
              0.6666666666666666,
              "#ed7953"
             ],
             [
              0.7777777777777778,
              "#fb9f3a"
             ],
             [
              0.8888888888888888,
              "#fdca26"
             ],
             [
              1,
              "#f0f921"
             ]
            ],
            "type": "contour"
           }
          ],
          "contourcarpet": [
           {
            "colorbar": {
             "outlinewidth": 0,
             "ticks": ""
            },
            "type": "contourcarpet"
           }
          ],
          "heatmap": [
           {
            "colorbar": {
             "outlinewidth": 0,
             "ticks": ""
            },
            "colorscale": [
             [
              0,
              "#0d0887"
             ],
             [
              0.1111111111111111,
              "#46039f"
             ],
             [
              0.2222222222222222,
              "#7201a8"
             ],
             [
              0.3333333333333333,
              "#9c179e"
             ],
             [
              0.4444444444444444,
              "#bd3786"
             ],
             [
              0.5555555555555556,
              "#d8576b"
             ],
             [
              0.6666666666666666,
              "#ed7953"
             ],
             [
              0.7777777777777778,
              "#fb9f3a"
             ],
             [
              0.8888888888888888,
              "#fdca26"
             ],
             [
              1,
              "#f0f921"
             ]
            ],
            "type": "heatmap"
           }
          ],
          "heatmapgl": [
           {
            "colorbar": {
             "outlinewidth": 0,
             "ticks": ""
            },
            "colorscale": [
             [
              0,
              "#0d0887"
             ],
             [
              0.1111111111111111,
              "#46039f"
             ],
             [
              0.2222222222222222,
              "#7201a8"
             ],
             [
              0.3333333333333333,
              "#9c179e"
             ],
             [
              0.4444444444444444,
              "#bd3786"
             ],
             [
              0.5555555555555556,
              "#d8576b"
             ],
             [
              0.6666666666666666,
              "#ed7953"
             ],
             [
              0.7777777777777778,
              "#fb9f3a"
             ],
             [
              0.8888888888888888,
              "#fdca26"
             ],
             [
              1,
              "#f0f921"
             ]
            ],
            "type": "heatmapgl"
           }
          ],
          "histogram": [
           {
            "marker": {
             "colorbar": {
              "outlinewidth": 0,
              "ticks": ""
             }
            },
            "type": "histogram"
           }
          ],
          "histogram2d": [
           {
            "colorbar": {
             "outlinewidth": 0,
             "ticks": ""
            },
            "colorscale": [
             [
              0,
              "#0d0887"
             ],
             [
              0.1111111111111111,
              "#46039f"
             ],
             [
              0.2222222222222222,
              "#7201a8"
             ],
             [
              0.3333333333333333,
              "#9c179e"
             ],
             [
              0.4444444444444444,
              "#bd3786"
             ],
             [
              0.5555555555555556,
              "#d8576b"
             ],
             [
              0.6666666666666666,
              "#ed7953"
             ],
             [
              0.7777777777777778,
              "#fb9f3a"
             ],
             [
              0.8888888888888888,
              "#fdca26"
             ],
             [
              1,
              "#f0f921"
             ]
            ],
            "type": "histogram2d"
           }
          ],
          "histogram2dcontour": [
           {
            "colorbar": {
             "outlinewidth": 0,
             "ticks": ""
            },
            "colorscale": [
             [
              0,
              "#0d0887"
             ],
             [
              0.1111111111111111,
              "#46039f"
             ],
             [
              0.2222222222222222,
              "#7201a8"
             ],
             [
              0.3333333333333333,
              "#9c179e"
             ],
             [
              0.4444444444444444,
              "#bd3786"
             ],
             [
              0.5555555555555556,
              "#d8576b"
             ],
             [
              0.6666666666666666,
              "#ed7953"
             ],
             [
              0.7777777777777778,
              "#fb9f3a"
             ],
             [
              0.8888888888888888,
              "#fdca26"
             ],
             [
              1,
              "#f0f921"
             ]
            ],
            "type": "histogram2dcontour"
           }
          ],
          "mesh3d": [
           {
            "colorbar": {
             "outlinewidth": 0,
             "ticks": ""
            },
            "type": "mesh3d"
           }
          ],
          "parcoords": [
           {
            "line": {
             "colorbar": {
              "outlinewidth": 0,
              "ticks": ""
             }
            },
            "type": "parcoords"
           }
          ],
          "pie": [
           {
            "automargin": true,
            "type": "pie"
           }
          ],
          "scatter": [
           {
            "marker": {
             "colorbar": {
              "outlinewidth": 0,
              "ticks": ""
             }
            },
            "type": "scatter"
           }
          ],
          "scatter3d": [
           {
            "line": {
             "colorbar": {
              "outlinewidth": 0,
              "ticks": ""
             }
            },
            "marker": {
             "colorbar": {
              "outlinewidth": 0,
              "ticks": ""
             }
            },
            "type": "scatter3d"
           }
          ],
          "scattercarpet": [
           {
            "marker": {
             "colorbar": {
              "outlinewidth": 0,
              "ticks": ""
             }
            },
            "type": "scattercarpet"
           }
          ],
          "scattergeo": [
           {
            "marker": {
             "colorbar": {
              "outlinewidth": 0,
              "ticks": ""
             }
            },
            "type": "scattergeo"
           }
          ],
          "scattergl": [
           {
            "marker": {
             "colorbar": {
              "outlinewidth": 0,
              "ticks": ""
             }
            },
            "type": "scattergl"
           }
          ],
          "scattermapbox": [
           {
            "marker": {
             "colorbar": {
              "outlinewidth": 0,
              "ticks": ""
             }
            },
            "type": "scattermapbox"
           }
          ],
          "scatterpolar": [
           {
            "marker": {
             "colorbar": {
              "outlinewidth": 0,
              "ticks": ""
             }
            },
            "type": "scatterpolar"
           }
          ],
          "scatterpolargl": [
           {
            "marker": {
             "colorbar": {
              "outlinewidth": 0,
              "ticks": ""
             }
            },
            "type": "scatterpolargl"
           }
          ],
          "scatterternary": [
           {
            "marker": {
             "colorbar": {
              "outlinewidth": 0,
              "ticks": ""
             }
            },
            "type": "scatterternary"
           }
          ],
          "surface": [
           {
            "colorbar": {
             "outlinewidth": 0,
             "ticks": ""
            },
            "colorscale": [
             [
              0,
              "#0d0887"
             ],
             [
              0.1111111111111111,
              "#46039f"
             ],
             [
              0.2222222222222222,
              "#7201a8"
             ],
             [
              0.3333333333333333,
              "#9c179e"
             ],
             [
              0.4444444444444444,
              "#bd3786"
             ],
             [
              0.5555555555555556,
              "#d8576b"
             ],
             [
              0.6666666666666666,
              "#ed7953"
             ],
             [
              0.7777777777777778,
              "#fb9f3a"
             ],
             [
              0.8888888888888888,
              "#fdca26"
             ],
             [
              1,
              "#f0f921"
             ]
            ],
            "type": "surface"
           }
          ],
          "table": [
           {
            "cells": {
             "fill": {
              "color": "#EBF0F8"
             },
             "line": {
              "color": "white"
             }
            },
            "header": {
             "fill": {
              "color": "#C8D4E3"
             },
             "line": {
              "color": "white"
             }
            },
            "type": "table"
           }
          ]
         },
         "layout": {
          "annotationdefaults": {
           "arrowcolor": "#2a3f5f",
           "arrowhead": 0,
           "arrowwidth": 1
          },
          "coloraxis": {
           "colorbar": {
            "outlinewidth": 0,
            "ticks": ""
           }
          },
          "colorscale": {
           "diverging": [
            [
             0,
             "#8e0152"
            ],
            [
             0.1,
             "#c51b7d"
            ],
            [
             0.2,
             "#de77ae"
            ],
            [
             0.3,
             "#f1b6da"
            ],
            [
             0.4,
             "#fde0ef"
            ],
            [
             0.5,
             "#f7f7f7"
            ],
            [
             0.6,
             "#e6f5d0"
            ],
            [
             0.7,
             "#b8e186"
            ],
            [
             0.8,
             "#7fbc41"
            ],
            [
             0.9,
             "#4d9221"
            ],
            [
             1,
             "#276419"
            ]
           ],
           "sequential": [
            [
             0,
             "#0d0887"
            ],
            [
             0.1111111111111111,
             "#46039f"
            ],
            [
             0.2222222222222222,
             "#7201a8"
            ],
            [
             0.3333333333333333,
             "#9c179e"
            ],
            [
             0.4444444444444444,
             "#bd3786"
            ],
            [
             0.5555555555555556,
             "#d8576b"
            ],
            [
             0.6666666666666666,
             "#ed7953"
            ],
            [
             0.7777777777777778,
             "#fb9f3a"
            ],
            [
             0.8888888888888888,
             "#fdca26"
            ],
            [
             1,
             "#f0f921"
            ]
           ],
           "sequentialminus": [
            [
             0,
             "#0d0887"
            ],
            [
             0.1111111111111111,
             "#46039f"
            ],
            [
             0.2222222222222222,
             "#7201a8"
            ],
            [
             0.3333333333333333,
             "#9c179e"
            ],
            [
             0.4444444444444444,
             "#bd3786"
            ],
            [
             0.5555555555555556,
             "#d8576b"
            ],
            [
             0.6666666666666666,
             "#ed7953"
            ],
            [
             0.7777777777777778,
             "#fb9f3a"
            ],
            [
             0.8888888888888888,
             "#fdca26"
            ],
            [
             1,
             "#f0f921"
            ]
           ]
          },
          "colorway": [
           "#636efa",
           "#EF553B",
           "#00cc96",
           "#ab63fa",
           "#FFA15A",
           "#19d3f3",
           "#FF6692",
           "#B6E880",
           "#FF97FF",
           "#FECB52"
          ],
          "font": {
           "color": "#2a3f5f"
          },
          "geo": {
           "bgcolor": "white",
           "lakecolor": "white",
           "landcolor": "#E5ECF6",
           "showlakes": true,
           "showland": true,
           "subunitcolor": "white"
          },
          "hoverlabel": {
           "align": "left"
          },
          "hovermode": "closest",
          "mapbox": {
           "style": "light"
          },
          "paper_bgcolor": "white",
          "plot_bgcolor": "#E5ECF6",
          "polar": {
           "angularaxis": {
            "gridcolor": "white",
            "linecolor": "white",
            "ticks": ""
           },
           "bgcolor": "#E5ECF6",
           "radialaxis": {
            "gridcolor": "white",
            "linecolor": "white",
            "ticks": ""
           }
          },
          "scene": {
           "xaxis": {
            "backgroundcolor": "#E5ECF6",
            "gridcolor": "white",
            "gridwidth": 2,
            "linecolor": "white",
            "showbackground": true,
            "ticks": "",
            "zerolinecolor": "white"
           },
           "yaxis": {
            "backgroundcolor": "#E5ECF6",
            "gridcolor": "white",
            "gridwidth": 2,
            "linecolor": "white",
            "showbackground": true,
            "ticks": "",
            "zerolinecolor": "white"
           },
           "zaxis": {
            "backgroundcolor": "#E5ECF6",
            "gridcolor": "white",
            "gridwidth": 2,
            "linecolor": "white",
            "showbackground": true,
            "ticks": "",
            "zerolinecolor": "white"
           }
          },
          "shapedefaults": {
           "line": {
            "color": "#2a3f5f"
           }
          },
          "ternary": {
           "aaxis": {
            "gridcolor": "white",
            "linecolor": "white",
            "ticks": ""
           },
           "baxis": {
            "gridcolor": "white",
            "linecolor": "white",
            "ticks": ""
           },
           "bgcolor": "#E5ECF6",
           "caxis": {
            "gridcolor": "white",
            "linecolor": "white",
            "ticks": ""
           }
          },
          "title": {
           "x": 0.05
          },
          "xaxis": {
           "automargin": true,
           "gridcolor": "white",
           "linecolor": "white",
           "ticks": "",
           "title": {
            "standoff": 15
           },
           "zerolinecolor": "white",
           "zerolinewidth": 2
          },
          "yaxis": {
           "automargin": true,
           "gridcolor": "white",
           "linecolor": "white",
           "ticks": "",
           "title": {
            "standoff": 15
           },
           "zerolinecolor": "white",
           "zerolinewidth": 2
          }
         }
        },
        "title": {
         "text": "Mean Percentage Breaches Cancer Waiting Targets"
        },
        "xaxis": {
         "anchor": "y",
         "domain": [
          0,
          1
         ],
         "title": {
          "text": "Percentage"
         }
        },
        "yaxis": {
         "anchor": "x",
         "domain": [
          0,
          1
         ],
         "title": {
          "text": "Measure"
         }
        }
       }
      },
      "text/html": [
       "<div>\n",
       "        \n",
       "        \n",
       "            <div id=\"45834f4f-56ca-487c-9eca-df0109c688c7\" class=\"plotly-graph-div\" style=\"height:525px; width:100%;\"></div>\n",
       "            <script type=\"text/javascript\">\n",
       "                require([\"plotly\"], function(Plotly) {\n",
       "                    window.PLOTLYENV=window.PLOTLYENV || {};\n",
       "                    \n",
       "                if (document.getElementById(\"45834f4f-56ca-487c-9eca-df0109c688c7\")) {\n",
       "                    Plotly.newPlot(\n",
       "                        '45834f4f-56ca-487c-9eca-df0109c688c7',\n",
       "                        [{\"alignmentgroup\": \"True\", \"hoverlabel\": {\"namelength\": 0}, \"hovertemplate\": \"Name=OXFORD UNIVERSITY HOSPITALS NHS FOUNDATION TRUST<br>Percentage=%{x}<br>Measure=%{y}\", \"legendgroup\": \"Name=OXFORD UNIVERSITY HOSPITALS NHS FOUNDATION TRUST\", \"marker\": {\"color\": \"#636efa\"}, \"name\": \"Name=OXFORD UNIVERSITY HOSPITALS NHS FOUNDATION TRUST\", \"notched\": false, \"offsetgroup\": \"Name=OXFORD UNIVERSITY HOSPITALS NHS FOUNDATION TRUST\", \"orientation\": \"h\", \"showlegend\": true, \"type\": \"box\", \"x\": [2.9000000000000026, 2.9000000000000026, 2.8000000000000025, 2.400000000000002, 1.5999999999999903, 1.8000000000000016, 1.5000000000000013, 7.599999999999996, 7.599999999999996, 6.700000000000006, 5.400000000000005, 6.000000000000005, 5.299999999999994, 4.400000000000004, 4.0000000000000036, 3.7999999999999923, 3.400000000000003, 3.0000000000000027, 3.200000000000003, 5.400000000000005, 3.9000000000000035, 3.400000000000003, 3.9000000000000035, 3.500000000000003, 3.200000000000003, 3.599999999999992, 3.299999999999992, 2.500000000000002, 2.500000000000002, 2.300000000000002, 1.5999999999999903, 10.7, 9.999999999999998, 9.999999999999998, 7.099999999999995, 5.299999999999994, 3.7000000000000033, 3.9000000000000035, 3.7999999999999923, 6.400000000000006, 3.599999999999992, 3.7999999999999923, 2.500000000000002, 9.099999999999998, 8.400000000000007, 7.599999999999996, 12.400000000000011, 8.999999999999996, 6.400000000000006, 6.2999999999999945, 4.0000000000000036, 4.299999999999993, 3.500000000000003, 14.900000000000002, 16.400000000000002, 14.09999999999999, 14.59999999999999, 13.5, 13.4, 14.900000000000002, 29.200000000000003, 28.29999999999999, 31.099999999999994, 25.099999999999987, 27.0, 23.099999999999998, 23.2, 22.299999999999997, 18.400000000000006, 16.200000000000003, 14.400000000000002, 15.200000000000003, 33.8, 21.499999999999996, 16.500000000000004, 17.200000000000003, 18.400000000000006, 18.000000000000004, 16.700000000000003, 14.900000000000002, 14.500000000000002, 14.800000000000002, 13.59999999999999, 12.9, 31.999999999999996, 27.400000000000002, 29.000000000000004, 29.099999999999994, 29.000000000000004, 23.599999999999998, 28.59999999999999, 19.999999999999996, 19.799999999999997, 18.000000000000004, 18.200000000000006, 18.200000000000006, 34.5, 35.8, 24.7, 35.6, 30.400000000000006, 33.20000000000001, 30.799999999999994, 29.099999999999994, 26.0, 30.299999999999994], \"x0\": \" \", \"xaxis\": \"x\", \"y\": [\"31 Day Wait for first treatment By Cancer\", \"31 Day Wait for first treatment By Cancer\", \"31 Day Wait for first treatment By Cancer\", \"31 Day Wait for first treatment By Cancer\", \"31 Day Wait for first treatment By Cancer\", \"31 Day Wait for first treatment By Cancer\", \"31 Day Wait for first treatment By Cancer\", \"31 Day Wait for first treatment By Cancer\", \"31 Day Wait for first treatment By Cancer\", \"31 Day Wait for first treatment By Cancer\", \"31 Day Wait for first treatment By Cancer\", \"31 Day Wait for first treatment By Cancer\", \"31 Day Wait for first treatment By Cancer\", \"31 Day Wait for first treatment By Cancer\", \"31 Day Wait for first treatment By Cancer\", \"31 Day Wait for first treatment By Cancer\", \"31 Day Wait for first treatment By Cancer\", \"31 Day Wait for first treatment By Cancer\", \"31 Day Wait for first treatment By Cancer\", \"31 Day Wait for first treatment By Cancer\", \"31 Day Wait for first treatment By Cancer\", \"31 Day Wait for first treatment By Cancer\", \"31 Day Wait for first treatment By Cancer\", \"31 Day Wait for first treatment By Cancer\", \"31 Day Wait for first treatment By Cancer\", \"31 Day Wait for first treatment By Cancer\", \"31 Day Wait for first treatment By Cancer\", \"31 Day Wait for first treatment By Cancer\", \"31 Day Wait for first treatment By Cancer\", \"31 Day Wait for first treatment By Cancer\", \"31 Day Wait for first treatment By Cancer\", \"31 Day Wait for first treatment By Cancer\", \"31 Day Wait for first treatment By Cancer\", \"31 Day Wait for first treatment By Cancer\", \"31 Day Wait for first treatment By Cancer\", \"31 Day Wait for first treatment By Cancer\", \"31 Day Wait for first treatment By Cancer\", \"31 Day Wait for first treatment By Cancer\", \"31 Day Wait for first treatment By Cancer\", \"31 Day Wait for first treatment By Cancer\", \"31 Day Wait for first treatment By Cancer\", \"31 Day Wait for first treatment By Cancer\", \"31 Day Wait for first treatment By Cancer\", \"31 Day Wait for first treatment By Cancer\", \"31 Day Wait for first treatment By Cancer\", \"31 Day Wait for first treatment By Cancer\", \"31 Day Wait for first treatment By Cancer\", \"31 Day Wait for first treatment By Cancer\", \"31 Day Wait for first treatment By Cancer\", \"31 Day Wait for first treatment By Cancer\", \"31 Day Wait for first treatment By Cancer\", \"31 Day Wait for first treatment By Cancer\", \"31 Day Wait for first treatment By Cancer\", \"62 Day Wait for first treatment By Cancer\", \"62 Day Wait for first treatment By Cancer\", \"62 Day Wait for first treatment By Cancer\", \"62 Day Wait for first treatment By Cancer\", \"62 Day Wait for first treatment By Cancer\", \"62 Day Wait for first treatment By Cancer\", \"62 Day Wait for first treatment By Cancer\", \"62 Day Wait for first treatment By Cancer\", \"62 Day Wait for first treatment By Cancer\", \"62 Day Wait for first treatment By Cancer\", \"62 Day Wait for first treatment By Cancer\", \"62 Day Wait for first treatment By Cancer\", \"62 Day Wait for first treatment By Cancer\", \"62 Day Wait for first treatment By Cancer\", \"62 Day Wait for first treatment By Cancer\", \"62 Day Wait for first treatment By Cancer\", \"62 Day Wait for first treatment By Cancer\", \"62 Day Wait for first treatment By Cancer\", \"62 Day Wait for first treatment By Cancer\", \"62 Day Wait for first treatment By Cancer\", \"62 Day Wait for first treatment By Cancer\", \"62 Day Wait for first treatment By Cancer\", \"62 Day Wait for first treatment By Cancer\", \"62 Day Wait for first treatment By Cancer\", \"62 Day Wait for first treatment By Cancer\", \"62 Day Wait for first treatment By Cancer\", \"62 Day Wait for first treatment By Cancer\", \"62 Day Wait for first treatment By Cancer\", \"62 Day Wait for first treatment By Cancer\", \"62 Day Wait for first treatment By Cancer\", \"62 Day Wait for first treatment By Cancer\", \"62 Day Wait for first treatment By Cancer\", \"62 Day Wait for first treatment By Cancer\", \"62 Day Wait for first treatment By Cancer\", \"62 Day Wait for first treatment By Cancer\", \"62 Day Wait for first treatment By Cancer\", \"62 Day Wait for first treatment By Cancer\", \"62 Day Wait for first treatment By Cancer\", \"62 Day Wait for first treatment By Cancer\", \"62 Day Wait for first treatment By Cancer\", \"62 Day Wait for first treatment By Cancer\", \"62 Day Wait for first treatment By Cancer\", \"62 Day Wait for first treatment By Cancer\", \"62 Day Wait for first treatment By Cancer\", \"62 Day Wait for first treatment By Cancer\", \"62 Day Wait for first treatment By Cancer\", \"62 Day Wait for first treatment By Cancer\", \"62 Day Wait for first treatment By Cancer\", \"62 Day Wait for first treatment By Cancer\", \"62 Day Wait for first treatment By Cancer\", \"62 Day Wait for first treatment By Cancer\", \"62 Day Wait for first treatment By Cancer\", \"62 Day Wait for first treatment By Cancer\"], \"y0\": \" \", \"yaxis\": \"y\"}, {\"alignmentgroup\": \"True\", \"hoverlabel\": {\"namelength\": 0}, \"hovertemplate\": \"Name=ROYAL BERKSHIRE NHS FOUNDATION TRUST<br>Percentage=%{x}<br>Measure=%{y}\", \"legendgroup\": \"Name=ROYAL BERKSHIRE NHS FOUNDATION TRUST\", \"marker\": {\"color\": \"#EF553B\"}, \"name\": \"Name=ROYAL BERKSHIRE NHS FOUNDATION TRUST\", \"notched\": false, \"offsetgroup\": \"Name=ROYAL BERKSHIRE NHS FOUNDATION TRUST\", \"orientation\": \"h\", \"showlegend\": true, \"type\": \"box\", \"x\": [4.400000000000004, 4.400000000000004, 3.299999999999992, 3.200000000000003, 3.599999999999992, 2.599999999999991, 2.300000000000002, 6.099999999999994, 4.0000000000000036, 3.400000000000003, 4.299999999999993, 3.0000000000000027, 3.500000000000003, 2.599999999999991, 2.300000000000002, 1.8000000000000016, 1.5999999999999903, 1.7000000000000015, 0.5000000000000004, 2.7000000000000024, 3.0999999999999917, 3.200000000000003, 3.200000000000003, 2.9000000000000026, 2.7000000000000024, 2.0999999999999908, 1.5000000000000013, 1.4000000000000012, 1.7000000000000015, 1.3000000000000012, 0.5000000000000004, 5.400000000000005, 2.300000000000002, 2.200000000000002, 2.300000000000002, 2.500000000000002, 2.0999999999999908, 2.500000000000002, 1.5999999999999903, 4.5000000000000036, 1.3000000000000012, 1.8000000000000016, 1.7000000000000015, 4.0999999999999925, 3.200000000000003, 2.0000000000000018, 4.0000000000000036, 3.7000000000000033, 3.9000000000000035, 1.8000000000000016, 1.9000000000000017, 1.3000000000000012, 1.7000000000000015, 25.900000000000002, 34.099999999999994, 26.400000000000002, 24.099999999999998, 27.09999999999999, 26.3, 16.400000000000002, 29.200000000000003, 28.900000000000002, 27.900000000000002, 17.500000000000004, 22.499999999999996, 16.500000000000004, 15.000000000000002, 17.200000000000003, 14.000000000000002, 15.09999999999999, 10.499999999999998, 9.200000000000008, 17.799999999999994, 18.099999999999994, 15.000000000000002, 14.59999999999999, 14.000000000000002, 13.5, 14.900000000000002, 16.799999999999994, 17.599999999999994, 12.1, 12.3, 7.499999999999996, 22.40000000000001, 28.59999999999999, 17.299999999999994, 14.59999999999999, 13.200000000000001, 19.099999999999994, 13.4, 14.3, 12.1, 14.59999999999999, 14.500000000000002, 9.499999999999996, 16.599999999999994, 14.3, 12.9, 17.200000000000003, 15.09999999999999, 14.3, 15.000000000000002, 15.400000000000002, 11.099999999999998, 10.799999999999999], \"x0\": \" \", \"xaxis\": \"x\", \"y\": [\"31 Day Wait for first treatment By Cancer\", \"31 Day Wait for first treatment By Cancer\", \"31 Day Wait for first treatment By Cancer\", \"31 Day Wait for first treatment By Cancer\", \"31 Day Wait for first treatment By Cancer\", \"31 Day Wait for first treatment By Cancer\", \"31 Day Wait for first treatment By Cancer\", \"31 Day Wait for first treatment By Cancer\", \"31 Day Wait for first treatment By Cancer\", \"31 Day Wait for first treatment By Cancer\", \"31 Day Wait for first treatment By Cancer\", \"31 Day Wait for first treatment By Cancer\", \"31 Day Wait for first treatment By Cancer\", \"31 Day Wait for first treatment By Cancer\", \"31 Day Wait for first treatment By Cancer\", \"31 Day Wait for first treatment By Cancer\", \"31 Day Wait for first treatment By Cancer\", \"31 Day Wait for first treatment By Cancer\", \"31 Day Wait for first treatment By Cancer\", \"31 Day Wait for first treatment By Cancer\", \"31 Day Wait for first treatment By Cancer\", \"31 Day Wait for first treatment By Cancer\", \"31 Day Wait for first treatment By Cancer\", \"31 Day Wait for first treatment By Cancer\", \"31 Day Wait for first treatment By Cancer\", \"31 Day Wait for first treatment By Cancer\", \"31 Day Wait for first treatment By Cancer\", \"31 Day Wait for first treatment By Cancer\", \"31 Day Wait for first treatment By Cancer\", \"31 Day Wait for first treatment By Cancer\", \"31 Day Wait for first treatment By Cancer\", \"31 Day Wait for first treatment By Cancer\", \"31 Day Wait for first treatment By Cancer\", \"31 Day Wait for first treatment By Cancer\", \"31 Day Wait for first treatment By Cancer\", \"31 Day Wait for first treatment By Cancer\", \"31 Day Wait for first treatment By Cancer\", \"31 Day Wait for first treatment By Cancer\", \"31 Day Wait for first treatment By Cancer\", \"31 Day Wait for first treatment By Cancer\", \"31 Day Wait for first treatment By Cancer\", \"31 Day Wait for first treatment By Cancer\", \"31 Day Wait for first treatment By Cancer\", \"31 Day Wait for first treatment By Cancer\", \"31 Day Wait for first treatment By Cancer\", \"31 Day Wait for first treatment By Cancer\", \"31 Day Wait for first treatment By Cancer\", \"31 Day Wait for first treatment By Cancer\", \"31 Day Wait for first treatment By Cancer\", \"31 Day Wait for first treatment By Cancer\", \"31 Day Wait for first treatment By Cancer\", \"31 Day Wait for first treatment By Cancer\", \"31 Day Wait for first treatment By Cancer\", \"62 Day Wait for first treatment By Cancer\", \"62 Day Wait for first treatment By Cancer\", \"62 Day Wait for first treatment By Cancer\", \"62 Day Wait for first treatment By Cancer\", \"62 Day Wait for first treatment By Cancer\", \"62 Day Wait for first treatment By Cancer\", \"62 Day Wait for first treatment By Cancer\", \"62 Day Wait for first treatment By Cancer\", \"62 Day Wait for first treatment By Cancer\", \"62 Day Wait for first treatment By Cancer\", \"62 Day Wait for first treatment By Cancer\", \"62 Day Wait for first treatment By Cancer\", \"62 Day Wait for first treatment By Cancer\", \"62 Day Wait for first treatment By Cancer\", \"62 Day Wait for first treatment By Cancer\", \"62 Day Wait for first treatment By Cancer\", \"62 Day Wait for first treatment By Cancer\", \"62 Day Wait for first treatment By Cancer\", \"62 Day Wait for first treatment By Cancer\", \"62 Day Wait for first treatment By Cancer\", \"62 Day Wait for first treatment By Cancer\", \"62 Day Wait for first treatment By Cancer\", \"62 Day Wait for first treatment By Cancer\", \"62 Day Wait for first treatment By Cancer\", \"62 Day Wait for first treatment By Cancer\", \"62 Day Wait for first treatment By Cancer\", \"62 Day Wait for first treatment By Cancer\", \"62 Day Wait for first treatment By Cancer\", \"62 Day Wait for first treatment By Cancer\", \"62 Day Wait for first treatment By Cancer\", \"62 Day Wait for first treatment By Cancer\", \"62 Day Wait for first treatment By Cancer\", \"62 Day Wait for first treatment By Cancer\", \"62 Day Wait for first treatment By Cancer\", \"62 Day Wait for first treatment By Cancer\", \"62 Day Wait for first treatment By Cancer\", \"62 Day Wait for first treatment By Cancer\", \"62 Day Wait for first treatment By Cancer\", \"62 Day Wait for first treatment By Cancer\", \"62 Day Wait for first treatment By Cancer\", \"62 Day Wait for first treatment By Cancer\", \"62 Day Wait for first treatment By Cancer\", \"62 Day Wait for first treatment By Cancer\", \"62 Day Wait for first treatment By Cancer\", \"62 Day Wait for first treatment By Cancer\", \"62 Day Wait for first treatment By Cancer\", \"62 Day Wait for first treatment By Cancer\", \"62 Day Wait for first treatment By Cancer\", \"62 Day Wait for first treatment By Cancer\", \"62 Day Wait for first treatment By Cancer\", \"62 Day Wait for first treatment By Cancer\", \"62 Day Wait for first treatment By Cancer\", \"62 Day Wait for first treatment By Cancer\"], \"y0\": \" \", \"yaxis\": \"y\"}, {\"alignmentgroup\": \"True\", \"hoverlabel\": {\"namelength\": 0}, \"hovertemplate\": \"Name=HAMPSHIRE HOSPITALS NHS FOUNDATION TRUST<br>Percentage=%{x}<br>Measure=%{y}\", \"legendgroup\": \"Name=HAMPSHIRE HOSPITALS NHS FOUNDATION TRUST\", \"marker\": {\"color\": \"#00cc96\"}, \"name\": \"Name=HAMPSHIRE HOSPITALS NHS FOUNDATION TRUST\", \"notched\": false, \"offsetgroup\": \"Name=HAMPSHIRE HOSPITALS NHS FOUNDATION TRUST\", \"orientation\": \"h\", \"showlegend\": true, \"type\": \"box\", \"x\": [2.200000000000002, 1.8000000000000016, 1.0000000000000009, 1.200000000000001, 1.0000000000000009, 0.5000000000000004, 0.0, 2.0999999999999908, 1.7000000000000015, 1.8000000000000016, 1.0000000000000009, 1.0999999999999899, 0.5000000000000004, 0.5000000000000004, 0.5999999999999894, 0.5000000000000004, 0.5000000000000004, 0.0, 0.0, 2.0999999999999908, 1.5000000000000013, 1.0000000000000009, 1.5000000000000013, 1.3000000000000012, 0.5000000000000004, 0.5000000000000004, 0.5999999999999894, 0.5000000000000004, 0.8000000000000007, 0.5000000000000004, 0.0, 4.400000000000004, 2.0000000000000018, 1.7000000000000015, 1.4000000000000012, 1.5999999999999903, 1.4000000000000012, 0.5000000000000004, 0.5000000000000004, 1.0999999999999899, 0.5999999999999894, 0.0, 0.0, 4.299999999999993, 2.7000000000000024, 3.7000000000000033, 1.7000000000000015, 3.0999999999999917, 3.0000000000000027, 2.500000000000002, 2.500000000000002, 2.0999999999999908, 1.8000000000000016, 19.099999999999994, 13.59999999999999, 14.500000000000002, 13.0, 13.4, 13.4, 10.099999999999998, 17.900000000000006, 14.000000000000002, 12.0, 16.799999999999994, 14.400000000000002, 13.0, 14.800000000000002, 13.8, 10.299999999999997, 10.90000000000001, 9.499999999999996, 8.900000000000007, 23.099999999999998, 18.599999999999994, 17.900000000000006, 13.700000000000001, 15.09999999999999, 13.099999999999989, 12.400000000000011, 12.1, 14.000000000000002, 10.799999999999999, 13.5, 11.5, 28.700000000000003, 27.700000000000003, 21.70000000000001, 20.999999999999996, 16.500000000000004, 19.999999999999996, 17.099999999999994, 16.000000000000004, 16.200000000000003, 16.700000000000003, 14.400000000000002, 13.8, 27.700000000000003, 23.40000000000001, 24.6, 25.4, 19.999999999999996, 22.40000000000001, 23.40000000000001, 20.499999999999996, 19.799999999999997, 16.400000000000002], \"x0\": \" \", \"xaxis\": \"x\", \"y\": [\"31 Day Wait for first treatment By Cancer\", \"31 Day Wait for first treatment By Cancer\", \"31 Day Wait for first treatment By Cancer\", \"31 Day Wait for first treatment By Cancer\", \"31 Day Wait for first treatment By Cancer\", \"31 Day Wait for first treatment By Cancer\", \"31 Day Wait for first treatment By Cancer\", \"31 Day Wait for first treatment By Cancer\", \"31 Day Wait for first treatment By Cancer\", \"31 Day Wait for first treatment By Cancer\", \"31 Day Wait for first treatment By Cancer\", \"31 Day Wait for first treatment By Cancer\", \"31 Day Wait for first treatment By Cancer\", \"31 Day Wait for first treatment By Cancer\", \"31 Day Wait for first treatment By Cancer\", \"31 Day Wait for first treatment By Cancer\", \"31 Day Wait for first treatment By Cancer\", \"31 Day Wait for first treatment By Cancer\", \"31 Day Wait for first treatment By Cancer\", \"31 Day Wait for first treatment By Cancer\", \"31 Day Wait for first treatment By Cancer\", \"31 Day Wait for first treatment By Cancer\", \"31 Day Wait for first treatment By Cancer\", \"31 Day Wait for first treatment By Cancer\", \"31 Day Wait for first treatment By Cancer\", \"31 Day Wait for first treatment By Cancer\", \"31 Day Wait for first treatment By Cancer\", \"31 Day Wait for first treatment By Cancer\", \"31 Day Wait for first treatment By Cancer\", \"31 Day Wait for first treatment By Cancer\", \"31 Day Wait for first treatment By Cancer\", \"31 Day Wait for first treatment By Cancer\", \"31 Day Wait for first treatment By Cancer\", \"31 Day Wait for first treatment By Cancer\", \"31 Day Wait for first treatment By Cancer\", \"31 Day Wait for first treatment By Cancer\", \"31 Day Wait for first treatment By Cancer\", \"31 Day Wait for first treatment By Cancer\", \"31 Day Wait for first treatment By Cancer\", \"31 Day Wait for first treatment By Cancer\", \"31 Day Wait for first treatment By Cancer\", \"31 Day Wait for first treatment By Cancer\", \"31 Day Wait for first treatment By Cancer\", \"31 Day Wait for first treatment By Cancer\", \"31 Day Wait for first treatment By Cancer\", \"31 Day Wait for first treatment By Cancer\", \"31 Day Wait for first treatment By Cancer\", \"31 Day Wait for first treatment By Cancer\", \"31 Day Wait for first treatment By Cancer\", \"31 Day Wait for first treatment By Cancer\", \"31 Day Wait for first treatment By Cancer\", \"31 Day Wait for first treatment By Cancer\", \"31 Day Wait for first treatment By Cancer\", \"62 Day Wait for first treatment By Cancer\", \"62 Day Wait for first treatment By Cancer\", \"62 Day Wait for first treatment By Cancer\", \"62 Day Wait for first treatment By Cancer\", \"62 Day Wait for first treatment By Cancer\", \"62 Day Wait for first treatment By Cancer\", \"62 Day Wait for first treatment By Cancer\", \"62 Day Wait for first treatment By Cancer\", \"62 Day Wait for first treatment By Cancer\", \"62 Day Wait for first treatment By Cancer\", \"62 Day Wait for first treatment By Cancer\", \"62 Day Wait for first treatment By Cancer\", \"62 Day Wait for first treatment By Cancer\", \"62 Day Wait for first treatment By Cancer\", \"62 Day Wait for first treatment By Cancer\", \"62 Day Wait for first treatment By Cancer\", \"62 Day Wait for first treatment By Cancer\", \"62 Day Wait for first treatment By Cancer\", \"62 Day Wait for first treatment By Cancer\", \"62 Day Wait for first treatment By Cancer\", \"62 Day Wait for first treatment By Cancer\", \"62 Day Wait for first treatment By Cancer\", \"62 Day Wait for first treatment By Cancer\", \"62 Day Wait for first treatment By Cancer\", \"62 Day Wait for first treatment By Cancer\", \"62 Day Wait for first treatment By Cancer\", \"62 Day Wait for first treatment By Cancer\", \"62 Day Wait for first treatment By Cancer\", \"62 Day Wait for first treatment By Cancer\", \"62 Day Wait for first treatment By Cancer\", \"62 Day Wait for first treatment By Cancer\", \"62 Day Wait for first treatment By Cancer\", \"62 Day Wait for first treatment By Cancer\", \"62 Day Wait for first treatment By Cancer\", \"62 Day Wait for first treatment By Cancer\", \"62 Day Wait for first treatment By Cancer\", \"62 Day Wait for first treatment By Cancer\", \"62 Day Wait for first treatment By Cancer\", \"62 Day Wait for first treatment By Cancer\", \"62 Day Wait for first treatment By Cancer\", \"62 Day Wait for first treatment By Cancer\", \"62 Day Wait for first treatment By Cancer\", \"62 Day Wait for first treatment By Cancer\", \"62 Day Wait for first treatment By Cancer\", \"62 Day Wait for first treatment By Cancer\", \"62 Day Wait for first treatment By Cancer\", \"62 Day Wait for first treatment By Cancer\", \"62 Day Wait for first treatment By Cancer\", \"62 Day Wait for first treatment By Cancer\", \"62 Day Wait for first treatment By Cancer\", \"62 Day Wait for first treatment By Cancer\", \"62 Day Wait for first treatment By Cancer\", \"62 Day Wait for first treatment By Cancer\"], \"y0\": \" \", \"yaxis\": \"y\"}, {\"alignmentgroup\": \"True\", \"hoverlabel\": {\"namelength\": 0}, \"hovertemplate\": \"Name=BUCKINGHAMSHIRE HEALTHCARE NHS TRUST<br>Percentage=%{x}<br>Measure=%{y}\", \"legendgroup\": \"Name=BUCKINGHAMSHIRE HEALTHCARE NHS TRUST\", \"marker\": {\"color\": \"#ab63fa\"}, \"name\": \"Name=BUCKINGHAMSHIRE HEALTHCARE NHS TRUST\", \"notched\": false, \"offsetgroup\": \"Name=BUCKINGHAMSHIRE HEALTHCARE NHS TRUST\", \"orientation\": \"h\", \"showlegend\": true, \"type\": \"box\", \"x\": [1.9000000000000017, 1.200000000000001, 1.5000000000000013, 0.7000000000000006, 0.5999999999999894, 0.0, 0.0, 2.599999999999991, 1.9000000000000017, 2.0999999999999908, 1.3000000000000012, 1.0999999999999899, 1.200000000000001, 1.4000000000000012, 0.7000000000000006, 0.7000000000000006, 0.5999999999999894, 0.0, 0.0, 4.0999999999999925, 5.000000000000004, 3.200000000000003, 2.500000000000002, 1.7000000000000015, 1.4000000000000012, 1.3000000000000012, 1.7000000000000015, 0.8000000000000007, 0.5999999999999894, 0.7000000000000006, 0.0, 7.099999999999995, 3.200000000000003, 2.599999999999991, 3.200000000000003, 3.299999999999992, 2.500000000000002, 1.5000000000000013, 1.7000000000000015, 3.400000000000003, 1.200000000000001, 2.400000000000002, 0.8000000000000007, 3.9000000000000035, 6.099999999999994, 5.799999999999994, 2.9000000000000026, 2.300000000000002, 3.500000000000003, 3.500000000000003, 3.200000000000003, 2.9000000000000026, 2.0999999999999908, 12.400000000000011, 14.400000000000002, 15.799999999999992, 9.699999999999998, 11.5, 8.400000000000007, 9.799999999999997, 20.799999999999997, 19.799999999999997, 15.700000000000003, 15.400000000000002, 15.799999999999992, 14.500000000000002, 16.400000000000002, 13.099999999999989, 13.3, 14.59999999999999, 12.9, 11.40000000000001, 20.200000000000006, 18.700000000000006, 16.799999999999994, 14.400000000000002, 15.500000000000004, 12.7, 14.500000000000002, 13.8, 14.400000000000002, 15.400000000000002, 12.8, 9.799999999999997, 23.40000000000001, 21.499999999999996, 25.900000000000002, 14.700000000000003, 20.799999999999997, 15.000000000000002, 17.799999999999994, 15.09999999999999, 19.900000000000006, 13.5, 22.099999999999998, 14.3, 20.099999999999994, 24.2, 14.700000000000003, 13.4, 18.299999999999994, 21.299999999999997, 16.599999999999994, 16.09999999999999, 16.799999999999994, 15.900000000000002], \"x0\": \" \", \"xaxis\": \"x\", \"y\": [\"31 Day Wait for first treatment By Cancer\", \"31 Day Wait for first treatment By Cancer\", \"31 Day Wait for first treatment By Cancer\", \"31 Day Wait for first treatment By Cancer\", \"31 Day Wait for first treatment By Cancer\", \"31 Day Wait for first treatment By Cancer\", \"31 Day Wait for first treatment By Cancer\", \"31 Day Wait for first treatment By Cancer\", \"31 Day Wait for first treatment By Cancer\", \"31 Day Wait for first treatment By Cancer\", \"31 Day Wait for first treatment By Cancer\", \"31 Day Wait for first treatment By Cancer\", \"31 Day Wait for first treatment By Cancer\", \"31 Day Wait for first treatment By Cancer\", \"31 Day Wait for first treatment By Cancer\", \"31 Day Wait for first treatment By Cancer\", \"31 Day Wait for first treatment By Cancer\", \"31 Day Wait for first treatment By Cancer\", \"31 Day Wait for first treatment By Cancer\", \"31 Day Wait for first treatment By Cancer\", \"31 Day Wait for first treatment By Cancer\", \"31 Day Wait for first treatment By Cancer\", \"31 Day Wait for first treatment By Cancer\", \"31 Day Wait for first treatment By Cancer\", \"31 Day Wait for first treatment By Cancer\", \"31 Day Wait for first treatment By Cancer\", \"31 Day Wait for first treatment By Cancer\", \"31 Day Wait for first treatment By Cancer\", \"31 Day Wait for first treatment By Cancer\", \"31 Day Wait for first treatment By Cancer\", \"31 Day Wait for first treatment By Cancer\", \"31 Day Wait for first treatment By Cancer\", \"31 Day Wait for first treatment By Cancer\", \"31 Day Wait for first treatment By Cancer\", \"31 Day Wait for first treatment By Cancer\", \"31 Day Wait for first treatment By Cancer\", \"31 Day Wait for first treatment By Cancer\", \"31 Day Wait for first treatment By Cancer\", \"31 Day Wait for first treatment By Cancer\", \"31 Day Wait for first treatment By Cancer\", \"31 Day Wait for first treatment By Cancer\", \"31 Day Wait for first treatment By Cancer\", \"31 Day Wait for first treatment By Cancer\", \"31 Day Wait for first treatment By Cancer\", \"31 Day Wait for first treatment By Cancer\", \"31 Day Wait for first treatment By Cancer\", \"31 Day Wait for first treatment By Cancer\", \"31 Day Wait for first treatment By Cancer\", \"31 Day Wait for first treatment By Cancer\", \"31 Day Wait for first treatment By Cancer\", \"31 Day Wait for first treatment By Cancer\", \"31 Day Wait for first treatment By Cancer\", \"31 Day Wait for first treatment By Cancer\", \"62 Day Wait for first treatment By Cancer\", \"62 Day Wait for first treatment By Cancer\", \"62 Day Wait for first treatment By Cancer\", \"62 Day Wait for first treatment By Cancer\", \"62 Day Wait for first treatment By Cancer\", \"62 Day Wait for first treatment By Cancer\", \"62 Day Wait for first treatment By Cancer\", \"62 Day Wait for first treatment By Cancer\", \"62 Day Wait for first treatment By Cancer\", \"62 Day Wait for first treatment By Cancer\", \"62 Day Wait for first treatment By Cancer\", \"62 Day Wait for first treatment By Cancer\", \"62 Day Wait for first treatment By Cancer\", \"62 Day Wait for first treatment By Cancer\", \"62 Day Wait for first treatment By Cancer\", \"62 Day Wait for first treatment By Cancer\", \"62 Day Wait for first treatment By Cancer\", \"62 Day Wait for first treatment By Cancer\", \"62 Day Wait for first treatment By Cancer\", \"62 Day Wait for first treatment By Cancer\", \"62 Day Wait for first treatment By Cancer\", \"62 Day Wait for first treatment By Cancer\", \"62 Day Wait for first treatment By Cancer\", \"62 Day Wait for first treatment By Cancer\", \"62 Day Wait for first treatment By Cancer\", \"62 Day Wait for first treatment By Cancer\", \"62 Day Wait for first treatment By Cancer\", \"62 Day Wait for first treatment By Cancer\", \"62 Day Wait for first treatment By Cancer\", \"62 Day Wait for first treatment By Cancer\", \"62 Day Wait for first treatment By Cancer\", \"62 Day Wait for first treatment By Cancer\", \"62 Day Wait for first treatment By Cancer\", \"62 Day Wait for first treatment By Cancer\", \"62 Day Wait for first treatment By Cancer\", \"62 Day Wait for first treatment By Cancer\", \"62 Day Wait for first treatment By Cancer\", \"62 Day Wait for first treatment By Cancer\", \"62 Day Wait for first treatment By Cancer\", \"62 Day Wait for first treatment By Cancer\", \"62 Day Wait for first treatment By Cancer\", \"62 Day Wait for first treatment By Cancer\", \"62 Day Wait for first treatment By Cancer\", \"62 Day Wait for first treatment By Cancer\", \"62 Day Wait for first treatment By Cancer\", \"62 Day Wait for first treatment By Cancer\", \"62 Day Wait for first treatment By Cancer\", \"62 Day Wait for first treatment By Cancer\", \"62 Day Wait for first treatment By Cancer\", \"62 Day Wait for first treatment By Cancer\", \"62 Day Wait for first treatment By Cancer\", \"62 Day Wait for first treatment By Cancer\", \"62 Day Wait for first treatment By Cancer\"], \"y0\": \" \", \"yaxis\": \"y\"}],\n",
       "                        {\"boxmode\": \"group\", \"legend\": {\"tracegroupgap\": 0}, \"template\": {\"data\": {\"bar\": [{\"error_x\": {\"color\": \"#2a3f5f\"}, \"error_y\": {\"color\": \"#2a3f5f\"}, \"marker\": {\"line\": {\"color\": \"#E5ECF6\", \"width\": 0.5}}, \"type\": \"bar\"}], \"barpolar\": [{\"marker\": {\"line\": {\"color\": \"#E5ECF6\", \"width\": 0.5}}, \"type\": \"barpolar\"}], \"carpet\": [{\"aaxis\": {\"endlinecolor\": \"#2a3f5f\", \"gridcolor\": \"white\", \"linecolor\": \"white\", \"minorgridcolor\": \"white\", \"startlinecolor\": \"#2a3f5f\"}, \"baxis\": {\"endlinecolor\": \"#2a3f5f\", \"gridcolor\": \"white\", \"linecolor\": \"white\", \"minorgridcolor\": \"white\", \"startlinecolor\": \"#2a3f5f\"}, \"type\": \"carpet\"}], \"choropleth\": [{\"colorbar\": {\"outlinewidth\": 0, \"ticks\": \"\"}, \"type\": \"choropleth\"}], \"contour\": [{\"colorbar\": {\"outlinewidth\": 0, \"ticks\": \"\"}, \"colorscale\": [[0.0, \"#0d0887\"], [0.1111111111111111, \"#46039f\"], [0.2222222222222222, \"#7201a8\"], [0.3333333333333333, \"#9c179e\"], [0.4444444444444444, \"#bd3786\"], [0.5555555555555556, \"#d8576b\"], [0.6666666666666666, \"#ed7953\"], [0.7777777777777778, \"#fb9f3a\"], [0.8888888888888888, \"#fdca26\"], [1.0, \"#f0f921\"]], \"type\": \"contour\"}], \"contourcarpet\": [{\"colorbar\": {\"outlinewidth\": 0, \"ticks\": \"\"}, \"type\": \"contourcarpet\"}], \"heatmap\": [{\"colorbar\": {\"outlinewidth\": 0, \"ticks\": \"\"}, \"colorscale\": [[0.0, \"#0d0887\"], [0.1111111111111111, \"#46039f\"], [0.2222222222222222, \"#7201a8\"], [0.3333333333333333, \"#9c179e\"], [0.4444444444444444, \"#bd3786\"], [0.5555555555555556, \"#d8576b\"], [0.6666666666666666, \"#ed7953\"], [0.7777777777777778, \"#fb9f3a\"], [0.8888888888888888, \"#fdca26\"], [1.0, \"#f0f921\"]], \"type\": \"heatmap\"}], \"heatmapgl\": [{\"colorbar\": {\"outlinewidth\": 0, \"ticks\": \"\"}, \"colorscale\": [[0.0, \"#0d0887\"], [0.1111111111111111, \"#46039f\"], [0.2222222222222222, \"#7201a8\"], [0.3333333333333333, \"#9c179e\"], [0.4444444444444444, \"#bd3786\"], [0.5555555555555556, \"#d8576b\"], [0.6666666666666666, \"#ed7953\"], [0.7777777777777778, \"#fb9f3a\"], [0.8888888888888888, \"#fdca26\"], [1.0, \"#f0f921\"]], \"type\": \"heatmapgl\"}], \"histogram\": [{\"marker\": {\"colorbar\": {\"outlinewidth\": 0, \"ticks\": \"\"}}, \"type\": \"histogram\"}], \"histogram2d\": [{\"colorbar\": {\"outlinewidth\": 0, \"ticks\": \"\"}, \"colorscale\": [[0.0, \"#0d0887\"], [0.1111111111111111, \"#46039f\"], [0.2222222222222222, \"#7201a8\"], [0.3333333333333333, \"#9c179e\"], [0.4444444444444444, \"#bd3786\"], [0.5555555555555556, \"#d8576b\"], [0.6666666666666666, \"#ed7953\"], [0.7777777777777778, \"#fb9f3a\"], [0.8888888888888888, \"#fdca26\"], [1.0, \"#f0f921\"]], \"type\": \"histogram2d\"}], \"histogram2dcontour\": [{\"colorbar\": {\"outlinewidth\": 0, \"ticks\": \"\"}, \"colorscale\": [[0.0, \"#0d0887\"], [0.1111111111111111, \"#46039f\"], [0.2222222222222222, \"#7201a8\"], [0.3333333333333333, \"#9c179e\"], [0.4444444444444444, \"#bd3786\"], [0.5555555555555556, \"#d8576b\"], [0.6666666666666666, \"#ed7953\"], [0.7777777777777778, \"#fb9f3a\"], [0.8888888888888888, \"#fdca26\"], [1.0, \"#f0f921\"]], \"type\": \"histogram2dcontour\"}], \"mesh3d\": [{\"colorbar\": {\"outlinewidth\": 0, \"ticks\": \"\"}, \"type\": \"mesh3d\"}], \"parcoords\": [{\"line\": {\"colorbar\": {\"outlinewidth\": 0, \"ticks\": \"\"}}, \"type\": \"parcoords\"}], \"pie\": [{\"automargin\": true, \"type\": \"pie\"}], \"scatter\": [{\"marker\": {\"colorbar\": {\"outlinewidth\": 0, \"ticks\": \"\"}}, \"type\": \"scatter\"}], \"scatter3d\": [{\"line\": {\"colorbar\": {\"outlinewidth\": 0, \"ticks\": \"\"}}, \"marker\": {\"colorbar\": {\"outlinewidth\": 0, \"ticks\": \"\"}}, \"type\": \"scatter3d\"}], \"scattercarpet\": [{\"marker\": {\"colorbar\": {\"outlinewidth\": 0, \"ticks\": \"\"}}, \"type\": \"scattercarpet\"}], \"scattergeo\": [{\"marker\": {\"colorbar\": {\"outlinewidth\": 0, \"ticks\": \"\"}}, \"type\": \"scattergeo\"}], \"scattergl\": [{\"marker\": {\"colorbar\": {\"outlinewidth\": 0, \"ticks\": \"\"}}, \"type\": \"scattergl\"}], \"scattermapbox\": [{\"marker\": {\"colorbar\": {\"outlinewidth\": 0, \"ticks\": \"\"}}, \"type\": \"scattermapbox\"}], \"scatterpolar\": [{\"marker\": {\"colorbar\": {\"outlinewidth\": 0, \"ticks\": \"\"}}, \"type\": \"scatterpolar\"}], \"scatterpolargl\": [{\"marker\": {\"colorbar\": {\"outlinewidth\": 0, \"ticks\": \"\"}}, \"type\": \"scatterpolargl\"}], \"scatterternary\": [{\"marker\": {\"colorbar\": {\"outlinewidth\": 0, \"ticks\": \"\"}}, \"type\": \"scatterternary\"}], \"surface\": [{\"colorbar\": {\"outlinewidth\": 0, \"ticks\": \"\"}, \"colorscale\": [[0.0, \"#0d0887\"], [0.1111111111111111, \"#46039f\"], [0.2222222222222222, \"#7201a8\"], [0.3333333333333333, \"#9c179e\"], [0.4444444444444444, \"#bd3786\"], [0.5555555555555556, \"#d8576b\"], [0.6666666666666666, \"#ed7953\"], [0.7777777777777778, \"#fb9f3a\"], [0.8888888888888888, \"#fdca26\"], [1.0, \"#f0f921\"]], \"type\": \"surface\"}], \"table\": [{\"cells\": {\"fill\": {\"color\": \"#EBF0F8\"}, \"line\": {\"color\": \"white\"}}, \"header\": {\"fill\": {\"color\": \"#C8D4E3\"}, \"line\": {\"color\": \"white\"}}, \"type\": \"table\"}]}, \"layout\": {\"annotationdefaults\": {\"arrowcolor\": \"#2a3f5f\", \"arrowhead\": 0, \"arrowwidth\": 1}, \"coloraxis\": {\"colorbar\": {\"outlinewidth\": 0, \"ticks\": \"\"}}, \"colorscale\": {\"diverging\": [[0, \"#8e0152\"], [0.1, \"#c51b7d\"], [0.2, \"#de77ae\"], [0.3, \"#f1b6da\"], [0.4, \"#fde0ef\"], [0.5, \"#f7f7f7\"], [0.6, \"#e6f5d0\"], [0.7, \"#b8e186\"], [0.8, \"#7fbc41\"], [0.9, \"#4d9221\"], [1, \"#276419\"]], \"sequential\": [[0.0, \"#0d0887\"], [0.1111111111111111, \"#46039f\"], [0.2222222222222222, \"#7201a8\"], [0.3333333333333333, \"#9c179e\"], [0.4444444444444444, \"#bd3786\"], [0.5555555555555556, \"#d8576b\"], [0.6666666666666666, \"#ed7953\"], [0.7777777777777778, \"#fb9f3a\"], [0.8888888888888888, \"#fdca26\"], [1.0, \"#f0f921\"]], \"sequentialminus\": [[0.0, \"#0d0887\"], [0.1111111111111111, \"#46039f\"], [0.2222222222222222, \"#7201a8\"], [0.3333333333333333, \"#9c179e\"], [0.4444444444444444, \"#bd3786\"], [0.5555555555555556, \"#d8576b\"], [0.6666666666666666, \"#ed7953\"], [0.7777777777777778, \"#fb9f3a\"], [0.8888888888888888, \"#fdca26\"], [1.0, \"#f0f921\"]]}, \"colorway\": [\"#636efa\", \"#EF553B\", \"#00cc96\", \"#ab63fa\", \"#FFA15A\", \"#19d3f3\", \"#FF6692\", \"#B6E880\", \"#FF97FF\", \"#FECB52\"], \"font\": {\"color\": \"#2a3f5f\"}, \"geo\": {\"bgcolor\": \"white\", \"lakecolor\": \"white\", \"landcolor\": \"#E5ECF6\", \"showlakes\": true, \"showland\": true, \"subunitcolor\": \"white\"}, \"hoverlabel\": {\"align\": \"left\"}, \"hovermode\": \"closest\", \"mapbox\": {\"style\": \"light\"}, \"paper_bgcolor\": \"white\", \"plot_bgcolor\": \"#E5ECF6\", \"polar\": {\"angularaxis\": {\"gridcolor\": \"white\", \"linecolor\": \"white\", \"ticks\": \"\"}, \"bgcolor\": \"#E5ECF6\", \"radialaxis\": {\"gridcolor\": \"white\", \"linecolor\": \"white\", \"ticks\": \"\"}}, \"scene\": {\"xaxis\": {\"backgroundcolor\": \"#E5ECF6\", \"gridcolor\": \"white\", \"gridwidth\": 2, \"linecolor\": \"white\", \"showbackground\": true, \"ticks\": \"\", \"zerolinecolor\": \"white\"}, \"yaxis\": {\"backgroundcolor\": \"#E5ECF6\", \"gridcolor\": \"white\", \"gridwidth\": 2, \"linecolor\": \"white\", \"showbackground\": true, \"ticks\": \"\", \"zerolinecolor\": \"white\"}, \"zaxis\": {\"backgroundcolor\": \"#E5ECF6\", \"gridcolor\": \"white\", \"gridwidth\": 2, \"linecolor\": \"white\", \"showbackground\": true, \"ticks\": \"\", \"zerolinecolor\": \"white\"}}, \"shapedefaults\": {\"line\": {\"color\": \"#2a3f5f\"}}, \"ternary\": {\"aaxis\": {\"gridcolor\": \"white\", \"linecolor\": \"white\", \"ticks\": \"\"}, \"baxis\": {\"gridcolor\": \"white\", \"linecolor\": \"white\", \"ticks\": \"\"}, \"bgcolor\": \"#E5ECF6\", \"caxis\": {\"gridcolor\": \"white\", \"linecolor\": \"white\", \"ticks\": \"\"}}, \"title\": {\"x\": 0.05}, \"xaxis\": {\"automargin\": true, \"gridcolor\": \"white\", \"linecolor\": \"white\", \"ticks\": \"\", \"title\": {\"standoff\": 15}, \"zerolinecolor\": \"white\", \"zerolinewidth\": 2}, \"yaxis\": {\"automargin\": true, \"gridcolor\": \"white\", \"linecolor\": \"white\", \"ticks\": \"\", \"title\": {\"standoff\": 15}, \"zerolinecolor\": \"white\", \"zerolinewidth\": 2}}}, \"title\": {\"text\": \"Mean Percentage Breaches Cancer Waiting Targets\"}, \"xaxis\": {\"anchor\": \"y\", \"domain\": [0.0, 1.0], \"title\": {\"text\": \"Percentage\"}}, \"yaxis\": {\"anchor\": \"x\", \"domain\": [0.0, 1.0], \"title\": {\"text\": \"Measure\"}}},\n",
       "                        {\"responsive\": true}\n",
       "                    ).then(function(){\n",
       "                            \n",
       "var gd = document.getElementById('45834f4f-56ca-487c-9eca-df0109c688c7');\n",
       "var x = new MutationObserver(function (mutations, observer) {{\n",
       "        var display = window.getComputedStyle(gd).display;\n",
       "        if (!display || display === 'none') {{\n",
       "            console.log([gd, 'removed!']);\n",
       "            Plotly.purge(gd);\n",
       "            observer.disconnect();\n",
       "        }}\n",
       "}});\n",
       "\n",
       "// Listen for the removal of the full notebook cells\n",
       "var notebookContainer = gd.closest('#notebook-container');\n",
       "if (notebookContainer) {{\n",
       "    x.observe(notebookContainer, {childList: true});\n",
       "}}\n",
       "\n",
       "// Listen for the clearing of the current output cell\n",
       "var outputEl = gd.closest('.output');\n",
       "if (outputEl) {{\n",
       "    x.observe(outputEl, {childList: true});\n",
       "}}\n",
       "\n",
       "                        })\n",
       "                };\n",
       "                });\n",
       "            </script>\n",
       "        </div>"
      ]
     },
     "metadata": {},
     "output_type": "display_data"
    }
   ],
   "source": [
    "# df_cancer_hamp['Percentage'] = (1 - df_cancer_hamp['Percentage']) * 100\n",
    "fig = px.box(df_cancer_hamp, x='Percentage', color='Name', y='Measure', title='Mean Percentage Breaches Cancer Waiting Targets')\n",
    "fig.update_traces(orientation='h')\n",
    "fig.show()"
   ]
  },
  {
   "cell_type": "code",
   "execution_count": null,
   "metadata": {},
   "outputs": [],
   "source": []
  }
 ],
 "metadata": {
  "kernelspec": {
   "display_name": "Python 3",
   "language": "python",
   "name": "python3"
  },
  "language_info": {
   "codemirror_mode": {
    "name": "ipython",
    "version": 3
   },
   "file_extension": ".py",
   "mimetype": "text/x-python",
   "name": "python",
   "nbconvert_exporter": "python",
   "pygments_lexer": "ipython3",
   "version": "3.7.1"
  }
 },
 "nbformat": 4,
 "nbformat_minor": 4
}
